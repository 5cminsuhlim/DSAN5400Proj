{
  "nbformat": 4,
  "nbformat_minor": 0,
  "metadata": {
    "colab": {
      "provenance": [],
      "machine_shape": "hm",
      "gpuType": "A100"
    },
    "kernelspec": {
      "name": "python3",
      "display_name": "Python 3"
    },
    "language_info": {
      "name": "python"
    },
    "accelerator": "GPU"
  },
  "cells": [
    {
      "cell_type": "code",
      "execution_count": 1,
      "metadata": {
        "id": "D2Wg0Pg2nm_g"
      },
      "outputs": [],
      "source": [
        "import pandas as pd\n",
        "import keras\n",
        "import tensorflow as tf\n",
        "import numpy as np\n",
        "from keras import layers\n",
        "from keras.preprocessing.sequence import pad_sequences\n",
        "from keras.layers import Input, Dense, LSTM, Embedding\n",
        "from keras.layers import Dropout, Activation, Bidirectional, GlobalMaxPool1D\n",
        "from keras.models import Sequential\n",
        "from keras import initializers, regularizers, constraints, optimizers\n",
        "from keras.preprocessing import *\n",
        "from sklearn.model_selection import train_test_split\n"
      ]
    },
    {
      "cell_type": "code",
      "source": [
        "from google.colab import drive\n",
        "drive.mount('/content/drive')\n"
      ],
      "metadata": {
        "colab": {
          "base_uri": "https://localhost:8080/"
        },
        "id": "E0PGkdE5nq4E",
        "outputId": "161df492-1eba-40ed-9816-aac96eafdbda"
      },
      "execution_count": 2,
      "outputs": [
        {
          "output_type": "stream",
          "name": "stdout",
          "text": [
            "Mounted at /content/drive\n"
          ]
        }
      ]
    },
    {
      "cell_type": "code",
      "source": [
        "import os\n",
        "os.getcwd()"
      ],
      "metadata": {
        "colab": {
          "base_uri": "https://localhost:8080/",
          "height": 35
        },
        "id": "OSsGM3S5oIqE",
        "outputId": "a690be33-bf61-45df-845b-a2435b3355f2"
      },
      "execution_count": 3,
      "outputs": [
        {
          "output_type": "execute_result",
          "data": {
            "text/plain": [
              "'/content'"
            ],
            "application/vnd.google.colaboratory.intrinsic+json": {
              "type": "string"
            }
          },
          "metadata": {},
          "execution_count": 3
        }
      ]
    },
    {
      "cell_type": "code",
      "source": [
        "os.listdir()"
      ],
      "metadata": {
        "colab": {
          "base_uri": "https://localhost:8080/"
        },
        "id": "fV22JUh9olO0",
        "outputId": "6506ff80-f2e2-4d87-ceb3-45228338e8db"
      },
      "execution_count": 4,
      "outputs": [
        {
          "output_type": "execute_result",
          "data": {
            "text/plain": [
              "['.config', 'drive', 'sample_data']"
            ]
          },
          "metadata": {},
          "execution_count": 4
        }
      ]
    },
    {
      "cell_type": "code",
      "source": [
        "df_train = pd.read_csv(\"drive/MyDrive/train_cleaned_vec.csv\", index_col = 0)\n",
        "df_test = pd.read_csv(\"drive/MyDrive/test_cleaned_vec.csv\", index_col = 0)\n",
        "\n",
        "dfs = [df_train, df_test]\n",
        "df = pd.concat(dfs)\n"
      ],
      "metadata": {
        "id": "oVgnzlPBnwiS"
      },
      "execution_count": 5,
      "outputs": []
    },
    {
      "cell_type": "code",
      "source": [
        "# Shuffle data to remove any bias present in order\n",
        "df = df.sample(frac = 1)\n",
        "\n",
        "# Reset index and drop original index column\n",
        "df = df.reset_index(drop = True)\n",
        "\n",
        "df.head()"
      ],
      "metadata": {
        "colab": {
          "base_uri": "https://localhost:8080/",
          "height": 206
        },
        "id": "ijuHr81rA2hX",
        "outputId": "68a817d6-52c6-4a80-83e2-0e3394909ba2"
      },
      "execution_count": 6,
      "outputs": [
        {
          "output_type": "execute_result",
          "data": {
            "text/plain": [
              "   label                                               text       label_str  \\\n",
              "0      5  urodynamic morbidity dysuria prophylaxis group...    pathological   \n",
              "1      1  lack effect pregnancy outcome melanoma world h...       neoplasms   \n",
              "2      5  exposure intracavernous carotid artery aneurys...    pathological   \n",
              "3      4  coronary blood flow dogs contractile dysfuncti...  cardiovascular   \n",
              "4      1  ectatic blood vessels port wine stains lack in...       neoplasms   \n",
              "\n",
              "                                      tokenized_text  \\\n",
              "0  ['urodynamic', 'morbidity', 'dysuria', 'prophy...   \n",
              "1  ['lack', 'effect', 'pregnancy', 'outcome', 'me...   \n",
              "2  ['exposure', 'intracavernous', 'carotid', 'art...   \n",
              "3  ['coronary', 'blood', 'flow', 'dogs', 'contrac...   \n",
              "4  ['ectatic', 'blood', 'vessels', 'port', 'wine'...   \n",
              "\n",
              "                                         word_vector  \\\n",
              "0  [-0.51320714 -0.04813077 -0.3158617   0.499952...   \n",
              "1  [-0.6884897  -0.338992   -0.37078735  0.623095...   \n",
              "2  [ 2.4191120e-01  2.2851223e-01  5.5464220e-01 ...   \n",
              "3  [-0.01340567  0.50977886  0.3093509   0.144892...   \n",
              "4  [-0.13627407  0.23747823  0.0885198   0.026780...   \n",
              "\n",
              "                                          doc_vector  \n",
              "0  [-0.14163868 -0.13445656 -0.06472661  0.088845...  \n",
              "1  [-0.22766767 -0.4249245  -0.14566635  0.116552...  \n",
              "2  [ 0.1539317   0.33731422  0.67510664 -0.407551...  \n",
              "3  [ 0.24902238  0.23159806  0.84016675 -0.072435...  \n",
              "4  [ 0.0532054   0.12003578  0.40478513 -0.269387...  "
            ],
            "text/html": [
              "\n",
              "  <div id=\"df-bbe059e5-344e-42f7-add0-90962149f95c\" class=\"colab-df-container\">\n",
              "    <div>\n",
              "<style scoped>\n",
              "    .dataframe tbody tr th:only-of-type {\n",
              "        vertical-align: middle;\n",
              "    }\n",
              "\n",
              "    .dataframe tbody tr th {\n",
              "        vertical-align: top;\n",
              "    }\n",
              "\n",
              "    .dataframe thead th {\n",
              "        text-align: right;\n",
              "    }\n",
              "</style>\n",
              "<table border=\"1\" class=\"dataframe\">\n",
              "  <thead>\n",
              "    <tr style=\"text-align: right;\">\n",
              "      <th></th>\n",
              "      <th>label</th>\n",
              "      <th>text</th>\n",
              "      <th>label_str</th>\n",
              "      <th>tokenized_text</th>\n",
              "      <th>word_vector</th>\n",
              "      <th>doc_vector</th>\n",
              "    </tr>\n",
              "  </thead>\n",
              "  <tbody>\n",
              "    <tr>\n",
              "      <th>0</th>\n",
              "      <td>5</td>\n",
              "      <td>urodynamic morbidity dysuria prophylaxis group...</td>\n",
              "      <td>pathological</td>\n",
              "      <td>['urodynamic', 'morbidity', 'dysuria', 'prophy...</td>\n",
              "      <td>[-0.51320714 -0.04813077 -0.3158617   0.499952...</td>\n",
              "      <td>[-0.14163868 -0.13445656 -0.06472661  0.088845...</td>\n",
              "    </tr>\n",
              "    <tr>\n",
              "      <th>1</th>\n",
              "      <td>1</td>\n",
              "      <td>lack effect pregnancy outcome melanoma world h...</td>\n",
              "      <td>neoplasms</td>\n",
              "      <td>['lack', 'effect', 'pregnancy', 'outcome', 'me...</td>\n",
              "      <td>[-0.6884897  -0.338992   -0.37078735  0.623095...</td>\n",
              "      <td>[-0.22766767 -0.4249245  -0.14566635  0.116552...</td>\n",
              "    </tr>\n",
              "    <tr>\n",
              "      <th>2</th>\n",
              "      <td>5</td>\n",
              "      <td>exposure intracavernous carotid artery aneurys...</td>\n",
              "      <td>pathological</td>\n",
              "      <td>['exposure', 'intracavernous', 'carotid', 'art...</td>\n",
              "      <td>[ 2.4191120e-01  2.2851223e-01  5.5464220e-01 ...</td>\n",
              "      <td>[ 0.1539317   0.33731422  0.67510664 -0.407551...</td>\n",
              "    </tr>\n",
              "    <tr>\n",
              "      <th>3</th>\n",
              "      <td>4</td>\n",
              "      <td>coronary blood flow dogs contractile dysfuncti...</td>\n",
              "      <td>cardiovascular</td>\n",
              "      <td>['coronary', 'blood', 'flow', 'dogs', 'contrac...</td>\n",
              "      <td>[-0.01340567  0.50977886  0.3093509   0.144892...</td>\n",
              "      <td>[ 0.24902238  0.23159806  0.84016675 -0.072435...</td>\n",
              "    </tr>\n",
              "    <tr>\n",
              "      <th>4</th>\n",
              "      <td>1</td>\n",
              "      <td>ectatic blood vessels port wine stains lack in...</td>\n",
              "      <td>neoplasms</td>\n",
              "      <td>['ectatic', 'blood', 'vessels', 'port', 'wine'...</td>\n",
              "      <td>[-0.13627407  0.23747823  0.0885198   0.026780...</td>\n",
              "      <td>[ 0.0532054   0.12003578  0.40478513 -0.269387...</td>\n",
              "    </tr>\n",
              "  </tbody>\n",
              "</table>\n",
              "</div>\n",
              "    <div class=\"colab-df-buttons\">\n",
              "\n",
              "  <div class=\"colab-df-container\">\n",
              "    <button class=\"colab-df-convert\" onclick=\"convertToInteractive('df-bbe059e5-344e-42f7-add0-90962149f95c')\"\n",
              "            title=\"Convert this dataframe to an interactive table.\"\n",
              "            style=\"display:none;\">\n",
              "\n",
              "  <svg xmlns=\"http://www.w3.org/2000/svg\" height=\"24px\" viewBox=\"0 -960 960 960\">\n",
              "    <path d=\"M120-120v-720h720v720H120Zm60-500h600v-160H180v160Zm220 220h160v-160H400v160Zm0 220h160v-160H400v160ZM180-400h160v-160H180v160Zm440 0h160v-160H620v160ZM180-180h160v-160H180v160Zm440 0h160v-160H620v160Z\"/>\n",
              "  </svg>\n",
              "    </button>\n",
              "\n",
              "  <style>\n",
              "    .colab-df-container {\n",
              "      display:flex;\n",
              "      gap: 12px;\n",
              "    }\n",
              "\n",
              "    .colab-df-convert {\n",
              "      background-color: #E8F0FE;\n",
              "      border: none;\n",
              "      border-radius: 50%;\n",
              "      cursor: pointer;\n",
              "      display: none;\n",
              "      fill: #1967D2;\n",
              "      height: 32px;\n",
              "      padding: 0 0 0 0;\n",
              "      width: 32px;\n",
              "    }\n",
              "\n",
              "    .colab-df-convert:hover {\n",
              "      background-color: #E2EBFA;\n",
              "      box-shadow: 0px 1px 2px rgba(60, 64, 67, 0.3), 0px 1px 3px 1px rgba(60, 64, 67, 0.15);\n",
              "      fill: #174EA6;\n",
              "    }\n",
              "\n",
              "    .colab-df-buttons div {\n",
              "      margin-bottom: 4px;\n",
              "    }\n",
              "\n",
              "    [theme=dark] .colab-df-convert {\n",
              "      background-color: #3B4455;\n",
              "      fill: #D2E3FC;\n",
              "    }\n",
              "\n",
              "    [theme=dark] .colab-df-convert:hover {\n",
              "      background-color: #434B5C;\n",
              "      box-shadow: 0px 1px 3px 1px rgba(0, 0, 0, 0.15);\n",
              "      filter: drop-shadow(0px 1px 2px rgba(0, 0, 0, 0.3));\n",
              "      fill: #FFFFFF;\n",
              "    }\n",
              "  </style>\n",
              "\n",
              "    <script>\n",
              "      const buttonEl =\n",
              "        document.querySelector('#df-bbe059e5-344e-42f7-add0-90962149f95c button.colab-df-convert');\n",
              "      buttonEl.style.display =\n",
              "        google.colab.kernel.accessAllowed ? 'block' : 'none';\n",
              "\n",
              "      async function convertToInteractive(key) {\n",
              "        const element = document.querySelector('#df-bbe059e5-344e-42f7-add0-90962149f95c');\n",
              "        const dataTable =\n",
              "          await google.colab.kernel.invokeFunction('convertToInteractive',\n",
              "                                                    [key], {});\n",
              "        if (!dataTable) return;\n",
              "\n",
              "        const docLinkHtml = 'Like what you see? Visit the ' +\n",
              "          '<a target=\"_blank\" href=https://colab.research.google.com/notebooks/data_table.ipynb>data table notebook</a>'\n",
              "          + ' to learn more about interactive tables.';\n",
              "        element.innerHTML = '';\n",
              "        dataTable['output_type'] = 'display_data';\n",
              "        await google.colab.output.renderOutput(dataTable, element);\n",
              "        const docLink = document.createElement('div');\n",
              "        docLink.innerHTML = docLinkHtml;\n",
              "        element.appendChild(docLink);\n",
              "      }\n",
              "    </script>\n",
              "  </div>\n",
              "\n",
              "\n",
              "<div id=\"df-9203f373-c0f5-47ec-b05d-545a0658df7f\">\n",
              "  <button class=\"colab-df-quickchart\" onclick=\"quickchart('df-9203f373-c0f5-47ec-b05d-545a0658df7f')\"\n",
              "            title=\"Suggest charts\"\n",
              "            style=\"display:none;\">\n",
              "\n",
              "<svg xmlns=\"http://www.w3.org/2000/svg\" height=\"24px\"viewBox=\"0 0 24 24\"\n",
              "     width=\"24px\">\n",
              "    <g>\n",
              "        <path d=\"M19 3H5c-1.1 0-2 .9-2 2v14c0 1.1.9 2 2 2h14c1.1 0 2-.9 2-2V5c0-1.1-.9-2-2-2zM9 17H7v-7h2v7zm4 0h-2V7h2v10zm4 0h-2v-4h2v4z\"/>\n",
              "    </g>\n",
              "</svg>\n",
              "  </button>\n",
              "\n",
              "<style>\n",
              "  .colab-df-quickchart {\n",
              "      --bg-color: #E8F0FE;\n",
              "      --fill-color: #1967D2;\n",
              "      --hover-bg-color: #E2EBFA;\n",
              "      --hover-fill-color: #174EA6;\n",
              "      --disabled-fill-color: #AAA;\n",
              "      --disabled-bg-color: #DDD;\n",
              "  }\n",
              "\n",
              "  [theme=dark] .colab-df-quickchart {\n",
              "      --bg-color: #3B4455;\n",
              "      --fill-color: #D2E3FC;\n",
              "      --hover-bg-color: #434B5C;\n",
              "      --hover-fill-color: #FFFFFF;\n",
              "      --disabled-bg-color: #3B4455;\n",
              "      --disabled-fill-color: #666;\n",
              "  }\n",
              "\n",
              "  .colab-df-quickchart {\n",
              "    background-color: var(--bg-color);\n",
              "    border: none;\n",
              "    border-radius: 50%;\n",
              "    cursor: pointer;\n",
              "    display: none;\n",
              "    fill: var(--fill-color);\n",
              "    height: 32px;\n",
              "    padding: 0;\n",
              "    width: 32px;\n",
              "  }\n",
              "\n",
              "  .colab-df-quickchart:hover {\n",
              "    background-color: var(--hover-bg-color);\n",
              "    box-shadow: 0 1px 2px rgba(60, 64, 67, 0.3), 0 1px 3px 1px rgba(60, 64, 67, 0.15);\n",
              "    fill: var(--button-hover-fill-color);\n",
              "  }\n",
              "\n",
              "  .colab-df-quickchart-complete:disabled,\n",
              "  .colab-df-quickchart-complete:disabled:hover {\n",
              "    background-color: var(--disabled-bg-color);\n",
              "    fill: var(--disabled-fill-color);\n",
              "    box-shadow: none;\n",
              "  }\n",
              "\n",
              "  .colab-df-spinner {\n",
              "    border: 2px solid var(--fill-color);\n",
              "    border-color: transparent;\n",
              "    border-bottom-color: var(--fill-color);\n",
              "    animation:\n",
              "      spin 1s steps(1) infinite;\n",
              "  }\n",
              "\n",
              "  @keyframes spin {\n",
              "    0% {\n",
              "      border-color: transparent;\n",
              "      border-bottom-color: var(--fill-color);\n",
              "      border-left-color: var(--fill-color);\n",
              "    }\n",
              "    20% {\n",
              "      border-color: transparent;\n",
              "      border-left-color: var(--fill-color);\n",
              "      border-top-color: var(--fill-color);\n",
              "    }\n",
              "    30% {\n",
              "      border-color: transparent;\n",
              "      border-left-color: var(--fill-color);\n",
              "      border-top-color: var(--fill-color);\n",
              "      border-right-color: var(--fill-color);\n",
              "    }\n",
              "    40% {\n",
              "      border-color: transparent;\n",
              "      border-right-color: var(--fill-color);\n",
              "      border-top-color: var(--fill-color);\n",
              "    }\n",
              "    60% {\n",
              "      border-color: transparent;\n",
              "      border-right-color: var(--fill-color);\n",
              "    }\n",
              "    80% {\n",
              "      border-color: transparent;\n",
              "      border-right-color: var(--fill-color);\n",
              "      border-bottom-color: var(--fill-color);\n",
              "    }\n",
              "    90% {\n",
              "      border-color: transparent;\n",
              "      border-bottom-color: var(--fill-color);\n",
              "    }\n",
              "  }\n",
              "</style>\n",
              "\n",
              "  <script>\n",
              "    async function quickchart(key) {\n",
              "      const quickchartButtonEl =\n",
              "        document.querySelector('#' + key + ' button');\n",
              "      quickchartButtonEl.disabled = true;  // To prevent multiple clicks.\n",
              "      quickchartButtonEl.classList.add('colab-df-spinner');\n",
              "      try {\n",
              "        const charts = await google.colab.kernel.invokeFunction(\n",
              "            'suggestCharts', [key], {});\n",
              "      } catch (error) {\n",
              "        console.error('Error during call to suggestCharts:', error);\n",
              "      }\n",
              "      quickchartButtonEl.classList.remove('colab-df-spinner');\n",
              "      quickchartButtonEl.classList.add('colab-df-quickchart-complete');\n",
              "    }\n",
              "    (() => {\n",
              "      let quickchartButtonEl =\n",
              "        document.querySelector('#df-9203f373-c0f5-47ec-b05d-545a0658df7f button');\n",
              "      quickchartButtonEl.style.display =\n",
              "        google.colab.kernel.accessAllowed ? 'block' : 'none';\n",
              "    })();\n",
              "  </script>\n",
              "</div>\n",
              "\n",
              "    </div>\n",
              "  </div>\n"
            ],
            "application/vnd.google.colaboratory.intrinsic+json": {
              "type": "dataframe",
              "variable_name": "df",
              "summary": "{\n  \"name\": \"df\",\n  \"rows\": 14438,\n  \"fields\": [\n    {\n      \"column\": \"label\",\n      \"properties\": {\n        \"dtype\": \"number\",\n        \"std\": 1,\n        \"min\": 1,\n        \"max\": 5,\n        \"num_unique_values\": 5,\n        \"samples\": [\n          1,\n          2,\n          4\n        ],\n        \"semantic_type\": \"\",\n        \"description\": \"\"\n      }\n    },\n    {\n      \"column\": \"text\",\n      \"properties\": {\n        \"dtype\": \"string\",\n        \"num_unique_values\": 11226,\n        \"samples\": [\n          \"hepatic amino nitrogen clearance urea nitrogen control subjects patients cirrhosis simplified method functional hepatic nitrogen clearance amino acid infusion measure liver cell mass clinical feasibility test far limited methodological problems simplified procedure used measure urea nitrogen synthesis rate functional hepatic nitrogen clearance nine subjects normal liver function nine patients cirrhosis method based four consecutive hr urine collections five blood samples total body water calculated nomogram based age anthropometric data whereas gut urea hydrolysis assigned one fixed fraction synthesis control subjects patients cirrhosis finally solution single amino acid alanine infused substrate urea synthesis urea nitrogen synthesis rate increased linearly increasing alpha amino nitrogen concentration slope regression functional hepatic nitrogen clearance reduced cirrhosis l hr l hr p less hepatic nitrogen clearance linearly related clinical status child pugh score routine liver function tests galactose elimination capacity r well established quantitative liver function measure simplified method makes measurement hepatic nitrogen clearance suitable routine clinical use test might prove useful study alterations nitrogen metabolism cirrhosis special reference hepatic encephalopathy\",\n          \"effect short course prednisone prevention early relapse emergency room treatment acute asthma background relapse treatment acute asthma emergency room common occurring percent cases accurately predicted available measurements studied usefulness prednisone reducing high rate relapse methods one hundred twenty two patients treated emergency room acute exacerbations asthma assigned randomized double blind fashion receive discharge either prednisone eight days dose tapered mg per day matching placebo ninety three subsequently discharged emergency room participated trial days discharge patients assessed home visits spirometry diary card review contacted telephone day relapse defined unscheduled medical visit occasioned patients perceived need asthma treatment results overall risk relapse significantly lower prednisone group p less significantly reduced rate relapse first days follow compared placebo group p less thereafter days significant difference relapse rates treatment groups five prednisone group six placebo group first week discharge patients receiving prednisone reported significantly lower mean sd daily symptom scores shortness breath vs p less less frequent use inhaled bronchodilator vs puffs per day p less patients receiving placebo subsequently symptom scores bronchodilator use similar two groups conclusions short course prednisone reduced early relapse rates treatment acute asthma emergency room effect limited period steroid administration\",\n          \"primary repair gastroschisis omphalocele always best operation optimal surgical management neonates gastroschisis omphalocele remains controversial suggested benefits primary fascial closure include earlier return gastrointestinal function decreased hospital stay less sepsis less risk postoperative intestinal obstruction fistulae lower mortality neonates gastroschisis omphalocele underwent repair primary fascial repair performed children gastroschisis omphalocele ten children staged repair use silastic silo seven gastroschisis three omphalocele comparison groups made regarding birth weight days ventilator surgery days first feeding days hospital surgery postoperative complications survival significant difference birth weight days ventilator days first feeding postoperative days hospital nine complications nine patients primary repair four complications two patients staged repair two infants died primary repair one died staged closure concluded silastic silo repair primary fascial closure acceptable alternatives primary closure attractive whenever possible avoid additional operations\"\n        ],\n        \"semantic_type\": \"\",\n        \"description\": \"\"\n      }\n    },\n    {\n      \"column\": \"label_str\",\n      \"properties\": {\n        \"dtype\": \"category\",\n        \"num_unique_values\": 5,\n        \"samples\": [\n          \"neoplasms\",\n          \"digestive\",\n          \"cardiovascular\"\n        ],\n        \"semantic_type\": \"\",\n        \"description\": \"\"\n      }\n    },\n    {\n      \"column\": \"tokenized_text\",\n      \"properties\": {\n        \"dtype\": \"string\",\n        \"num_unique_values\": 11226,\n        \"samples\": [\n          \"['hepatic', 'amino', 'nitrogen', 'clearance', 'urea', 'nitrogen', 'control', 'subjects', 'patients', 'cirrhosis', 'simplified', 'method', 'functional', 'hepatic', 'nitrogen', 'clearance', 'amino', 'acid', 'infusion', 'measure', 'liver', 'cell', 'mass', 'clinical', 'feasibility', 'test', 'far', 'limited', 'methodological', 'problems', 'simplified', 'procedure', 'used', 'measure', 'urea', 'nitrogen', 'synthesis', 'rate', 'functional', 'hepatic', 'nitrogen', 'clearance', 'nine', 'subjects', 'normal', 'liver', 'function', 'nine', 'patients', 'cirrhosis', 'method', 'based', 'four', 'consecutive', 'hr', 'urine', 'collections', 'five', 'blood', 'samples', 'total', 'body', 'water', 'calculated', 'nomogram', 'based', 'age', 'anthropometric', 'data', 'whereas', 'gut', 'urea', 'hydrolysis', 'assigned', 'one', 'fixed', 'fraction', 'synthesis', 'control', 'subjects', 'patients', 'cirrhosis', 'finally', 'solution', 'single', 'amino', 'acid', 'alanine', 'infused', 'substrate', 'urea', 'synthesis', 'urea', 'nitrogen', 'synthesis', 'rate', 'increased', 'linearly', 'increasing', 'alpha', 'amino', 'nitrogen', 'concentration', 'slope', 'regression', 'functional', 'hepatic', 'nitrogen', 'clearance', 'reduced', 'cirrhosis', 'l', 'hr', 'l', 'hr', 'p', 'less', 'hepatic', 'nitrogen', 'clearance', 'linearly', 'related', 'clinical', 'status', 'child', 'pugh', 'score', 'routine', 'liver', 'function', 'tests', 'galactose', 'elimination', 'capacity', 'r', 'well', 'established', 'quantitative', 'liver', 'function', 'measure', 'simplified', 'method', 'makes', 'measurement', 'hepatic', 'nitrogen', 'clearance', 'suitable', 'routine', 'clinical', 'use', 'test', 'might', 'prove', 'useful', 'study', 'alterations', 'nitrogen', 'metabolism', 'cirrhosis', 'special', 'reference', 'hepatic', 'encephalopathy']\",\n          \"['effect', 'short', 'course', 'prednisone', 'prevention', 'early', 'relapse', 'emergency', 'room', 'treatment', 'acute', 'asthma', 'background', 'relapse', 'treatment', 'acute', 'asthma', 'emergency', 'room', 'common', 'occurring', 'percent', 'cases', 'accurately', 'predicted', 'available', 'measurements', 'studied', 'usefulness', 'prednisone', 'reducing', 'high', 'rate', 'relapse', 'methods', 'one', 'hundred', 'twenty', 'two', 'patients', 'treated', 'emergency', 'room', 'acute', 'exacerbations', 'asthma', 'assigned', 'randomized', 'double', 'blind', 'fashion', 'receive', 'discharge', 'either', 'prednisone', 'eight', 'days', 'dose', 'tapered', 'mg', 'per', 'day', 'matching', 'placebo', 'ninety', 'three', 'subsequently', 'discharged', 'emergency', 'room', 'participated', 'trial', 'days', 'discharge', 'patients', 'assessed', 'home', 'visits', 'spirometry', 'diary', 'card', 'review', 'contacted', 'telephone', 'day', 'relapse', 'defined', 'unscheduled', 'medical', 'visit', 'occasioned', 'patients', 'perceived', 'need', 'asthma', 'treatment', 'results', 'overall', 'risk', 'relapse', 'significantly', 'lower', 'prednisone', 'group', 'p', 'less', 'significantly', 'reduced', 'rate', 'relapse', 'first', 'days', 'follow', 'compared', 'placebo', 'group', 'p', 'less', 'thereafter', 'days', 'significant', 'difference', 'relapse', 'rates', 'treatment', 'groups', 'five', 'prednisone', 'group', 'six', 'placebo', 'group', 'first', 'week', 'discharge', 'patients', 'receiving', 'prednisone', 'reported', 'significantly', 'lower', 'mean', 'sd', 'daily', 'symptom', 'scores', 'shortness', 'breath', 'vs', 'p', 'less', 'less', 'frequent', 'use', 'inhaled', 'bronchodilator', 'vs', 'puffs', 'per', 'day', 'p', 'less', 'patients', 'receiving', 'placebo', 'subsequently', 'symptom', 'scores', 'bronchodilator', 'use', 'similar', 'two', 'groups', 'conclusions', 'short', 'course', 'prednisone', 'reduced', 'early', 'relapse', 'rates', 'treatment', 'acute', 'asthma', 'emergency', 'room', 'effect', 'limited', 'period', 'steroid', 'administration']\",\n          \"['primary', 'repair', 'gastroschisis', 'omphalocele', 'always', 'best', 'operation', 'optimal', 'surgical', 'management', 'neonates', 'gastroschisis', 'omphalocele', 'remains', 'controversial', 'suggested', 'benefits', 'primary', 'fascial', 'closure', 'include', 'earlier', 'return', 'gastrointestinal', 'function', 'decreased', 'hospital', 'stay', 'less', 'sepsis', 'less', 'risk', 'postoperative', 'intestinal', 'obstruction', 'fistulae', 'lower', 'mortality', 'neonates', 'gastroschisis', 'omphalocele', 'underwent', 'repair', 'primary', 'fascial', 'repair', 'performed', 'children', 'gastroschisis', 'omphalocele', 'ten', 'children', 'staged', 'repair', 'use', 'silastic', 'silo', 'seven', 'gastroschisis', 'three', 'omphalocele', 'comparison', 'groups', 'made', 'regarding', 'birth', 'weight', 'days', 'ventilator', 'surgery', 'days', 'first', 'feeding', 'days', 'hospital', 'surgery', 'postoperative', 'complications', 'survival', 'significant', 'difference', 'birth', 'weight', 'days', 'ventilator', 'days', 'first', 'feeding', 'postoperative', 'days', 'hospital', 'nine', 'complications', 'nine', 'patients', 'primary', 'repair', 'four', 'complications', 'two', 'patients', 'staged', 'repair', 'two', 'infants', 'died', 'primary', 'repair', 'one', 'died', 'staged', 'closure', 'concluded', 'silastic', 'silo', 'repair', 'primary', 'fascial', 'closure', 'acceptable', 'alternatives', 'primary', 'closure', 'attractive', 'whenever', 'possible', 'avoid', 'additional', 'operations']\"\n        ],\n        \"semantic_type\": \"\",\n        \"description\": \"\"\n      }\n    },\n    {\n      \"column\": \"word_vector\",\n      \"properties\": {\n        \"dtype\": \"string\",\n        \"num_unique_values\": 12214,\n        \"samples\": [\n          \"[-0.07912938  0.44749293  0.12862702 -0.11620719 -0.46441406 -0.34754777\\n -0.32631975  0.85658216 -0.61653507 -0.2961193  -0.42889416 -0.72284454\\n -0.08620054  0.40780544 -0.10039877  0.27312866 -0.083256   -0.1270794\\n  0.33855045 -0.8344443  -0.01433089  0.05364626  0.38530898 -0.04007271\\n -0.01476818  0.35852695 -0.28853315 -0.36358652 -0.22837579  0.20599943\\n  0.8306594   0.23533991  0.6324874  -0.4261277  -0.10200135  0.44493413\\n  0.18221013 -0.39994115  0.14466986 -0.70513225  0.05656959  0.17300422\\n -0.28638354 -0.566943   -0.01045371 -0.2556709   0.00453844 -0.12130618\\n  0.40950894  0.13968627 -0.35631782 -0.31832266 -0.23318264 -0.00805788\\n  0.00401773 -0.07116443  0.42407772 -0.5718953  -0.71132755  0.1979793\\n  0.17186472  0.17430963 -0.40976825 -0.13007861 -0.40363577  0.4269069\\n  0.44394404 -0.03411628 -0.23568848  0.31114373 -0.00946475  0.10446822\\n  0.22415574  0.15482558  0.71440756 -0.11120268  0.10530639 -0.11609348\\n  0.04907548  0.07459932  0.3023427  -0.2387125   0.10842519  0.32619128\\n -0.24347228 -0.04217247 -0.30235377  0.00222654  0.6076526   0.302424\\n  0.08169036  0.20767684 -0.02038883 -0.09639222  0.24950203  0.04073448\\n -0.06600157 -0.47841263 -0.13803165  0.29503593]\",\n          \"[-0.36356127 -0.25239697 -0.2631443   0.32714054 -0.20982139 -0.7196331\\n -0.08294322  0.7546013  -0.14762087  0.06559352 -0.17185532 -0.3059991\\n -0.17585899  0.31607875 -0.22403425  0.03481435  0.61548835 -0.6425852\\n -0.5338048  -0.52407575  0.63276124 -0.19579832  0.55920386  0.02014435\\n -0.15151027 -0.1856304  -0.2627269   0.04894747 -0.27344692  0.17778632\\n  0.4159121   0.10555118  0.0023512  -0.06999747 -0.17359678  0.49736726\\n -0.10436425 -0.3505011  -0.42871588  0.07797431  0.07818588  0.09020093\\n -0.44861203 -0.43583852  0.08998721 -0.10312446 -0.16042514 -0.20015246\\n  0.27929014  0.14168297  0.10515562 -0.40999335 -0.38939467  0.03870967\\n  0.12360463 -0.10011388  0.07280519 -0.00317816 -0.23506117  0.13127679\\n -0.131945    0.06514887  0.2154423  -0.12510806 -0.21144363  0.43946877\\n  0.2600021   0.26179287 -0.67719436  0.48217705 -0.13021164  0.32991022\\n  0.49199647 -0.28653163 -0.07510674  0.26119512  0.02356748 -0.00427232\\n -0.24725442 -0.11173722 -0.48373267  0.05861991 -0.06731461  0.8912687\\n  0.0559637  -0.18654774  0.10400793  0.34440815  0.24561942 -0.13924582\\n  0.18111552  0.1440518   0.16603225  0.22255145  0.37519184  0.00361882\\n  0.2929565  -0.22890261 -0.26732412 -0.01770953]\",\n          \"[-0.26417762  0.13615629 -0.00973605  0.17096524  0.02884155 -0.4602992\\n  0.10692568  0.6747066  -0.19357051 -0.26332924 -0.21755596 -0.5754128\\n  0.10692713  0.35157612  0.07192849 -0.20173576  0.1347134  -0.24471413\\n  0.03619176 -0.35143298  0.20633285  0.1460683   0.31501082 -0.03705311\\n -0.12017721 -0.15602273 -0.04893676 -0.05870683 -0.06734244  0.00590218\\n  0.3969599   0.02347911  0.17770487 -0.04666385  0.05555848  0.35147887\\n  0.09011806 -0.2458626  -0.14611149 -0.21246356  0.10204632  0.1189338\\n -0.4664205  -0.07507611  0.22321352  0.02232296 -0.05348195 -0.05158608\\n  0.02661367  0.14311458  0.03477726 -0.33912253  0.00229567 -0.04550369\\n  0.02668239  0.00681639  0.14433554  0.03817533 -0.17959084  0.15956771\\n -0.08516161  0.0749356   0.06324203 -0.14411111 -0.3354992   0.34981808\\n  0.03267073  0.12356602 -0.34096912  0.70330083 -0.18292712  0.22659601\\n  0.25659204  0.00410567  0.25556457  0.16951463  0.23708145 -0.27258158\\n -0.15729305  0.07533652 -0.04893662  0.06834408 -0.26495743  0.24728121\\n  0.13074455 -0.12133117 -0.24510178 -0.00733366  0.45953664  0.00495354\\n  0.34845078 -0.05711823 -0.06231963  0.2523398   0.3203917   0.13804545\\n  0.25727412 -0.16792871 -0.10372633 -0.06069586]\"\n        ],\n        \"semantic_type\": \"\",\n        \"description\": \"\"\n      }\n    },\n    {\n      \"column\": \"doc_vector\",\n      \"properties\": {\n        \"dtype\": \"string\",\n        \"num_unique_values\": 14438,\n        \"samples\": [\n          \"[ 0.04345998 -0.11300327 -0.12592107 -0.07802952 -0.12981491 -0.16924669\\n  0.10405579  0.02789848  0.03971573 -0.32434782 -0.10079874 -0.2973571\\n  0.295184   -0.21387511 -0.3317773   0.25800672  0.1999978  -0.20813863\\n -0.04213429 -0.34691015 -0.20899698  0.21853596  0.21081612  0.15130867\\n -0.29574722  0.07167009 -0.22024001  0.00984263 -0.21734624  0.13202569\\n  0.04924408 -0.1607588   0.29610512 -0.11841761 -0.17871243  0.06492025\\n -0.20858021  0.11378525 -0.07576561  0.13694233 -0.09676576 -0.29676455\\n -0.3174696  -0.23910563  0.5111431  -0.00601642 -0.1674408   0.11662682\\n -0.13748625  0.22672549  0.23169893 -0.19637473 -0.19626833  0.01104319\\n  0.10370705  0.09039737  0.14136812  0.33921376 -0.17910433  0.16228569\\n -0.36229673 -0.00190466  0.60124207  0.16590336  0.11976833  0.04723468\\n -0.02264301 -0.00189384  0.12121147  0.4610435   0.01489201 -0.03428549\\n  0.09059256  0.30633992  0.07702903 -0.19824135  0.15023421 -0.38471454\\n -0.41880396 -0.08020024 -0.11028366  0.11393507 -0.1142155   0.27543083\\n -0.06913378  0.17606954  0.05604652  0.16101919  0.33365715 -0.3417389\\n  0.1853441  -0.08723619  0.07369278  0.18342492  0.20232381 -0.0884612\\n  0.28723425 -0.10994811 -0.18238509 -0.13008432]\",\n          \"[ 0.13761629 -0.06853731  0.28591675 -0.04805307 -0.06207439 -0.22344446\\n  0.00723584  0.2751822  -0.09709641 -0.1392951  -0.10562599 -0.21940975\\n -0.08532276  0.0497327  -0.0498228  -0.00135391  0.02462953 -0.1046034\\n  0.13691674 -0.30087483 -0.04434733  0.0705488   0.02145305 -0.03448137\\n  0.00312464 -0.0424533  -0.2187627  -0.1503648  -0.12148382 -0.11202737\\n  0.05300459  0.06189261  0.1431315   0.19336571  0.00865363  0.06709998\\n -0.04847801 -0.10235935 -0.02408757 -0.13776098  0.06656006 -0.16463917\\n  0.00094006  0.05862061 -0.01557023 -0.06862367 -0.09552404 -0.0199938\\n -0.10898096  0.14221637 -0.01017994 -0.02899311  0.00299208  0.08816643\\n -0.0746306   0.16478029  0.05826558 -0.0968485  -0.02280837  0.0429591\\n -0.05023978  0.21371031 -0.1106116   0.00686407 -0.12050143  0.14377096\\n -0.03269554 -0.15368633  0.05070145  0.0116199  -0.17798689  0.07180523\\n  0.12179837 -0.08508916  0.09016453  0.09377011  0.065615   -0.11033921\\n -0.07591154  0.0429563   0.03188827 -0.02333491  0.02903504  0.13306277\\n  0.06052284  0.14809714  0.01080637  0.0713453   0.16263016  0.1746494\\n  0.2012304  -0.04179417 -0.05986079  0.17902486  0.10074747  0.0541277\\n  0.01662199 -0.00524706  0.02238284  0.13047594]\",\n          \"[ 0.1551441   0.17016287  0.13050395 -0.00929417 -0.05932149  0.01373692\\n  0.04152214  0.2345085  -0.2387784  -0.18734477 -0.31504607 -0.32371444\\n  0.2620235   0.08635249 -0.07442076  0.07555456 -0.01034466  0.14606957\\n  0.23457587 -0.25673625  0.17628391 -0.00937276  0.29578412 -0.05016243\\n -0.1145739   0.01892664 -0.03466844 -0.18293408 -0.25149903  0.03619406\\n  0.41070822  0.02291099  0.09729315  0.23562215 -0.01853006  0.15362747\\n  0.4488632  -0.12556402  0.00824525  0.13859756  0.12906615 -0.08954022\\n -0.02783592 -0.13010164 -0.22707567 -0.13357772  0.20970154  0.21402103\\n  0.11060811  0.06989153 -0.2852154   0.05360326  0.0781241  -0.44842368\\n  0.1531945  -0.1453841   0.15338507 -0.13873415  0.15748148  0.2809194\\n -0.1127246   0.07386906 -0.05284766  0.01941335 -0.04358941  0.04068276\\n -0.01293688 -0.25247875 -0.04076974  0.01541631 -0.02877439 -0.40207922\\n -0.08553007 -0.18776576  0.07030111 -0.11200613  0.11263821  0.16710447\\n -0.16600682  0.14918023  0.06720375 -0.08798004 -0.10067829  0.49303177\\n  0.01018778  0.18412356 -0.10027859 -0.01386433  0.3235962   0.00357433\\n -0.13386382 -0.11183821 -0.06640325  0.23180518  0.14809379  0.06261557\\n -0.08023371  0.05567906 -0.11793593 -0.08304566]\"\n        ],\n        \"semantic_type\": \"\",\n        \"description\": \"\"\n      }\n    }\n  ]\n}"
            }
          },
          "metadata": {},
          "execution_count": 6
        }
      ]
    },
    {
      "cell_type": "code",
      "source": [
        "df['word_vector'][0]"
      ],
      "metadata": {
        "colab": {
          "base_uri": "https://localhost:8080/",
          "height": 105
        },
        "id": "v5Wnq6_mmEjl",
        "outputId": "74f49701-f1a8-4394-ff2e-715e0fb606fd"
      },
      "execution_count": 7,
      "outputs": [
        {
          "output_type": "execute_result",
          "data": {
            "text/plain": [
              "'[-0.51320714 -0.04813077 -0.3158617   0.4999527   0.10472398 -0.4908846\\n -0.20128243  0.5705389  -0.5066127  -0.07913493 -0.44793218 -0.48044035\\n -0.45580012  0.29406986  0.1349332  -0.3520766   0.12295035 -0.36768267\\n -0.57357484 -0.37362012  0.27310658 -0.11942487  0.34720483  0.07055093\\n  0.12284914 -0.4858754   0.08692607  0.03522979 -0.54353917  0.29292253\\n  0.52603596 -0.10931839  0.12272995 -0.19820818 -0.39421135  0.5191129\\n -0.03787661 -0.33857107 -0.2360404  -0.40692773 -0.09825405  0.089826\\n -0.48992342 -0.23075089  0.05439727  0.25674006 -0.23755427 -0.01047419\\n  0.40599602  0.22175498  0.08728024 -0.4738247  -0.06205064 -0.22610757\\n -0.02089396  0.15591118 -0.1619441  -0.18166625 -0.47754517  0.5790612\\n -0.05873791  0.34384194  0.13766347 -0.35705188 -0.4199193   0.33278316\\n  0.09566639  0.31994635 -0.55921423  0.5996269  -0.13108085  0.300816\\n  0.30241376  0.16032863  0.04121322  0.28971606 -0.05739846  0.0809987\\n -0.37519836 -0.23933645 -0.15257701 -0.06475247 -0.47783586  0.37657252\\n -0.07029169 -0.2679677   0.12681754  0.00803233  0.4893549   0.02035178\\n  0.0625691   0.13367958 -0.11010659  0.0936799   0.45469475  0.17199218\\n -0.25028777 -0.57916576 -0.04467183 -0.15348457]'"
            ],
            "application/vnd.google.colaboratory.intrinsic+json": {
              "type": "string"
            }
          },
          "metadata": {},
          "execution_count": 7
        }
      ]
    },
    {
      "cell_type": "markdown",
      "source": [
        "## Word2Vec and Doc2Vec"
      ],
      "metadata": {
        "id": "PDGfZSVJmlCa"
      }
    },
    {
      "cell_type": "code",
      "source": [
        "from gensim.models import Word2Vec\n",
        "\n",
        "# Train Word2Vec model\n",
        "word2vec_model = Word2Vec(sentences=df['tokenized_text'].tolist(), vector_size=100, window=5, min_count=2, workers=4)\n",
        "\n",
        "# Create a function to average Word2Vec vectors for each document\n",
        "def average_word_vectors(words, model, vocabulary, num_features):\n",
        "    feature_vector = np.zeros((num_features,), dtype=\"float64\")\n",
        "    nwords = 0\n",
        "\n",
        "    for word in words:\n",
        "        if word in vocabulary:\n",
        "            nwords += 1\n",
        "            feature_vector = np.add(feature_vector, model.wv[word])\n",
        "\n",
        "    if nwords:\n",
        "        feature_vector = np.divide(feature_vector, nwords)\n",
        "    return feature_vector\n",
        "\n",
        "# Apply function to each row in the DataFrame\n",
        "vocabulary = set(word2vec_model.wv.index_to_key)\n",
        "df['word_vec'] = df['tokenized_text'].apply(lambda x: average_word_vectors(x, word2vec_model, vocabulary, 100))\n"
      ],
      "metadata": {
        "colab": {
          "base_uri": "https://localhost:8080/"
        },
        "id": "82Q-DEs7mkLi",
        "outputId": "c49b69ec-9cf0-4e3d-8f4c-621b631fca81"
      },
      "execution_count": 33,
      "outputs": [
        {
          "output_type": "stream",
          "name": "stderr",
          "text": [
            "WARNING:gensim.models.word2vec:Each 'sentences' item should be a list of words (usually unicode strings). First item here is instead plain <class 'str'>.\n"
          ]
        }
      ]
    },
    {
      "cell_type": "code",
      "source": [
        "from gensim.models.doc2vec import Doc2Vec, TaggedDocument\n",
        "\n",
        "# Tagging documents\n",
        "tagged_data = [TaggedDocument(words=_d, tags=[str(i)]) for i, _d in enumerate(df['tokenized_text'])]\n",
        "\n",
        "# Train Doc2Vec model\n",
        "doc2vec_model = Doc2Vec(tagged_data, vector_size=100, window=5, min_count=2, workers=4)\n",
        "\n",
        "# Save the vectors to DataFrame\n",
        "df['doc_vec'] = [doc2vec_model.dv[str(i)] for i in range(len(df))]\n"
      ],
      "metadata": {
        "colab": {
          "base_uri": "https://localhost:8080/"
        },
        "id": "5Ja3jOpqmq6K",
        "outputId": "ee13ca34-28f1-429d-8a91-2c6ec810e1e7"
      },
      "execution_count": 34,
      "outputs": [
        {
          "output_type": "stream",
          "name": "stderr",
          "text": [
            "WARNING:gensim.models.doc2vec:Each 'words' should be a list of words (usually unicode strings). First 'words' here is instead plain <class 'str'>.\n"
          ]
        }
      ]
    },
    {
      "cell_type": "code",
      "source": [
        "df['word_vec'].shape"
      ],
      "metadata": {
        "colab": {
          "base_uri": "https://localhost:8080/"
        },
        "id": "m5KmDU-c2oCj",
        "outputId": "e48f237e-0f6c-479f-ffbb-6524c0b19c14"
      },
      "execution_count": 10,
      "outputs": [
        {
          "output_type": "execute_result",
          "data": {
            "text/plain": [
              "(14438,)"
            ]
          },
          "metadata": {},
          "execution_count": 10
        }
      ]
    },
    {
      "cell_type": "code",
      "source": [
        "df['word_vec'][6].shape"
      ],
      "metadata": {
        "colab": {
          "base_uri": "https://localhost:8080/"
        },
        "id": "tOEmDLXo3aai",
        "outputId": "3e790df7-3978-4289-c352-d25bad74af9d"
      },
      "execution_count": 11,
      "outputs": [
        {
          "output_type": "execute_result",
          "data": {
            "text/plain": [
              "(100,)"
            ]
          },
          "metadata": {},
          "execution_count": 11
        }
      ]
    },
    {
      "cell_type": "code",
      "source": [
        "target = df[\"label_str\"]\n",
        "\n",
        "# one hot encode target\n",
        "y = pd.get_dummies(target).values\n",
        "\n",
        "tokenizer = tf.keras.preprocessing.text.Tokenizer(num_words=20000)\n",
        "tokenizer.fit_on_texts(list(df['text']))\n",
        "tokenized_texts = tokenizer.texts_to_sequences(df['text'])\n",
        "X = tf.keras.preprocessing.sequence.pad_sequences(tokenized_texts)"
      ],
      "metadata": {
        "id": "BXZ-G8ocowYu"
      },
      "execution_count": 12,
      "outputs": []
    },
    {
      "cell_type": "code",
      "source": [
        "print(f\"Shape of X: {X.shape}\")\n",
        "print(f\"Shape of y: {y.shape}\")"
      ],
      "metadata": {
        "colab": {
          "base_uri": "https://localhost:8080/"
        },
        "id": "CphFb1yqph9B",
        "outputId": "6ec9c452-765b-46f3-8cea-2da2dddd8811"
      },
      "execution_count": 13,
      "outputs": [
        {
          "output_type": "stream",
          "name": "stdout",
          "text": [
            "Shape of X: (14438, 376)\n",
            "Shape of y: (14438, 5)\n"
          ]
        }
      ]
    },
    {
      "cell_type": "code",
      "source": [
        "X_word_vec = np.array(list(df['word_vector']))\n",
        "X_doc_vec = np.array(list(df['doc_vector']))"
      ],
      "metadata": {
        "id": "jOESSXqaiiZ0"
      },
      "execution_count": 14,
      "outputs": []
    },
    {
      "cell_type": "code",
      "source": [
        "nltk.download('punkt')"
      ],
      "metadata": {
        "colab": {
          "base_uri": "https://localhost:8080/",
          "height": 141
        },
        "id": "5ybeortYp81Y",
        "outputId": "f3d12075-f95a-4c4d-8006-3437233775e0"
      },
      "execution_count": 15,
      "outputs": [
        {
          "output_type": "error",
          "ename": "NameError",
          "evalue": "name 'nltk' is not defined",
          "traceback": [
            "\u001b[0;31m---------------------------------------------------------------------------\u001b[0m",
            "\u001b[0;31mNameError\u001b[0m                                 Traceback (most recent call last)",
            "\u001b[0;32m<ipython-input-15-9533fb74b295>\u001b[0m in \u001b[0;36m<cell line: 1>\u001b[0;34m()\u001b[0m\n\u001b[0;32m----> 1\u001b[0;31m \u001b[0mnltk\u001b[0m\u001b[0;34m.\u001b[0m\u001b[0mdownload\u001b[0m\u001b[0;34m(\u001b[0m\u001b[0;34m'punkt'\u001b[0m\u001b[0;34m)\u001b[0m\u001b[0;34m\u001b[0m\u001b[0;34m\u001b[0m\u001b[0m\n\u001b[0m",
            "\u001b[0;31mNameError\u001b[0m: name 'nltk' is not defined"
          ]
        }
      ]
    },
    {
      "cell_type": "code",
      "source": [
        "X_word_vec.shape"
      ],
      "metadata": {
        "colab": {
          "base_uri": "https://localhost:8080/"
        },
        "id": "m5cWnrkB05wU",
        "outputId": "9091a3c6-bea7-4f55-a5a3-7fbcb8bd9436"
      },
      "execution_count": 16,
      "outputs": [
        {
          "output_type": "execute_result",
          "data": {
            "text/plain": [
              "(14438,)"
            ]
          },
          "metadata": {},
          "execution_count": 16
        }
      ]
    },
    {
      "cell_type": "code",
      "source": [
        "X_doc_vec.shape"
      ],
      "metadata": {
        "colab": {
          "base_uri": "https://localhost:8080/"
        },
        "id": "Tl8wKXnD07dW",
        "outputId": "16431e53-da6b-49f4-ccc9-fb19b305c491"
      },
      "execution_count": 17,
      "outputs": [
        {
          "output_type": "execute_result",
          "data": {
            "text/plain": [
              "(14438,)"
            ]
          },
          "metadata": {},
          "execution_count": 17
        }
      ]
    },
    {
      "cell_type": "code",
      "source": [
        "    # Stack arrays correctly\n",
        "    X = np.array(list(df['doc_vector']))\n",
        "    print(\"New shape of X:\", X.shape) ## Shouldn't be one dimensional??"
      ],
      "metadata": {
        "colab": {
          "base_uri": "https://localhost:8080/"
        },
        "id": "gQvT_tdP1JfY",
        "outputId": "2303eda0-e400-40c8-9fe1-bb32c3a73c84"
      },
      "execution_count": 18,
      "outputs": [
        {
          "output_type": "stream",
          "name": "stdout",
          "text": [
            "New shape of X: (14438,)\n"
          ]
        }
      ]
    },
    {
      "cell_type": "markdown",
      "source": [
        "## RNN #1: Doc2Vec"
      ],
      "metadata": {
        "id": "eR9ogs2kulHy"
      }
    },
    {
      "cell_type": "code",
      "source": [
        "# Convert the list of vectors into a single numpy array\n",
        "X = np.stack(df['doc_vec'].values)\n",
        "\n",
        "# Add an explicit timestep dimension\n",
        "X = X.reshape((X.shape[0], 1, X.shape[1]))\n",
        "print(\"Shape of X after reshaping:\", X.shape)"
      ],
      "metadata": {
        "colab": {
          "base_uri": "https://localhost:8080/"
        },
        "id": "6nwn6CfJpa4q",
        "outputId": "1e454f97-3d4d-45ea-9f0b-b65eaa330627"
      },
      "execution_count": 19,
      "outputs": [
        {
          "output_type": "stream",
          "name": "stdout",
          "text": [
            "Shape of X after reshaping: (14438, 1, 100)\n"
          ]
        }
      ]
    },
    {
      "cell_type": "code",
      "source": [
        "from tensorflow.keras.utils import to_categorical\n",
        "from sklearn.preprocessing import LabelEncoder\n",
        "\n",
        "# Label encoding\n",
        "label_encoder = LabelEncoder()\n",
        "encoded_labels = label_encoder.fit_transform(df['label_str'])\n",
        "# Convert labels to categorical\n",
        "y = to_categorical(encoded_labels)\n",
        "\n",
        "# Split the data\n",
        "X_train, X_test, y_train, y_test = train_test_split(X, y, test_size=0.2, random_state=42)"
      ],
      "metadata": {
        "id": "t1KkRq9Eowyl"
      },
      "execution_count": 20,
      "outputs": []
    },
    {
      "cell_type": "code",
      "source": [
        "print(\"Shape of X_train:\", X_train.shape)\n",
        "print(\"Shape of y_train:\", y_train.shape)"
      ],
      "metadata": {
        "colab": {
          "base_uri": "https://localhost:8080/"
        },
        "id": "R3keqaESpZr2",
        "outputId": "158dc528-f1d6-4c28-c131-221e58f7df71"
      },
      "execution_count": 28,
      "outputs": [
        {
          "output_type": "stream",
          "name": "stdout",
          "text": [
            "Shape of X_train: (11550, 1, 100)\n",
            "Shape of y_train: (11550, 5)\n"
          ]
        }
      ]
    },
    {
      "cell_type": "code",
      "source": [
        "from tensorflow.keras.models import Sequential\n",
        "from tensorflow.keras.layers import LSTM, Dropout, Dense\n",
        "# works the best\n",
        "# Initialize the model\n",
        "model = Sequential()\n",
        "\n",
        "# Adding LSTM layer\n",
        "model.add(LSTM(64, input_shape=(1, 100)))  # Shape [timesteps, features]\n",
        "\n",
        "# Adding dropout for regularization\n",
        "model.add(Dropout(0.5))\n",
        "\n",
        "# Adding a Dense layer for classification\n",
        "model.add(Dense(5, activation='softmax'))  # 5 classes\n",
        "\n",
        "# Compile the model\n",
        "model.compile(optimizer='adam', loss='categorical_crossentropy', metrics=['accuracy'])\n",
        "\n",
        "# Display model architecture\n",
        "model.summary()\n"
      ],
      "metadata": {
        "colab": {
          "base_uri": "https://localhost:8080/"
        },
        "id": "pnE5-gcrqKba",
        "outputId": "9e0f832b-1557-46ec-ec2f-92cb2f5cc5f3"
      },
      "execution_count": 48,
      "outputs": [
        {
          "output_type": "stream",
          "name": "stdout",
          "text": [
            "Model: \"sequential_11\"\n",
            "_________________________________________________________________\n",
            " Layer (type)                Output Shape              Param #   \n",
            "=================================================================\n",
            " lstm_16 (LSTM)              (None, 64)                42240     \n",
            "                                                                 \n",
            " dropout_14 (Dropout)        (None, 64)                0         \n",
            "                                                                 \n",
            " dense_9 (Dense)             (None, 5)                 325       \n",
            "                                                                 \n",
            "=================================================================\n",
            "Total params: 42565 (166.27 KB)\n",
            "Trainable params: 42565 (166.27 KB)\n",
            "Non-trainable params: 0 (0.00 Byte)\n",
            "_________________________________________________________________\n"
          ]
        }
      ]
    },
    {
      "cell_type": "code",
      "source": [
        "from tensorflow.keras.models import Sequential\n",
        "from tensorflow.keras.layers import LSTM, Dropout, Dense\n",
        "\n",
        "# Initialize the model\n",
        "model = Sequential()\n",
        "\n",
        "# Adding LSTM layer\n",
        "model.add(LSTM(64, input_shape=(1, 100)))  # Shape [timesteps, features]\n",
        "\n",
        "# Adding dropout for regularization\n",
        "model.add(Dropout(0.5))\n",
        "\n",
        "# Adding a Dense layer for classification\n",
        "model.add(Dense(5, activation='softmax'))  # 5 classes\n",
        "\n",
        "model.add(Dropout(0.25))\n",
        "model.add(Dense(5, activation='relu'))\n",
        "\n",
        "# Compile the model\n",
        "model.compile(optimizer='adam', loss='categorical_crossentropy', metrics=['accuracy'])\n",
        "\n",
        "# Display model architecture\n",
        "model.summary()\n"
      ],
      "metadata": {
        "colab": {
          "base_uri": "https://localhost:8080/"
        },
        "id": "-aZP5Xy75qAm",
        "outputId": "51664743-606d-4844-dacd-b310cb614907"
      },
      "execution_count": 58,
      "outputs": [
        {
          "output_type": "stream",
          "name": "stdout",
          "text": [
            "Model: \"sequential_13\"\n",
            "_________________________________________________________________\n",
            " Layer (type)                Output Shape              Param #   \n",
            "=================================================================\n",
            " lstm_19 (LSTM)              (None, 64)                42240     \n",
            "                                                                 \n",
            " dropout_17 (Dropout)        (None, 64)                0         \n",
            "                                                                 \n",
            " dense_11 (Dense)            (None, 5)                 325       \n",
            "                                                                 \n",
            " dropout_18 (Dropout)        (None, 5)                 0         \n",
            "                                                                 \n",
            " dense_12 (Dense)            (None, 5)                 30        \n",
            "                                                                 \n",
            "=================================================================\n",
            "Total params: 42595 (166.39 KB)\n",
            "Trainable params: 42595 (166.39 KB)\n",
            "Non-trainable params: 0 (0.00 Byte)\n",
            "_________________________________________________________________\n"
          ]
        }
      ]
    },
    {
      "cell_type": "code",
      "source": [
        "# Initialize the model\n",
        "model = Sequential()\n",
        "\n",
        "# best performing model\n",
        "# Adding stacked LSTM layers\n",
        "# First LSTM layer with return_sequences=True to pass sequences to the next LSTM layer\n",
        "model.add(LSTM(128, input_shape=(1, 100), return_sequences=True))\n",
        "model.add(Dropout(0.2))  # Slightly lower dropout rate\n",
        "\n",
        "# Second LSTM layer, no need to return sequences since the next layer is a Dense layer\n",
        "model.add(LSTM(64, return_sequences=False))\n",
        "model.add(Dropout(0.2))  # Consistent dropout rate to prevent overfitting\n",
        "\n",
        "# Adding a Dense layer for classification\n",
        "model.add(Dense(5, activation='softmax'))\n",
        "\n",
        "# Compile the model with a possibly adjusted optimizer\n",
        "from tensorflow.keras.optimizers import Adam\n",
        "optimizer = Adam(learning_rate=0.001)\n",
        "\n",
        "model.compile(optimizer=optimizer, loss='categorical_crossentropy', metrics=['accuracy'])\n",
        "\n",
        "# Display model architecture\n",
        "model.summary()"
      ],
      "metadata": {
        "colab": {
          "base_uri": "https://localhost:8080/"
        },
        "id": "GtZxVbrr8MdM",
        "outputId": "2f6e68c6-da11-40e3-a70c-d452b8f0e4ae"
      },
      "execution_count": 59,
      "outputs": [
        {
          "output_type": "stream",
          "name": "stdout",
          "text": [
            "Model: \"sequential_14\"\n",
            "_________________________________________________________________\n",
            " Layer (type)                Output Shape              Param #   \n",
            "=================================================================\n",
            " lstm_20 (LSTM)              (None, 1, 128)            117248    \n",
            "                                                                 \n",
            " dropout_19 (Dropout)        (None, 1, 128)            0         \n",
            "                                                                 \n",
            " lstm_21 (LSTM)              (None, 64)                49408     \n",
            "                                                                 \n",
            " dropout_20 (Dropout)        (None, 64)                0         \n",
            "                                                                 \n",
            " dense_13 (Dense)            (None, 5)                 325       \n",
            "                                                                 \n",
            "=================================================================\n",
            "Total params: 166981 (652.27 KB)\n",
            "Trainable params: 166981 (652.27 KB)\n",
            "Non-trainable params: 0 (0.00 Byte)\n",
            "_________________________________________________________________\n"
          ]
        }
      ]
    },
    {
      "cell_type": "code",
      "source": [
        "from tensorflow.keras.callbacks import EarlyStopping\n",
        "\n",
        "# configure early stopping\n",
        "early_stopping = EarlyStopping(monitor='val_loss', patience=5, verbose=1, mode='min', restore_best_weights=True)\n",
        "\n",
        "# train the model with early stopping\n",
        "history = model.fit(X_train, y_train,\n",
        "          epochs=20,\n",
        "          batch_size=32,\n",
        "          validation_split=0.1,\n",
        "          callbacks=[early_stopping])"
      ],
      "metadata": {
        "colab": {
          "base_uri": "https://localhost:8080/"
        },
        "id": "NjzNjov6qMq6",
        "outputId": "8bfe7b92-d844-4cd6-f9f9-50e80e896d5f"
      },
      "execution_count": 63,
      "outputs": [
        {
          "output_type": "stream",
          "name": "stdout",
          "text": [
            "Epoch 1/20\n",
            "325/325 [==============================] - 2s 6ms/step - loss: 1.4455 - accuracy: 0.3717 - val_loss: 1.5072 - val_accuracy: 0.3420\n",
            "Epoch 2/20\n",
            "325/325 [==============================] - 2s 5ms/step - loss: 1.4406 - accuracy: 0.3716 - val_loss: 1.5133 - val_accuracy: 0.3429\n",
            "Epoch 3/20\n",
            "325/325 [==============================] - 2s 6ms/step - loss: 1.4390 - accuracy: 0.3739 - val_loss: 1.5072 - val_accuracy: 0.3489\n",
            "Epoch 4/20\n",
            "325/325 [==============================] - 2s 5ms/step - loss: 1.4365 - accuracy: 0.3757 - val_loss: 1.5064 - val_accuracy: 0.3359\n",
            "Epoch 5/20\n",
            "325/325 [==============================] - 2s 6ms/step - loss: 1.4333 - accuracy: 0.3766 - val_loss: 1.5116 - val_accuracy: 0.3377\n",
            "Epoch 6/20\n",
            "325/325 [==============================] - 2s 6ms/step - loss: 1.4328 - accuracy: 0.3743 - val_loss: 1.5091 - val_accuracy: 0.3420\n",
            "Epoch 7/20\n",
            "325/325 [==============================] - 2s 6ms/step - loss: 1.4266 - accuracy: 0.3804 - val_loss: 1.5071 - val_accuracy: 0.3368\n",
            "Epoch 8/20\n",
            "325/325 [==============================] - 2s 6ms/step - loss: 1.4238 - accuracy: 0.3805 - val_loss: 1.5036 - val_accuracy: 0.3506\n",
            "Epoch 9/20\n",
            "325/325 [==============================] - 2s 6ms/step - loss: 1.4220 - accuracy: 0.3799 - val_loss: 1.5041 - val_accuracy: 0.3420\n",
            "Epoch 10/20\n",
            "325/325 [==============================] - 2s 6ms/step - loss: 1.4176 - accuracy: 0.3833 - val_loss: 1.5098 - val_accuracy: 0.3498\n",
            "Epoch 11/20\n",
            "325/325 [==============================] - 2s 6ms/step - loss: 1.4186 - accuracy: 0.3865 - val_loss: 1.5099 - val_accuracy: 0.3446\n",
            "Epoch 12/20\n",
            "325/325 [==============================] - 2s 6ms/step - loss: 1.4113 - accuracy: 0.3902 - val_loss: 1.5072 - val_accuracy: 0.3437\n",
            "Epoch 13/20\n",
            "316/325 [============================>.] - ETA: 0s - loss: 1.4097 - accuracy: 0.3912Restoring model weights from the end of the best epoch: 8.\n",
            "325/325 [==============================] - 2s 6ms/step - loss: 1.4104 - accuracy: 0.3909 - val_loss: 1.5128 - val_accuracy: 0.3463\n",
            "Epoch 13: early stopping\n"
          ]
        }
      ]
    },
    {
      "cell_type": "code",
      "source": [
        "import matplotlib.pyplot as plt\n",
        "\n",
        "# Plotting training and validation accuracy\n",
        "plt.figure(figsize=(10, 5))\n",
        "plt.plot(history.history['accuracy'], label='Train Accuracy')\n",
        "plt.plot(history.history['val_accuracy'], label='Validation Accuracy')\n",
        "plt.title('Model Accuracy')\n",
        "plt.ylabel('Accuracy')\n",
        "plt.ylim([0.2,0.6])\n",
        "plt.xlabel('Epoch')\n",
        "plt.legend(loc='upper left')\n",
        "plt.show()"
      ],
      "metadata": {
        "colab": {
          "base_uri": "https://localhost:8080/",
          "height": 487
        },
        "id": "Fin5-QzJ6Jq7",
        "outputId": "f3836a3c-874f-487b-a4f7-3c600f97aa93"
      },
      "execution_count": 64,
      "outputs": [
        {
          "output_type": "display_data",
          "data": {
            "text/plain": [
              "<Figure size 1000x500 with 1 Axes>"
            ],
            "image/png": "[encoded data removed]"
          },
          "metadata": {}
        }
      ]
    },
    {
      "cell_type": "code",
      "source": [
        "# Evaluate the model on the test data\n",
        "test_loss, test_accuracy = model.evaluate(X_test, y_test)\n",
        "\n",
        "print(f\"Test Loss: {test_loss}\")\n",
        "print(f\"Test Accuracy: {test_accuracy}\")"
      ],
      "metadata": {
        "colab": {
          "base_uri": "https://localhost:8080/"
        },
        "id": "FTZDqdco6tKs",
        "outputId": "5acf95cc-5c29-4331-bac4-ec5cdc69db87"
      },
      "execution_count": 65,
      "outputs": [
        {
          "output_type": "stream",
          "name": "stdout",
          "text": [
            "91/91 [==============================] - 0s 3ms/step - loss: 1.4881 - accuracy: 0.3563\n",
            "Test Loss: 1.4881010055541992\n",
            "Test Accuracy: 0.3563019335269928\n"
          ]
        }
      ]
    },
    {
      "cell_type": "markdown",
      "source": [
        "## RNN #2: Word2Vec"
      ],
      "metadata": {
        "id": "zF6rr-cK8u9S"
      }
    },
    {
      "cell_type": "code",
      "source": [
        "# Convert the list of vectors into a single numpy array\n",
        "X = np.stack(df['word_vec'].values)\n",
        "\n",
        "# Add an explicit timestep dimension\n",
        "X = X.reshape((X.shape[0], 1, X.shape[1]))\n",
        "print(\"Shape of X after reshaping:\", X.shape)"
      ],
      "metadata": {
        "colab": {
          "base_uri": "https://localhost:8080/"
        },
        "id": "NkyPUkDV9sqy",
        "outputId": "ae38c3d6-e0b8-4e5d-e14a-45b40a9a39bc"
      },
      "execution_count": 21,
      "outputs": [
        {
          "output_type": "stream",
          "name": "stdout",
          "text": [
            "Shape of X after reshaping: (14438, 1, 100)\n"
          ]
        }
      ]
    },
    {
      "cell_type": "code",
      "source": [
        "from tensorflow.keras.utils import to_categorical\n",
        "from sklearn.preprocessing import LabelEncoder\n",
        "\n",
        "# Label encoding\n",
        "label_encoder = LabelEncoder()\n",
        "encoded_labels = label_encoder.fit_transform(df['label_str'])\n",
        "# Convert labels to categorical\n",
        "y = to_categorical(encoded_labels)\n",
        "\n",
        "# Split the data\n",
        "X_train, X_test, y_train, y_test = train_test_split(X, y, test_size=0.2, random_state=42)"
      ],
      "metadata": {
        "id": "pfdFtcXl9skd"
      },
      "execution_count": 22,
      "outputs": []
    },
    {
      "cell_type": "code",
      "source": [
        "print(\"Shape of X_train:\", X_train.shape)\n",
        "print(\"Shape of y_train:\", y_train.shape)"
      ],
      "metadata": {
        "colab": {
          "base_uri": "https://localhost:8080/"
        },
        "id": "HDYCSVUi9seI",
        "outputId": "eac371bf-95c4-4a26-d254-97555655515f"
      },
      "execution_count": 23,
      "outputs": [
        {
          "output_type": "stream",
          "name": "stdout",
          "text": [
            "Shape of X_train: (11550, 1, 100)\n",
            "Shape of y_train: (11550, 5)\n"
          ]
        }
      ]
    },
    {
      "cell_type": "code",
      "source": [
        "from sklearn.model_selection import train_test_split\n",
        "from nltk import word_tokenize\n",
        "\n",
        "\n",
        "data = df['text'].map(nltk.word_tokenize).values\n",
        "total_vocabulary = set(word.lower() for text in data for word in text)  # set created from nested comprehension\n",
        "\n",
        "X_train, X_test, y_train, y_test = train_test_split(X, y, test_size=0.2)\n",
        "\n",
        "# create model\n",
        "model = Sequential()\n",
        "\n",
        "embedding_size = 128\n",
        "model.add(Embedding(len(total_vocabulary), embedding_size))\n",
        "model.add(LSTM(25, return_sequences=True))\n",
        "model.add(GlobalMaxPool1D())\n",
        "model.add(Dropout(0.25))\n",
        "model.add(Dense(50, activation='relu'))\n",
        "model.add(Dropout(0.25))\n",
        "model.add(Dense(50, activation='relu'))\n",
        "model.add(Dropout(0.25))\n",
        "model.add(Dense(5, activation='softmax'))  # use 5 because we have 5 categories"
      ],
      "metadata": {
        "id": "ydlJAFQoptzY"
      },
      "execution_count": null,
      "outputs": []
    },
    {
      "cell_type": "code",
      "source": [
        "model.compile(loss='categorical_crossentropy',\n",
        "              optimizer='adam',\n",
        "              metrics=['accuracy'])\n",
        "model.summary() # check the shape\n"
      ],
      "metadata": {
        "colab": {
          "base_uri": "https://localhost:8080/"
        },
        "id": "-WPVNE6hphpk",
        "outputId": "11e9b616-eef4-4e35-9046-672749a276c4"
      },
      "execution_count": null,
      "outputs": [
        {
          "output_type": "stream",
          "name": "stdout",
          "text": [
            "Model: \"sequential_1\"\n",
            "_________________________________________________________________\n",
            " Layer (type)                Output Shape              Param #   \n",
            "=================================================================\n",
            " embedding_1 (Embedding)     (None, None, 128)         4460416   \n",
            "                                                                 \n",
            " lstm_1 (LSTM)               (None, None, 25)          15400     \n",
            "                                                                 \n",
            " global_max_pooling1d_1 (Gl  (None, 25)                0         \n",
            " obalMaxPooling1D)                                               \n",
            "                                                                 \n",
            " dropout_3 (Dropout)         (None, 25)                0         \n",
            "                                                                 \n",
            " dense_3 (Dense)             (None, 50)                1300      \n",
            "                                                                 \n",
            " dropout_4 (Dropout)         (None, 50)                0         \n",
            "                                                                 \n",
            " dense_4 (Dense)             (None, 50)                2550      \n",
            "                                                                 \n",
            " dropout_5 (Dropout)         (None, 50)                0         \n",
            "                                                                 \n",
            " dense_5 (Dense)             (None, 5)                 255       \n",
            "                                                                 \n",
            "=================================================================\n",
            "Total params: 4479921 (17.09 MB)\n",
            "Trainable params: 4479921 (17.09 MB)\n",
            "Non-trainable params: 0 (0.00 Byte)\n",
            "_________________________________________________________________\n"
          ]
        }
      ]
    },
    {
      "cell_type": "code",
      "source": [
        "from tensorflow.keras.callbacks import EarlyStopping\n",
        "\n",
        "# configure early stopping\n",
        "early_stopping = EarlyStopping(monitor='val_loss', patience=10, verbose=1, mode='min', restore_best_weights=True)\n",
        "\n",
        "# train the model with early stopping\n",
        "history = model.fit(X_train, y_train,\n",
        "          epochs=10,\n",
        "          batch_size=32,\n",
        "          validation_split=0.1,\n",
        "          callbacks=[early_stopping])"
      ],
      "metadata": {
        "colab": {
          "base_uri": "https://localhost:8080/"
        },
        "id": "TWoCXiZtqItt",
        "outputId": "f5417d57-570d-4ca4-b576-c619c6e31f60"
      },
      "execution_count": null,
      "outputs": [
        {
          "output_type": "stream",
          "name": "stdout",
          "text": [
            "Epoch 1/10\n",
            "325/325 [==============================] - 28s 78ms/step - loss: 1.3665 - accuracy: 0.4321 - val_loss: 1.1358 - val_accuracy: 0.5723\n",
            "Epoch 2/10\n",
            "325/325 [==============================] - 13s 39ms/step - loss: 1.0921 - accuracy: 0.5608 - val_loss: 1.0610 - val_accuracy: 0.5645\n",
            "Epoch 3/10\n",
            "325/325 [==============================] - 9s 27ms/step - loss: 0.9283 - accuracy: 0.6203 - val_loss: 1.0143 - val_accuracy: 0.5758\n",
            "Epoch 4/10\n",
            "325/325 [==============================] - 7s 23ms/step - loss: 0.8094 - accuracy: 0.6735 - val_loss: 1.1227 - val_accuracy: 0.5593\n",
            "Epoch 5/10\n",
            "325/325 [==============================] - 7s 21ms/step - loss: 0.7213 - accuracy: 0.7142 - val_loss: 1.1650 - val_accuracy: 0.5619\n",
            "Epoch 6/10\n",
            "325/325 [==============================] - 6s 18ms/step - loss: 0.6359 - accuracy: 0.7512 - val_loss: 1.1985 - val_accuracy: 0.5593\n",
            "Epoch 7/10\n",
            "325/325 [==============================] - 5s 16ms/step - loss: 0.5949 - accuracy: 0.7605 - val_loss: 1.4177 - val_accuracy: 0.5463\n",
            "Epoch 8/10\n",
            "325/325 [==============================] - 6s 17ms/step - loss: 0.5479 - accuracy: 0.7741 - val_loss: 1.4713 - val_accuracy: 0.5455\n",
            "Epoch 9/10\n",
            "325/325 [==============================] - 5s 16ms/step - loss: 0.5133 - accuracy: 0.7823 - val_loss: 1.5754 - val_accuracy: 0.5212\n",
            "Epoch 10/10\n",
            "325/325 [==============================] - 5s 15ms/step - loss: 0.4959 - accuracy: 0.7847 - val_loss: 1.6221 - val_accuracy: 0.5126\n"
          ]
        }
      ]
    },
    {
      "cell_type": "code",
      "source": [
        "import matplotlib.pyplot as plt\n",
        "\n",
        "# Plotting training and validation accuracy\n",
        "plt.figure(figsize=(10, 5))\n",
        "plt.plot(history.history['accuracy'], label='Train Accuracy')\n",
        "plt.plot(history.history['val_accuracy'], label='Validation Accuracy')\n",
        "plt.title('Model Accuracy')\n",
        "plt.ylabel('Accuracy')\n",
        "plt.ylim([0.4,1])\n",
        "plt.xlabel('Epoch')\n",
        "plt.legend(loc='upper left')\n",
        "plt.show()"
      ],
      "metadata": {
        "colab": {
          "base_uri": "https://localhost:8080/",
          "height": 487
        },
        "id": "gFfRdW5LqP1k",
        "outputId": "9909f868-c044-4963-beab-b1b2d0782c99"
      },
      "execution_count": null,
      "outputs": [
        {
          "output_type": "display_data",
          "data": {
            "text/plain": [
              "<Figure size 1000x500 with 1 Axes>"
            ],
            "image/png": "[encoded data removed]"
          },
          "metadata": {}
        }
      ]
    },
    {
      "cell_type": "code",
      "source": [
        "# Evaluate the model on the test data\n",
        "test_loss, test_accuracy = model.evaluate(X_test, y_test)\n",
        "\n",
        "print(f\"Test Loss: {test_loss}\")\n",
        "print(f\"Test Accuracy: {test_accuracy}\")"
      ],
      "metadata": {
        "colab": {
          "base_uri": "https://localhost:8080/"
        },
        "id": "Tj7PVkFyrbXO",
        "outputId": "de574e4f-ff9f-48d6-a00c-aa0034b1df1d"
      },
      "execution_count": null,
      "outputs": [
        {
          "output_type": "stream",
          "name": "stdout",
          "text": [
            "91/91 [==============================] - 1s 7ms/step - loss: 1.7063 - accuracy: 0.4976\n",
            "Test Loss: 1.7062660455703735\n",
            "Test Accuracy: 0.49757617712020874\n"
          ]
        }
      ]
    },
    {
      "cell_type": "markdown",
      "source": [
        "## XGBoost: Word2Vec"
      ],
      "metadata": {
        "id": "_BWijim3uosC"
      }
    },
    {
      "cell_type": "code",
      "source": [
        "df.head()"
      ],
      "metadata": {
        "colab": {
          "base_uri": "https://localhost:8080/",
          "height": 206
        },
        "id": "G-dGUXTOv4ZF",
        "outputId": "5077bb2f-1315-4378-b395-a0c2f9d688c6"
      },
      "execution_count": 40,
      "outputs": [
        {
          "output_type": "execute_result",
          "data": {
            "text/plain": [
              "   label                                               text       label_str  \\\n",
              "0      5  urodynamic morbidity dysuria prophylaxis group...    pathological   \n",
              "1      1  lack effect pregnancy outcome melanoma world h...       neoplasms   \n",
              "2      5  exposure intracavernous carotid artery aneurys...    pathological   \n",
              "3      4  coronary blood flow dogs contractile dysfuncti...  cardiovascular   \n",
              "4      1  ectatic blood vessels port wine stains lack in...       neoplasms   \n",
              "\n",
              "                                      tokenized_text  \\\n",
              "0  ['urodynamic', 'morbidity', 'dysuria', 'prophy...   \n",
              "1  ['lack', 'effect', 'pregnancy', 'outcome', 'me...   \n",
              "2  ['exposure', 'intracavernous', 'carotid', 'art...   \n",
              "3  ['coronary', 'blood', 'flow', 'dogs', 'contrac...   \n",
              "4  ['ectatic', 'blood', 'vessels', 'port', 'wine'...   \n",
              "\n",
              "                                         word_vector  doc_vector  \\\n",
              "0  [-0.51320714 -0.04813077 -0.3158617   0.499952...         NaN   \n",
              "1  [-0.6884897  -0.338992   -0.37078735  0.623095...         NaN   \n",
              "2  [ 2.4191120e-01  2.2851223e-01  5.5464220e-01 ...         NaN   \n",
              "3  [-0.01340567  0.50977886  0.3093509   0.144892...         NaN   \n",
              "4  [-0.13627407  0.23747823  0.0885198   0.026780...         NaN   \n",
              "\n",
              "                                            word_vec  \\\n",
              "0  [0.1321849081852644, 0.25502895861423225, 0.19...   \n",
              "1  [0.14289511329973276, 0.25436502934135646, 0.2...   \n",
              "2  [0.155448986670824, 0.28675772562450286, 0.246...   \n",
              "3  [0.16296972926514555, 0.28471106704386406, 0.2...   \n",
              "4  [0.16248775945891528, 0.2801855075094291, 0.21...   \n",
              "\n",
              "                                             doc_vec  \n",
              "0  [0.16542488, -0.013994893, -0.021934466, 0.103...  \n",
              "1  [0.018436024, 0.13624802, -0.10810895, 0.09810...  \n",
              "2  [0.4275761, 0.07218752, 0.0123384185, -0.13535...  \n",
              "3  [0.30512378, 0.16227414, 0.17712279, 0.0602712...  \n",
              "4  [0.19259657, 0.19672395, 0.118724726, 0.130381...  "
            ],
            "text/html": [
              "\n",
              "  <div id=\"df-e9392590-7603-494d-88ba-56b9e108977c\" class=\"colab-df-container\">\n",
              "    <div>\n",
              "<style scoped>\n",
              "    .dataframe tbody tr th:only-of-type {\n",
              "        vertical-align: middle;\n",
              "    }\n",
              "\n",
              "    .dataframe tbody tr th {\n",
              "        vertical-align: top;\n",
              "    }\n",
              "\n",
              "    .dataframe thead th {\n",
              "        text-align: right;\n",
              "    }\n",
              "</style>\n",
              "<table border=\"1\" class=\"dataframe\">\n",
              "  <thead>\n",
              "    <tr style=\"text-align: right;\">\n",
              "      <th></th>\n",
              "      <th>label</th>\n",
              "      <th>text</th>\n",
              "      <th>label_str</th>\n",
              "      <th>tokenized_text</th>\n",
              "      <th>word_vector</th>\n",
              "      <th>doc_vector</th>\n",
              "      <th>word_vec</th>\n",
              "      <th>doc_vec</th>\n",
              "    </tr>\n",
              "  </thead>\n",
              "  <tbody>\n",
              "    <tr>\n",
              "      <th>0</th>\n",
              "      <td>5</td>\n",
              "      <td>urodynamic morbidity dysuria prophylaxis group...</td>\n",
              "      <td>pathological</td>\n",
              "      <td>['urodynamic', 'morbidity', 'dysuria', 'prophy...</td>\n",
              "      <td>[-0.51320714 -0.04813077 -0.3158617   0.499952...</td>\n",
              "      <td>NaN</td>\n",
              "      <td>[0.1321849081852644, 0.25502895861423225, 0.19...</td>\n",
              "      <td>[0.16542488, -0.013994893, -0.021934466, 0.103...</td>\n",
              "    </tr>\n",
              "    <tr>\n",
              "      <th>1</th>\n",
              "      <td>1</td>\n",
              "      <td>lack effect pregnancy outcome melanoma world h...</td>\n",
              "      <td>neoplasms</td>\n",
              "      <td>['lack', 'effect', 'pregnancy', 'outcome', 'me...</td>\n",
              "      <td>[-0.6884897  -0.338992   -0.37078735  0.623095...</td>\n",
              "      <td>NaN</td>\n",
              "      <td>[0.14289511329973276, 0.25436502934135646, 0.2...</td>\n",
              "      <td>[0.018436024, 0.13624802, -0.10810895, 0.09810...</td>\n",
              "    </tr>\n",
              "    <tr>\n",
              "      <th>2</th>\n",
              "      <td>5</td>\n",
              "      <td>exposure intracavernous carotid artery aneurys...</td>\n",
              "      <td>pathological</td>\n",
              "      <td>['exposure', 'intracavernous', 'carotid', 'art...</td>\n",
              "      <td>[ 2.4191120e-01  2.2851223e-01  5.5464220e-01 ...</td>\n",
              "      <td>NaN</td>\n",
              "      <td>[0.155448986670824, 0.28675772562450286, 0.246...</td>\n",
              "      <td>[0.4275761, 0.07218752, 0.0123384185, -0.13535...</td>\n",
              "    </tr>\n",
              "    <tr>\n",
              "      <th>3</th>\n",
              "      <td>4</td>\n",
              "      <td>coronary blood flow dogs contractile dysfuncti...</td>\n",
              "      <td>cardiovascular</td>\n",
              "      <td>['coronary', 'blood', 'flow', 'dogs', 'contrac...</td>\n",
              "      <td>[-0.01340567  0.50977886  0.3093509   0.144892...</td>\n",
              "      <td>NaN</td>\n",
              "      <td>[0.16296972926514555, 0.28471106704386406, 0.2...</td>\n",
              "      <td>[0.30512378, 0.16227414, 0.17712279, 0.0602712...</td>\n",
              "    </tr>\n",
              "    <tr>\n",
              "      <th>4</th>\n",
              "      <td>1</td>\n",
              "      <td>ectatic blood vessels port wine stains lack in...</td>\n",
              "      <td>neoplasms</td>\n",
              "      <td>['ectatic', 'blood', 'vessels', 'port', 'wine'...</td>\n",
              "      <td>[-0.13627407  0.23747823  0.0885198   0.026780...</td>\n",
              "      <td>NaN</td>\n",
              "      <td>[0.16248775945891528, 0.2801855075094291, 0.21...</td>\n",
              "      <td>[0.19259657, 0.19672395, 0.118724726, 0.130381...</td>\n",
              "    </tr>\n",
              "  </tbody>\n",
              "</table>\n",
              "</div>\n",
              "    <div class=\"colab-df-buttons\">\n",
              "\n",
              "  <div class=\"colab-df-container\">\n",
              "    <button class=\"colab-df-convert\" onclick=\"convertToInteractive('df-e9392590-7603-494d-88ba-56b9e108977c')\"\n",
              "            title=\"Convert this dataframe to an interactive table.\"\n",
              "            style=\"display:none;\">\n",
              "\n",
              "  <svg xmlns=\"http://www.w3.org/2000/svg\" height=\"24px\" viewBox=\"0 -960 960 960\">\n",
              "    <path d=\"M120-120v-720h720v720H120Zm60-500h600v-160H180v160Zm220 220h160v-160H400v160Zm0 220h160v-160H400v160ZM180-400h160v-160H180v160Zm440 0h160v-160H620v160ZM180-180h160v-160H180v160Zm440 0h160v-160H620v160Z\"/>\n",
              "  </svg>\n",
              "    </button>\n",
              "\n",
              "  <style>\n",
              "    .colab-df-container {\n",
              "      display:flex;\n",
              "      gap: 12px;\n",
              "    }\n",
              "\n",
              "    .colab-df-convert {\n",
              "      background-color: #E8F0FE;\n",
              "      border: none;\n",
              "      border-radius: 50%;\n",
              "      cursor: pointer;\n",
              "      display: none;\n",
              "      fill: #1967D2;\n",
              "      height: 32px;\n",
              "      padding: 0 0 0 0;\n",
              "      width: 32px;\n",
              "    }\n",
              "\n",
              "    .colab-df-convert:hover {\n",
              "      background-color: #E2EBFA;\n",
              "      box-shadow: 0px 1px 2px rgba(60, 64, 67, 0.3), 0px 1px 3px 1px rgba(60, 64, 67, 0.15);\n",
              "      fill: #174EA6;\n",
              "    }\n",
              "\n",
              "    .colab-df-buttons div {\n",
              "      margin-bottom: 4px;\n",
              "    }\n",
              "\n",
              "    [theme=dark] .colab-df-convert {\n",
              "      background-color: #3B4455;\n",
              "      fill: #D2E3FC;\n",
              "    }\n",
              "\n",
              "    [theme=dark] .colab-df-convert:hover {\n",
              "      background-color: #434B5C;\n",
              "      box-shadow: 0px 1px 3px 1px rgba(0, 0, 0, 0.15);\n",
              "      filter: drop-shadow(0px 1px 2px rgba(0, 0, 0, 0.3));\n",
              "      fill: #FFFFFF;\n",
              "    }\n",
              "  </style>\n",
              "\n",
              "    <script>\n",
              "      const buttonEl =\n",
              "        document.querySelector('#df-e9392590-7603-494d-88ba-56b9e108977c button.colab-df-convert');\n",
              "      buttonEl.style.display =\n",
              "        google.colab.kernel.accessAllowed ? 'block' : 'none';\n",
              "\n",
              "      async function convertToInteractive(key) {\n",
              "        const element = document.querySelector('#df-e9392590-7603-494d-88ba-56b9e108977c');\n",
              "        const dataTable =\n",
              "          await google.colab.kernel.invokeFunction('convertToInteractive',\n",
              "                                                    [key], {});\n",
              "        if (!dataTable) return;\n",
              "\n",
              "        const docLinkHtml = 'Like what you see? Visit the ' +\n",
              "          '<a target=\"_blank\" href=https://colab.research.google.com/notebooks/data_table.ipynb>data table notebook</a>'\n",
              "          + ' to learn more about interactive tables.';\n",
              "        element.innerHTML = '';\n",
              "        dataTable['output_type'] = 'display_data';\n",
              "        await google.colab.output.renderOutput(dataTable, element);\n",
              "        const docLink = document.createElement('div');\n",
              "        docLink.innerHTML = docLinkHtml;\n",
              "        element.appendChild(docLink);\n",
              "      }\n",
              "    </script>\n",
              "  </div>\n",
              "\n",
              "\n",
              "<div id=\"df-ec7391b5-61eb-4b0a-84f0-70b438288000\">\n",
              "  <button class=\"colab-df-quickchart\" onclick=\"quickchart('df-ec7391b5-61eb-4b0a-84f0-70b438288000')\"\n",
              "            title=\"Suggest charts\"\n",
              "            style=\"display:none;\">\n",
              "\n",
              "<svg xmlns=\"http://www.w3.org/2000/svg\" height=\"24px\"viewBox=\"0 0 24 24\"\n",
              "     width=\"24px\">\n",
              "    <g>\n",
              "        <path d=\"M19 3H5c-1.1 0-2 .9-2 2v14c0 1.1.9 2 2 2h14c1.1 0 2-.9 2-2V5c0-1.1-.9-2-2-2zM9 17H7v-7h2v7zm4 0h-2V7h2v10zm4 0h-2v-4h2v4z\"/>\n",
              "    </g>\n",
              "</svg>\n",
              "  </button>\n",
              "\n",
              "<style>\n",
              "  .colab-df-quickchart {\n",
              "      --bg-color: #E8F0FE;\n",
              "      --fill-color: #1967D2;\n",
              "      --hover-bg-color: #E2EBFA;\n",
              "      --hover-fill-color: #174EA6;\n",
              "      --disabled-fill-color: #AAA;\n",
              "      --disabled-bg-color: #DDD;\n",
              "  }\n",
              "\n",
              "  [theme=dark] .colab-df-quickchart {\n",
              "      --bg-color: #3B4455;\n",
              "      --fill-color: #D2E3FC;\n",
              "      --hover-bg-color: #434B5C;\n",
              "      --hover-fill-color: #FFFFFF;\n",
              "      --disabled-bg-color: #3B4455;\n",
              "      --disabled-fill-color: #666;\n",
              "  }\n",
              "\n",
              "  .colab-df-quickchart {\n",
              "    background-color: var(--bg-color);\n",
              "    border: none;\n",
              "    border-radius: 50%;\n",
              "    cursor: pointer;\n",
              "    display: none;\n",
              "    fill: var(--fill-color);\n",
              "    height: 32px;\n",
              "    padding: 0;\n",
              "    width: 32px;\n",
              "  }\n",
              "\n",
              "  .colab-df-quickchart:hover {\n",
              "    background-color: var(--hover-bg-color);\n",
              "    box-shadow: 0 1px 2px rgba(60, 64, 67, 0.3), 0 1px 3px 1px rgba(60, 64, 67, 0.15);\n",
              "    fill: var(--button-hover-fill-color);\n",
              "  }\n",
              "\n",
              "  .colab-df-quickchart-complete:disabled,\n",
              "  .colab-df-quickchart-complete:disabled:hover {\n",
              "    background-color: var(--disabled-bg-color);\n",
              "    fill: var(--disabled-fill-color);\n",
              "    box-shadow: none;\n",
              "  }\n",
              "\n",
              "  .colab-df-spinner {\n",
              "    border: 2px solid var(--fill-color);\n",
              "    border-color: transparent;\n",
              "    border-bottom-color: var(--fill-color);\n",
              "    animation:\n",
              "      spin 1s steps(1) infinite;\n",
              "  }\n",
              "\n",
              "  @keyframes spin {\n",
              "    0% {\n",
              "      border-color: transparent;\n",
              "      border-bottom-color: var(--fill-color);\n",
              "      border-left-color: var(--fill-color);\n",
              "    }\n",
              "    20% {\n",
              "      border-color: transparent;\n",
              "      border-left-color: var(--fill-color);\n",
              "      border-top-color: var(--fill-color);\n",
              "    }\n",
              "    30% {\n",
              "      border-color: transparent;\n",
              "      border-left-color: var(--fill-color);\n",
              "      border-top-color: var(--fill-color);\n",
              "      border-right-color: var(--fill-color);\n",
              "    }\n",
              "    40% {\n",
              "      border-color: transparent;\n",
              "      border-right-color: var(--fill-color);\n",
              "      border-top-color: var(--fill-color);\n",
              "    }\n",
              "    60% {\n",
              "      border-color: transparent;\n",
              "      border-right-color: var(--fill-color);\n",
              "    }\n",
              "    80% {\n",
              "      border-color: transparent;\n",
              "      border-right-color: var(--fill-color);\n",
              "      border-bottom-color: var(--fill-color);\n",
              "    }\n",
              "    90% {\n",
              "      border-color: transparent;\n",
              "      border-bottom-color: var(--fill-color);\n",
              "    }\n",
              "  }\n",
              "</style>\n",
              "\n",
              "  <script>\n",
              "    async function quickchart(key) {\n",
              "      const quickchartButtonEl =\n",
              "        document.querySelector('#' + key + ' button');\n",
              "      quickchartButtonEl.disabled = true;  // To prevent multiple clicks.\n",
              "      quickchartButtonEl.classList.add('colab-df-spinner');\n",
              "      try {\n",
              "        const charts = await google.colab.kernel.invokeFunction(\n",
              "            'suggestCharts', [key], {});\n",
              "      } catch (error) {\n",
              "        console.error('Error during call to suggestCharts:', error);\n",
              "      }\n",
              "      quickchartButtonEl.classList.remove('colab-df-spinner');\n",
              "      quickchartButtonEl.classList.add('colab-df-quickchart-complete');\n",
              "    }\n",
              "    (() => {\n",
              "      let quickchartButtonEl =\n",
              "        document.querySelector('#df-ec7391b5-61eb-4b0a-84f0-70b438288000 button');\n",
              "      quickchartButtonEl.style.display =\n",
              "        google.colab.kernel.accessAllowed ? 'block' : 'none';\n",
              "    })();\n",
              "  </script>\n",
              "</div>\n",
              "\n",
              "    </div>\n",
              "  </div>\n"
            ],
            "application/vnd.google.colaboratory.intrinsic+json": {
              "type": "dataframe",
              "variable_name": "df",
              "summary": "{\n  \"name\": \"df\",\n  \"rows\": 14438,\n  \"fields\": [\n    {\n      \"column\": \"label\",\n      \"properties\": {\n        \"dtype\": \"number\",\n        \"std\": 1,\n        \"min\": 1,\n        \"max\": 5,\n        \"num_unique_values\": 5,\n        \"samples\": [\n          1,\n          2,\n          4\n        ],\n        \"semantic_type\": \"\",\n        \"description\": \"\"\n      }\n    },\n    {\n      \"column\": \"text\",\n      \"properties\": {\n        \"dtype\": \"string\",\n        \"num_unique_values\": 11226,\n        \"samples\": [\n          \"hepatic amino nitrogen clearance urea nitrogen control subjects patients cirrhosis simplified method functional hepatic nitrogen clearance amino acid infusion measure liver cell mass clinical feasibility test far limited methodological problems simplified procedure used measure urea nitrogen synthesis rate functional hepatic nitrogen clearance nine subjects normal liver function nine patients cirrhosis method based four consecutive hr urine collections five blood samples total body water calculated nomogram based age anthropometric data whereas gut urea hydrolysis assigned one fixed fraction synthesis control subjects patients cirrhosis finally solution single amino acid alanine infused substrate urea synthesis urea nitrogen synthesis rate increased linearly increasing alpha amino nitrogen concentration slope regression functional hepatic nitrogen clearance reduced cirrhosis l hr l hr p less hepatic nitrogen clearance linearly related clinical status child pugh score routine liver function tests galactose elimination capacity r well established quantitative liver function measure simplified method makes measurement hepatic nitrogen clearance suitable routine clinical use test might prove useful study alterations nitrogen metabolism cirrhosis special reference hepatic encephalopathy\",\n          \"effect short course prednisone prevention early relapse emergency room treatment acute asthma background relapse treatment acute asthma emergency room common occurring percent cases accurately predicted available measurements studied usefulness prednisone reducing high rate relapse methods one hundred twenty two patients treated emergency room acute exacerbations asthma assigned randomized double blind fashion receive discharge either prednisone eight days dose tapered mg per day matching placebo ninety three subsequently discharged emergency room participated trial days discharge patients assessed home visits spirometry diary card review contacted telephone day relapse defined unscheduled medical visit occasioned patients perceived need asthma treatment results overall risk relapse significantly lower prednisone group p less significantly reduced rate relapse first days follow compared placebo group p less thereafter days significant difference relapse rates treatment groups five prednisone group six placebo group first week discharge patients receiving prednisone reported significantly lower mean sd daily symptom scores shortness breath vs p less less frequent use inhaled bronchodilator vs puffs per day p less patients receiving placebo subsequently symptom scores bronchodilator use similar two groups conclusions short course prednisone reduced early relapse rates treatment acute asthma emergency room effect limited period steroid administration\",\n          \"primary repair gastroschisis omphalocele always best operation optimal surgical management neonates gastroschisis omphalocele remains controversial suggested benefits primary fascial closure include earlier return gastrointestinal function decreased hospital stay less sepsis less risk postoperative intestinal obstruction fistulae lower mortality neonates gastroschisis omphalocele underwent repair primary fascial repair performed children gastroschisis omphalocele ten children staged repair use silastic silo seven gastroschisis three omphalocele comparison groups made regarding birth weight days ventilator surgery days first feeding days hospital surgery postoperative complications survival significant difference birth weight days ventilator days first feeding postoperative days hospital nine complications nine patients primary repair four complications two patients staged repair two infants died primary repair one died staged closure concluded silastic silo repair primary fascial closure acceptable alternatives primary closure attractive whenever possible avoid additional operations\"\n        ],\n        \"semantic_type\": \"\",\n        \"description\": \"\"\n      }\n    },\n    {\n      \"column\": \"label_str\",\n      \"properties\": {\n        \"dtype\": \"category\",\n        \"num_unique_values\": 5,\n        \"samples\": [\n          \"neoplasms\",\n          \"digestive\",\n          \"cardiovascular\"\n        ],\n        \"semantic_type\": \"\",\n        \"description\": \"\"\n      }\n    },\n    {\n      \"column\": \"tokenized_text\",\n      \"properties\": {\n        \"dtype\": \"string\",\n        \"num_unique_values\": 11226,\n        \"samples\": [\n          \"['hepatic', 'amino', 'nitrogen', 'clearance', 'urea', 'nitrogen', 'control', 'subjects', 'patients', 'cirrhosis', 'simplified', 'method', 'functional', 'hepatic', 'nitrogen', 'clearance', 'amino', 'acid', 'infusion', 'measure', 'liver', 'cell', 'mass', 'clinical', 'feasibility', 'test', 'far', 'limited', 'methodological', 'problems', 'simplified', 'procedure', 'used', 'measure', 'urea', 'nitrogen', 'synthesis', 'rate', 'functional', 'hepatic', 'nitrogen', 'clearance', 'nine', 'subjects', 'normal', 'liver', 'function', 'nine', 'patients', 'cirrhosis', 'method', 'based', 'four', 'consecutive', 'hr', 'urine', 'collections', 'five', 'blood', 'samples', 'total', 'body', 'water', 'calculated', 'nomogram', 'based', 'age', 'anthropometric', 'data', 'whereas', 'gut', 'urea', 'hydrolysis', 'assigned', 'one', 'fixed', 'fraction', 'synthesis', 'control', 'subjects', 'patients', 'cirrhosis', 'finally', 'solution', 'single', 'amino', 'acid', 'alanine', 'infused', 'substrate', 'urea', 'synthesis', 'urea', 'nitrogen', 'synthesis', 'rate', 'increased', 'linearly', 'increasing', 'alpha', 'amino', 'nitrogen', 'concentration', 'slope', 'regression', 'functional', 'hepatic', 'nitrogen', 'clearance', 'reduced', 'cirrhosis', 'l', 'hr', 'l', 'hr', 'p', 'less', 'hepatic', 'nitrogen', 'clearance', 'linearly', 'related', 'clinical', 'status', 'child', 'pugh', 'score', 'routine', 'liver', 'function', 'tests', 'galactose', 'elimination', 'capacity', 'r', 'well', 'established', 'quantitative', 'liver', 'function', 'measure', 'simplified', 'method', 'makes', 'measurement', 'hepatic', 'nitrogen', 'clearance', 'suitable', 'routine', 'clinical', 'use', 'test', 'might', 'prove', 'useful', 'study', 'alterations', 'nitrogen', 'metabolism', 'cirrhosis', 'special', 'reference', 'hepatic', 'encephalopathy']\",\n          \"['effect', 'short', 'course', 'prednisone', 'prevention', 'early', 'relapse', 'emergency', 'room', 'treatment', 'acute', 'asthma', 'background', 'relapse', 'treatment', 'acute', 'asthma', 'emergency', 'room', 'common', 'occurring', 'percent', 'cases', 'accurately', 'predicted', 'available', 'measurements', 'studied', 'usefulness', 'prednisone', 'reducing', 'high', 'rate', 'relapse', 'methods', 'one', 'hundred', 'twenty', 'two', 'patients', 'treated', 'emergency', 'room', 'acute', 'exacerbations', 'asthma', 'assigned', 'randomized', 'double', 'blind', 'fashion', 'receive', 'discharge', 'either', 'prednisone', 'eight', 'days', 'dose', 'tapered', 'mg', 'per', 'day', 'matching', 'placebo', 'ninety', 'three', 'subsequently', 'discharged', 'emergency', 'room', 'participated', 'trial', 'days', 'discharge', 'patients', 'assessed', 'home', 'visits', 'spirometry', 'diary', 'card', 'review', 'contacted', 'telephone', 'day', 'relapse', 'defined', 'unscheduled', 'medical', 'visit', 'occasioned', 'patients', 'perceived', 'need', 'asthma', 'treatment', 'results', 'overall', 'risk', 'relapse', 'significantly', 'lower', 'prednisone', 'group', 'p', 'less', 'significantly', 'reduced', 'rate', 'relapse', 'first', 'days', 'follow', 'compared', 'placebo', 'group', 'p', 'less', 'thereafter', 'days', 'significant', 'difference', 'relapse', 'rates', 'treatment', 'groups', 'five', 'prednisone', 'group', 'six', 'placebo', 'group', 'first', 'week', 'discharge', 'patients', 'receiving', 'prednisone', 'reported', 'significantly', 'lower', 'mean', 'sd', 'daily', 'symptom', 'scores', 'shortness', 'breath', 'vs', 'p', 'less', 'less', 'frequent', 'use', 'inhaled', 'bronchodilator', 'vs', 'puffs', 'per', 'day', 'p', 'less', 'patients', 'receiving', 'placebo', 'subsequently', 'symptom', 'scores', 'bronchodilator', 'use', 'similar', 'two', 'groups', 'conclusions', 'short', 'course', 'prednisone', 'reduced', 'early', 'relapse', 'rates', 'treatment', 'acute', 'asthma', 'emergency', 'room', 'effect', 'limited', 'period', 'steroid', 'administration']\",\n          \"['primary', 'repair', 'gastroschisis', 'omphalocele', 'always', 'best', 'operation', 'optimal', 'surgical', 'management', 'neonates', 'gastroschisis', 'omphalocele', 'remains', 'controversial', 'suggested', 'benefits', 'primary', 'fascial', 'closure', 'include', 'earlier', 'return', 'gastrointestinal', 'function', 'decreased', 'hospital', 'stay', 'less', 'sepsis', 'less', 'risk', 'postoperative', 'intestinal', 'obstruction', 'fistulae', 'lower', 'mortality', 'neonates', 'gastroschisis', 'omphalocele', 'underwent', 'repair', 'primary', 'fascial', 'repair', 'performed', 'children', 'gastroschisis', 'omphalocele', 'ten', 'children', 'staged', 'repair', 'use', 'silastic', 'silo', 'seven', 'gastroschisis', 'three', 'omphalocele', 'comparison', 'groups', 'made', 'regarding', 'birth', 'weight', 'days', 'ventilator', 'surgery', 'days', 'first', 'feeding', 'days', 'hospital', 'surgery', 'postoperative', 'complications', 'survival', 'significant', 'difference', 'birth', 'weight', 'days', 'ventilator', 'days', 'first', 'feeding', 'postoperative', 'days', 'hospital', 'nine', 'complications', 'nine', 'patients', 'primary', 'repair', 'four', 'complications', 'two', 'patients', 'staged', 'repair', 'two', 'infants', 'died', 'primary', 'repair', 'one', 'died', 'staged', 'closure', 'concluded', 'silastic', 'silo', 'repair', 'primary', 'fascial', 'closure', 'acceptable', 'alternatives', 'primary', 'closure', 'attractive', 'whenever', 'possible', 'avoid', 'additional', 'operations']\"\n        ],\n        \"semantic_type\": \"\",\n        \"description\": \"\"\n      }\n    },\n    {\n      \"column\": \"word_vector\",\n      \"properties\": {\n        \"dtype\": \"string\",\n        \"num_unique_values\": 12214,\n        \"samples\": [\n          \"[-0.07912938  0.44749293  0.12862702 -0.11620719 -0.46441406 -0.34754777\\n -0.32631975  0.85658216 -0.61653507 -0.2961193  -0.42889416 -0.72284454\\n -0.08620054  0.40780544 -0.10039877  0.27312866 -0.083256   -0.1270794\\n  0.33855045 -0.8344443  -0.01433089  0.05364626  0.38530898 -0.04007271\\n -0.01476818  0.35852695 -0.28853315 -0.36358652 -0.22837579  0.20599943\\n  0.8306594   0.23533991  0.6324874  -0.4261277  -0.10200135  0.44493413\\n  0.18221013 -0.39994115  0.14466986 -0.70513225  0.05656959  0.17300422\\n -0.28638354 -0.566943   -0.01045371 -0.2556709   0.00453844 -0.12130618\\n  0.40950894  0.13968627 -0.35631782 -0.31832266 -0.23318264 -0.00805788\\n  0.00401773 -0.07116443  0.42407772 -0.5718953  -0.71132755  0.1979793\\n  0.17186472  0.17430963 -0.40976825 -0.13007861 -0.40363577  0.4269069\\n  0.44394404 -0.03411628 -0.23568848  0.31114373 -0.00946475  0.10446822\\n  0.22415574  0.15482558  0.71440756 -0.11120268  0.10530639 -0.11609348\\n  0.04907548  0.07459932  0.3023427  -0.2387125   0.10842519  0.32619128\\n -0.24347228 -0.04217247 -0.30235377  0.00222654  0.6076526   0.302424\\n  0.08169036  0.20767684 -0.02038883 -0.09639222  0.24950203  0.04073448\\n -0.06600157 -0.47841263 -0.13803165  0.29503593]\",\n          \"[-0.36356127 -0.25239697 -0.2631443   0.32714054 -0.20982139 -0.7196331\\n -0.08294322  0.7546013  -0.14762087  0.06559352 -0.17185532 -0.3059991\\n -0.17585899  0.31607875 -0.22403425  0.03481435  0.61548835 -0.6425852\\n -0.5338048  -0.52407575  0.63276124 -0.19579832  0.55920386  0.02014435\\n -0.15151027 -0.1856304  -0.2627269   0.04894747 -0.27344692  0.17778632\\n  0.4159121   0.10555118  0.0023512  -0.06999747 -0.17359678  0.49736726\\n -0.10436425 -0.3505011  -0.42871588  0.07797431  0.07818588  0.09020093\\n -0.44861203 -0.43583852  0.08998721 -0.10312446 -0.16042514 -0.20015246\\n  0.27929014  0.14168297  0.10515562 -0.40999335 -0.38939467  0.03870967\\n  0.12360463 -0.10011388  0.07280519 -0.00317816 -0.23506117  0.13127679\\n -0.131945    0.06514887  0.2154423  -0.12510806 -0.21144363  0.43946877\\n  0.2600021   0.26179287 -0.67719436  0.48217705 -0.13021164  0.32991022\\n  0.49199647 -0.28653163 -0.07510674  0.26119512  0.02356748 -0.00427232\\n -0.24725442 -0.11173722 -0.48373267  0.05861991 -0.06731461  0.8912687\\n  0.0559637  -0.18654774  0.10400793  0.34440815  0.24561942 -0.13924582\\n  0.18111552  0.1440518   0.16603225  0.22255145  0.37519184  0.00361882\\n  0.2929565  -0.22890261 -0.26732412 -0.01770953]\",\n          \"[-0.26417762  0.13615629 -0.00973605  0.17096524  0.02884155 -0.4602992\\n  0.10692568  0.6747066  -0.19357051 -0.26332924 -0.21755596 -0.5754128\\n  0.10692713  0.35157612  0.07192849 -0.20173576  0.1347134  -0.24471413\\n  0.03619176 -0.35143298  0.20633285  0.1460683   0.31501082 -0.03705311\\n -0.12017721 -0.15602273 -0.04893676 -0.05870683 -0.06734244  0.00590218\\n  0.3969599   0.02347911  0.17770487 -0.04666385  0.05555848  0.35147887\\n  0.09011806 -0.2458626  -0.14611149 -0.21246356  0.10204632  0.1189338\\n -0.4664205  -0.07507611  0.22321352  0.02232296 -0.05348195 -0.05158608\\n  0.02661367  0.14311458  0.03477726 -0.33912253  0.00229567 -0.04550369\\n  0.02668239  0.00681639  0.14433554  0.03817533 -0.17959084  0.15956771\\n -0.08516161  0.0749356   0.06324203 -0.14411111 -0.3354992   0.34981808\\n  0.03267073  0.12356602 -0.34096912  0.70330083 -0.18292712  0.22659601\\n  0.25659204  0.00410567  0.25556457  0.16951463  0.23708145 -0.27258158\\n -0.15729305  0.07533652 -0.04893662  0.06834408 -0.26495743  0.24728121\\n  0.13074455 -0.12133117 -0.24510178 -0.00733366  0.45953664  0.00495354\\n  0.34845078 -0.05711823 -0.06231963  0.2523398   0.3203917   0.13804545\\n  0.25727412 -0.16792871 -0.10372633 -0.06069586]\"\n        ],\n        \"semantic_type\": \"\",\n        \"description\": \"\"\n      }\n    },\n    {\n      \"column\": \"doc_vector\",\n      \"properties\": {\n        \"dtype\": \"number\",\n        \"std\": null,\n        \"min\": null,\n        \"max\": null,\n        \"num_unique_values\": 0,\n        \"samples\": [],\n        \"semantic_type\": \"\",\n        \"description\": \"\"\n      }\n    },\n    {\n      \"column\": \"word_vec\",\n      \"properties\": {\n        \"dtype\": \"object\",\n        \"semantic_type\": \"\",\n        \"description\": \"\"\n      }\n    },\n    {\n      \"column\": \"doc_vec\",\n      \"properties\": {\n        \"dtype\": \"object\",\n        \"semantic_type\": \"\",\n        \"description\": \"\"\n      }\n    }\n  ]\n}"
            }
          },
          "metadata": {},
          "execution_count": 40
        }
      ]
    },
    {
      "cell_type": "code",
      "source": [
        "# Convert the list of vectors into a single numpy array\n",
        "X = np.stack(df['word_vec'].values)"
      ],
      "metadata": {
        "id": "SWrvLlFfCWiB"
      },
      "execution_count": 42,
      "outputs": []
    },
    {
      "cell_type": "code",
      "source": [
        "X.shape"
      ],
      "metadata": {
        "colab": {
          "base_uri": "https://localhost:8080/"
        },
        "id": "MUMWN1KfEbrJ",
        "outputId": "859bfd08-86d8-4759-863c-2b7fcd0bc5be"
      },
      "execution_count": 44,
      "outputs": [
        {
          "output_type": "execute_result",
          "data": {
            "text/plain": [
              "(14438, 100)"
            ]
          },
          "metadata": {},
          "execution_count": 44
        }
      ]
    },
    {
      "cell_type": "code",
      "source": [
        "import xgboost as xgb\n",
        "from sklearn.model_selection import train_test_split\n",
        "from sklearn.metrics import accuracy_score\n",
        "import numpy as np\n",
        "\n",
        "labels = df['label'] - 1\n",
        "\n",
        "# Split into train and test sets\n",
        "X_train, X_test, labels_train, labels_test = train_test_split(X, labels, test_size=0.2, random_state=42)\n",
        "\n",
        "# Train the XGBoost model\n",
        "model = xgb.XGBClassifier(n_jobs=-1, use_label_encoder=False, eval_metric='mlogloss')\n",
        "model.fit(X_train, labels_train)\n",
        "\n",
        "# Make predictions on the test set\n",
        "predictions = model.predict(X_test)\n",
        "\n",
        "# Evaluate the model performance\n",
        "accuracy = accuracy_score(labels_test, predictions)\n",
        "print(\"Accuracy: {:.2f}%\".format(accuracy * 100))\n"
      ],
      "metadata": {
        "colab": {
          "base_uri": "https://localhost:8080/"
        },
        "id": "iN7zE5SKBNpi",
        "outputId": "e6e400e7-c581-459f-c0c4-b9ae807116d0"
      },
      "execution_count": 48,
      "outputs": [
        {
          "output_type": "stream",
          "name": "stdout",
          "text": [
            "Accuracy: 23.68%\n"
          ]
        }
      ]
    },
    {
      "cell_type": "code",
      "source": [
        "X_train.shape"
      ],
      "metadata": {
        "colab": {
          "base_uri": "https://localhost:8080/"
        },
        "id": "wDawJwbJBQEZ",
        "outputId": "f5222076-c372-48db-a9f6-6179326d6331"
      },
      "execution_count": 38,
      "outputs": [
        {
          "output_type": "execute_result",
          "data": {
            "text/plain": [
              "(11550,)"
            ]
          },
          "metadata": {},
          "execution_count": 38
        }
      ]
    },
    {
      "cell_type": "code",
      "source": [
        "from sklearn.model_selection import GridSearchCV\n",
        "\n",
        "parameters = {\n",
        "    'max_depth': [3, 5, 7],\n",
        "    'learning_rate': [0.01, 0.1, 0.2]\n",
        "}\n",
        "\n",
        "grid_search = GridSearchCV(xgb.XGBClassifier(n_jobs=-1), parameters, cv=3, scoring='accuracy')\n",
        "grid_search.fit(X_train, labels_train)\n",
        "print(\"Best parameters:\", grid_search.best_params_)\n"
      ],
      "metadata": {
        "colab": {
          "base_uri": "https://localhost:8080/"
        },
        "id": "5Xyt4uZniAjR",
        "outputId": "00f084fa-36ea-4e4e-af23-ed06c2a52cef"
      },
      "execution_count": null,
      "outputs": [
        {
          "output_type": "stream",
          "name": "stdout",
          "text": [
            "Best parameters: {'learning_rate': 0.2, 'max_depth': 3}\n"
          ]
        }
      ]
    },
    {
      "cell_type": "markdown",
      "source": [
        "## XGBoost: Doc2Vec"
      ],
      "metadata": {
        "id": "HoSWNJ6MFbmy"
      }
    },
    {
      "cell_type": "code",
      "source": [
        "# Convert the list of vectors into a single numpy array\n",
        "X = np.stack(df['doc_vec'].values)"
      ],
      "metadata": {
        "id": "n5YAd2x7FTMw"
      },
      "execution_count": 49,
      "outputs": []
    },
    {
      "cell_type": "code",
      "source": [
        "import xgboost as xgb\n",
        "from sklearn.model_selection import train_test_split\n",
        "from sklearn.metrics import accuracy_score\n",
        "import numpy as np\n",
        "\n",
        "labels = df['label'] - 1\n",
        "\n",
        "# Split into train and test sets\n",
        "X_train, X_test, labels_train, labels_test = train_test_split(X, labels, test_size=0.2, random_state=42)\n",
        "\n",
        "# Train the XGBoost model\n",
        "model = xgb.XGBClassifier(n_jobs=-1, use_label_encoder=False, eval_metric='mlogloss')\n",
        "model.fit(X_train, labels_train)\n",
        "\n",
        "# Make predictions on the test set\n",
        "predictions = model.predict(X_test)\n",
        "\n",
        "# Evaluate the model performance\n",
        "accuracy = accuracy_score(labels_test, predictions)\n",
        "print(\"Accuracy: {:.2f}%\".format(accuracy * 100))\n"
      ],
      "metadata": {
        "colab": {
          "base_uri": "https://localhost:8080/"
        },
        "id": "dpItf_seFXsP",
        "outputId": "46e9e1bf-c7ca-40af-c934-feeeebb3d2f9"
      },
      "execution_count": 50,
      "outputs": [
        {
          "output_type": "stream",
          "name": "stdout",
          "text": [
            "Accuracy: 33.17%\n"
          ]
        }
      ]
    },
    {
      "cell_type": "markdown",
      "source": [
        "## Naive Bayes: Word2Vec"
      ],
      "metadata": {
        "id": "wm0nh1KiyLxN"
      }
    },
    {
      "cell_type": "code",
      "source": [
        "# Convert the list of vectors into a single numpy array\n",
        "X = np.stack(df['word_vec'].values)"
      ],
      "metadata": {
        "id": "OPYtI-NjF2xl"
      },
      "execution_count": 52,
      "outputs": []
    },
    {
      "cell_type": "code",
      "source": [
        "import numpy as np\n",
        "from sklearn.model_selection import train_test_split\n",
        "from sklearn.metrics import accuracy_score\n",
        "from sklearn.naive_bayes import GaussianNB  # Using GaussianNB because vectors are continuous\n",
        "\n",
        "# if isinstance(df['doc_vector'].iloc[0], list):\n",
        "#     df['doc_vector'] = df['doc_vector'].apply(np.array)\n",
        "\n",
        "# X = np.stack(df['doc_vector'])\n",
        "labels = df['label'] - 1\n",
        "\n",
        "# Split into train and test sets\n",
        "X_train, X_test, labels_train, labels_test = train_test_split(X, labels, test_size=0.2, random_state=42)\n",
        "\n",
        "# Using Gaussian Naive Bayes for continuous features\n",
        "clf = GaussianNB()\n",
        "clf.fit(X_train, labels_train)\n",
        "labels_pred = clf.predict(X_test)\n",
        "accuracy = accuracy_score(labels_test, labels_pred)\n",
        "print(f\"Accuracy with Word2Vec: {accuracy}\")\n"
      ],
      "metadata": {
        "colab": {
          "base_uri": "https://localhost:8080/"
        },
        "id": "pQcbfTPpy92-",
        "outputId": "a26272d7-78c3-4385-8d83-8fab366e5c12"
      },
      "execution_count": 54,
      "outputs": [
        {
          "output_type": "stream",
          "name": "stdout",
          "text": [
            "Accuracy with Word2Vec: 0.2884349030470914\n"
          ]
        }
      ]
    },
    {
      "cell_type": "markdown",
      "source": [
        "## Naive Bayes: Word2Vec"
      ],
      "metadata": {
        "id": "sjKRmnHwF-vB"
      }
    },
    {
      "cell_type": "code",
      "source": [
        "# Convert the list of vectors into a single numpy array\n",
        "X = np.stack(df['doc_vec'].values)"
      ],
      "metadata": {
        "id": "72tpyN_ZGOsp"
      },
      "execution_count": 57,
      "outputs": []
    },
    {
      "cell_type": "code",
      "source": [
        "import xgboost as xgb\n",
        "from sklearn.feature_extraction.text import TfidfVectorizer\n",
        "from sklearn.model_selection import train_test_split\n",
        "from sklearn.metrics import accuracy_score\n",
        "\n",
        "from sklearn.naive_bayes import MultinomialNB\n",
        "clf = MultinomialNB()\n",
        "\n",
        "# text data and labels\n",
        "texts = df['text']\n",
        "labels = df['label']\n",
        "\n",
        "labels = labels - 1\n",
        "\n",
        "# split into train and test sets\n",
        "texts_train, texts_test, labels_train, labels_test = train_test_split(texts, labels, test_size=0.2, random_state=42)\n",
        "\n",
        "# convert data\n",
        "vectorizer = TfidfVectorizer()\n",
        "X_train = vectorizer.fit_transform(texts_train)\n",
        "X_test = vectorizer.transform(texts_test)\n",
        "\n",
        "clf.fit(X_train, labels_train)"
      ],
      "metadata": {
        "id": "dylmjeJPjYyu",
        "colab": {
          "base_uri": "https://localhost:8080/",
          "height": 75
        },
        "outputId": "8e6cd05f-5fb9-4c0c-8649-f103b9b62b08"
      },
      "execution_count": 55,
      "outputs": [
        {
          "output_type": "execute_result",
          "data": {
            "text/plain": [
              "MultinomialNB()"
            ],
            "text/html": [
              "<style>#sk-container-id-1 {color: black;background-color: white;}#sk-container-id-1 pre{padding: 0;}#sk-container-id-1 div.sk-toggleable {background-color: white;}#sk-container-id-1 label.sk-toggleable__label {cursor: pointer;display: block;width: 100%;margin-bottom: 0;padding: 0.3em;box-sizing: border-box;text-align: center;}#sk-container-id-1 label.sk-toggleable__label-arrow:before {content: \"▸\";float: left;margin-right: 0.25em;color: #696969;}#sk-container-id-1 label.sk-toggleable__label-arrow:hover:before {color: black;}#sk-container-id-1 div.sk-estimator:hover label.sk-toggleable__label-arrow:before {color: black;}#sk-container-id-1 div.sk-toggleable__content {max-height: 0;max-width: 0;overflow: hidden;text-align: left;background-color: #f0f8ff;}#sk-container-id-1 div.sk-toggleable__content pre {margin: 0.2em;color: black;border-radius: 0.25em;background-color: #f0f8ff;}#sk-container-id-1 input.sk-toggleable__control:checked~div.sk-toggleable__content {max-height: 200px;max-width: 100%;overflow: auto;}#sk-container-id-1 input.sk-toggleable__control:checked~label.sk-toggleable__label-arrow:before {content: \"▾\";}#sk-container-id-1 div.sk-estimator input.sk-toggleable__control:checked~label.sk-toggleable__label {background-color: #d4ebff;}#sk-container-id-1 div.sk-label input.sk-toggleable__control:checked~label.sk-toggleable__label {background-color: #d4ebff;}#sk-container-id-1 input.sk-hidden--visually {border: 0;clip: rect(1px 1px 1px 1px);clip: rect(1px, 1px, 1px, 1px);height: 1px;margin: -1px;overflow: hidden;padding: 0;position: absolute;width: 1px;}#sk-container-id-1 div.sk-estimator {font-family: monospace;background-color: #f0f8ff;border: 1px dotted black;border-radius: 0.25em;box-sizing: border-box;margin-bottom: 0.5em;}#sk-container-id-1 div.sk-estimator:hover {background-color: #d4ebff;}#sk-container-id-1 div.sk-parallel-item::after {content: \"\";width: 100%;border-bottom: 1px solid gray;flex-grow: 1;}#sk-container-id-1 div.sk-label:hover label.sk-toggleable__label {background-color: #d4ebff;}#sk-container-id-1 div.sk-serial::before {content: \"\";position: absolute;border-left: 1px solid gray;box-sizing: border-box;top: 0;bottom: 0;left: 50%;z-index: 0;}#sk-container-id-1 div.sk-serial {display: flex;flex-direction: column;align-items: center;background-color: white;padding-right: 0.2em;padding-left: 0.2em;position: relative;}#sk-container-id-1 div.sk-item {position: relative;z-index: 1;}#sk-container-id-1 div.sk-parallel {display: flex;align-items: stretch;justify-content: center;background-color: white;position: relative;}#sk-container-id-1 div.sk-item::before, #sk-container-id-1 div.sk-parallel-item::before {content: \"\";position: absolute;border-left: 1px solid gray;box-sizing: border-box;top: 0;bottom: 0;left: 50%;z-index: -1;}#sk-container-id-1 div.sk-parallel-item {display: flex;flex-direction: column;z-index: 1;position: relative;background-color: white;}#sk-container-id-1 div.sk-parallel-item:first-child::after {align-self: flex-end;width: 50%;}#sk-container-id-1 div.sk-parallel-item:last-child::after {align-self: flex-start;width: 50%;}#sk-container-id-1 div.sk-parallel-item:only-child::after {width: 0;}#sk-container-id-1 div.sk-dashed-wrapped {border: 1px dashed gray;margin: 0 0.4em 0.5em 0.4em;box-sizing: border-box;padding-bottom: 0.4em;background-color: white;}#sk-container-id-1 div.sk-label label {font-family: monospace;font-weight: bold;display: inline-block;line-height: 1.2em;}#sk-container-id-1 div.sk-label-container {text-align: center;}#sk-container-id-1 div.sk-container {/* jupyter's `normalize.less` sets `[hidden] { display: none; }` but bootstrap.min.css set `[hidden] { display: none !important; }` so we also need the `!important` here to be able to override the default hidden behavior on the sphinx rendered scikit-learn.org. See: https://github.com/scikit-learn/scikit-learn/issues/21755 */display: inline-block !important;position: relative;}#sk-container-id-1 div.sk-text-repr-fallback {display: none;}</style><div id=\"sk-container-id-1\" class=\"sk-top-container\"><div class=\"sk-text-repr-fallback\"><pre>MultinomialNB()</pre><b>In a Jupyter environment, please rerun this cell to show the HTML representation or trust the notebook. <br />On GitHub, the HTML representation is unable to render, please try loading this page with nbviewer.org.</b></div><div class=\"sk-container\" hidden><div class=\"sk-item\"><div class=\"sk-estimator sk-toggleable\"><input class=\"sk-toggleable__control sk-hidden--visually\" id=\"sk-estimator-id-1\" type=\"checkbox\" checked><label for=\"sk-estimator-id-1\" class=\"sk-toggleable__label sk-toggleable__label-arrow\">MultinomialNB</label><div class=\"sk-toggleable__content\"><pre>MultinomialNB()</pre></div></div></div></div></div>"
            ]
          },
          "metadata": {},
          "execution_count": 55
        }
      ]
    },
    {
      "cell_type": "code",
      "source": [
        "print(f\"Accuracy with Doc2Vec: {clf.score(X_test, labels_test)}\")"
      ],
      "metadata": {
        "colab": {
          "base_uri": "https://localhost:8080/"
        },
        "id": "w1sN3Gve6rhy",
        "outputId": "60196393-a294-43d7-d696-00e4a58b0175"
      },
      "execution_count": 56,
      "outputs": [
        {
          "output_type": "stream",
          "name": "stdout",
          "text": [
            "Accuracy with Doc2Vec: 0.5166204986149584\n"
          ]
        }
      ]
    },
    {
      "cell_type": "code",
      "source": [
        "%%shell\n",
        "jupyter nbconvert --to html /content/drive/MyDrive/5400_models.ipynb"
      ],
      "metadata": {
        "colab": {
          "base_uri": "https://localhost:8080/"
        },
        "id": "LyjZH-ij2hSF",
        "outputId": "389ae0df-60cd-4501-dbd6-967d8dccba2e"
      },
      "execution_count": 60,
      "outputs": [
        {
          "output_type": "stream",
          "name": "stdout",
          "text": [
            "[NbConvertApp] Converting notebook /content/drive/MyDrive/5400_models.ipynb to html\n",
            "[NbConvertApp] Writing 760347 bytes to /content/drive/MyDrive/5400_models.html\n"
          ]
        },
        {
          "output_type": "execute_result",
          "data": {
            "text/plain": []
          },
          "metadata": {},
          "execution_count": 60
        }
      ]
    }
  ]
}