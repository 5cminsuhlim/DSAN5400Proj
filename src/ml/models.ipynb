{
  "nbformat": 4,
  "nbformat_minor": 0,
  "metadata": {
    "colab": {
      "provenance": [],
      "machine_shape": "hm",
      "gpuType": "L4"
    },
    "kernelspec": {
      "name": "python3",
      "display_name": "Python 3"
    },
    "language_info": {
      "name": "python"
    },
    "accelerator": "GPU"
  },
  "cells": [
    {
      "cell_type": "code",
      "execution_count": 2,
      "metadata": {
        "id": "D2Wg0Pg2nm_g"
      },
      "outputs": [],
      "source": [
        "import pandas as pd\n",
        "import keras\n",
        "import tensorflow as tf\n",
        "import numpy as np\n",
        "from keras import layers\n",
        "from keras.preprocessing.sequence import pad_sequences\n",
        "from keras.layers import Input, Dense, LSTM, Embedding\n",
        "from keras.layers import Dropout, Activation, Bidirectional, GlobalMaxPool1D\n",
        "from keras.models import Sequential\n",
        "from keras import initializers, regularizers, constraints, optimizers\n",
        "from keras.preprocessing import *"
      ]
    },
    {
      "cell_type": "code",
      "source": [
        "from google.colab import drive\n",
        "drive.mount('/content/drive')\n"
      ],
      "metadata": {
        "colab": {
          "base_uri": "https://localhost:8080/"
        },
        "id": "E0PGkdE5nq4E",
        "outputId": "32fb9c6e-e6ef-4259-a48d-c0aa2aea735a"
      },
      "execution_count": 3,
      "outputs": [
        {
          "output_type": "stream",
          "name": "stdout",
          "text": [
            "Mounted at /content/drive\n"
          ]
        }
      ]
    },
    {
      "cell_type": "code",
      "source": [
        "import os\n",
        "os.getcwd()"
      ],
      "metadata": {
        "colab": {
          "base_uri": "https://localhost:8080/",
          "height": 35
        },
        "id": "OSsGM3S5oIqE",
        "outputId": "dd637962-1584-4093-e468-9da966a2e54f"
      },
      "execution_count": 4,
      "outputs": [
        {
          "output_type": "execute_result",
          "data": {
            "text/plain": [
              "'/content'"
            ],
            "application/vnd.google.colaboratory.intrinsic+json": {
              "type": "string"
            }
          },
          "metadata": {},
          "execution_count": 4
        }
      ]
    },
    {
      "cell_type": "code",
      "source": [
        "os.listdir()"
      ],
      "metadata": {
        "colab": {
          "base_uri": "https://localhost:8080/"
        },
        "id": "fV22JUh9olO0",
        "outputId": "04c25e70-4148-473a-b699-2193f3814ad7"
      },
      "execution_count": 5,
      "outputs": [
        {
          "output_type": "execute_result",
          "data": {
            "text/plain": [
              "['.config', 'drive', 'sample_data']"
            ]
          },
          "metadata": {},
          "execution_count": 5
        }
      ]
    },
    {
      "cell_type": "code",
      "source": [
        "df_train = pd.read_csv(\"drive/MyDrive/train_cleaned_vec.csv\", index_col = 0)\n",
        "df_test = pd.read_csv(\"drive/MyDrive/test_cleaned_vec.csv\", index_col = 0)\n",
        "\n",
        "dfs = [df_train, df_test]\n",
        "df = pd.concat(dfs)\n"
      ],
      "metadata": {
        "id": "oVgnzlPBnwiS"
      },
      "execution_count": 13,
      "outputs": []
    },
    {
      "cell_type": "code",
      "source": [
        "# Shuffle data to remove any bias present in order\n",
        "df = df.sample(frac = 1)\n",
        "\n",
        "# Reset index and drop original index column\n",
        "df = df.reset_index(drop = True)\n",
        "\n",
        "df.head()"
      ],
      "metadata": {
        "colab": {
          "base_uri": "https://localhost:8080/",
          "height": 206
        },
        "id": "ijuHr81rA2hX",
        "outputId": "f810a97d-d587-4d4a-826a-29f623d19141"
      },
      "execution_count": 14,
      "outputs": [
        {
          "output_type": "execute_result",
          "data": {
            "text/plain": [
              "   label                                               text       label_str  \\\n",
              "0      2  biliary pancreatic metastases breast carcinoma...       digestive   \n",
              "1      5  gene human major histocompatibility complex cl...    pathological   \n",
              "2      1  effect abdominal surgery serum concentration t...       neoplasms   \n",
              "3      4  effect halothane isoflurane postischemic stunn...  cardiovascular   \n",
              "4      1  fibromatous epulis dogs peripheral odontogenic...       neoplasms   \n",
              "\n",
              "                                      tokenized_text  \\\n",
              "0  ['biliary', 'pancreatic', 'metastases', 'breas...   \n",
              "1  ['gene', 'human', 'major', 'histocompatibility...   \n",
              "2  ['effect', 'abdominal', 'surgery', 'serum', 'c...   \n",
              "3  ['effect', 'halothane', 'isoflurane', 'postisc...   \n",
              "4  ['fibromatous', 'epulis', 'dogs', 'peripheral'...   \n",
              "\n",
              "                                         word_vector  \\\n",
              "0  [-0.71421003 -0.43195808  0.15991907  0.386262...   \n",
              "1  [-0.04018178 -0.11258222  0.2162807   0.040244...   \n",
              "2  [-0.9937201   0.13171172 -0.01576049  0.522078...   \n",
              "3  [-0.24769801  0.3850019  -0.13547665  0.090897...   \n",
              "4  [ 0.15302294 -0.11429843  0.2625601   0.260906...   \n",
              "\n",
              "                                          doc_vector  \n",
              "0  [-4.60017860e-01  8.57100934e-02  2.68247008e-...  \n",
              "1  [ 0.0501379  -0.10564893  0.19522364 -0.173172...  \n",
              "2  [-0.39013508  0.0248358   0.05966463  0.088042...  \n",
              "3  [-0.18150187  0.27354786 -0.17195095 -0.015542...  \n",
              "4  [ 0.25961468  0.06794935  0.14143008 -0.236263...  "
            ],
            "text/html": [
              "\n",
              "  <div id=\"df-e9665659-b9b3-4289-8fe8-3858f9465cce\" class=\"colab-df-container\">\n",
              "    <div>\n",
              "<style scoped>\n",
              "    .dataframe tbody tr th:only-of-type {\n",
              "        vertical-align: middle;\n",
              "    }\n",
              "\n",
              "    .dataframe tbody tr th {\n",
              "        vertical-align: top;\n",
              "    }\n",
              "\n",
              "    .dataframe thead th {\n",
              "        text-align: right;\n",
              "    }\n",
              "</style>\n",
              "<table border=\"1\" class=\"dataframe\">\n",
              "  <thead>\n",
              "    <tr style=\"text-align: right;\">\n",
              "      <th></th>\n",
              "      <th>label</th>\n",
              "      <th>text</th>\n",
              "      <th>label_str</th>\n",
              "      <th>tokenized_text</th>\n",
              "      <th>word_vector</th>\n",
              "      <th>doc_vector</th>\n",
              "    </tr>\n",
              "  </thead>\n",
              "  <tbody>\n",
              "    <tr>\n",
              "      <th>0</th>\n",
              "      <td>2</td>\n",
              "      <td>biliary pancreatic metastases breast carcinoma...</td>\n",
              "      <td>digestive</td>\n",
              "      <td>['biliary', 'pancreatic', 'metastases', 'breas...</td>\n",
              "      <td>[-0.71421003 -0.43195808  0.15991907  0.386262...</td>\n",
              "      <td>[-4.60017860e-01  8.57100934e-02  2.68247008e-...</td>\n",
              "    </tr>\n",
              "    <tr>\n",
              "      <th>1</th>\n",
              "      <td>5</td>\n",
              "      <td>gene human major histocompatibility complex cl...</td>\n",
              "      <td>pathological</td>\n",
              "      <td>['gene', 'human', 'major', 'histocompatibility...</td>\n",
              "      <td>[-0.04018178 -0.11258222  0.2162807   0.040244...</td>\n",
              "      <td>[ 0.0501379  -0.10564893  0.19522364 -0.173172...</td>\n",
              "    </tr>\n",
              "    <tr>\n",
              "      <th>2</th>\n",
              "      <td>1</td>\n",
              "      <td>effect abdominal surgery serum concentration t...</td>\n",
              "      <td>neoplasms</td>\n",
              "      <td>['effect', 'abdominal', 'surgery', 'serum', 'c...</td>\n",
              "      <td>[-0.9937201   0.13171172 -0.01576049  0.522078...</td>\n",
              "      <td>[-0.39013508  0.0248358   0.05966463  0.088042...</td>\n",
              "    </tr>\n",
              "    <tr>\n",
              "      <th>3</th>\n",
              "      <td>4</td>\n",
              "      <td>effect halothane isoflurane postischemic stunn...</td>\n",
              "      <td>cardiovascular</td>\n",
              "      <td>['effect', 'halothane', 'isoflurane', 'postisc...</td>\n",
              "      <td>[-0.24769801  0.3850019  -0.13547665  0.090897...</td>\n",
              "      <td>[-0.18150187  0.27354786 -0.17195095 -0.015542...</td>\n",
              "    </tr>\n",
              "    <tr>\n",
              "      <th>4</th>\n",
              "      <td>1</td>\n",
              "      <td>fibromatous epulis dogs peripheral odontogenic...</td>\n",
              "      <td>neoplasms</td>\n",
              "      <td>['fibromatous', 'epulis', 'dogs', 'peripheral'...</td>\n",
              "      <td>[ 0.15302294 -0.11429843  0.2625601   0.260906...</td>\n",
              "      <td>[ 0.25961468  0.06794935  0.14143008 -0.236263...</td>\n",
              "    </tr>\n",
              "  </tbody>\n",
              "</table>\n",
              "</div>\n",
              "    <div class=\"colab-df-buttons\">\n",
              "\n",
              "  <div class=\"colab-df-container\">\n",
              "    <button class=\"colab-df-convert\" onclick=\"convertToInteractive('df-e9665659-b9b3-4289-8fe8-3858f9465cce')\"\n",
              "            title=\"Convert this dataframe to an interactive table.\"\n",
              "            style=\"display:none;\">\n",
              "\n",
              "  <svg xmlns=\"http://www.w3.org/2000/svg\" height=\"24px\" viewBox=\"0 -960 960 960\">\n",
              "    <path d=\"M120-120v-720h720v720H120Zm60-500h600v-160H180v160Zm220 220h160v-160H400v160Zm0 220h160v-160H400v160ZM180-400h160v-160H180v160Zm440 0h160v-160H620v160ZM180-180h160v-160H180v160Zm440 0h160v-160H620v160Z\"/>\n",
              "  </svg>\n",
              "    </button>\n",
              "\n",
              "  <style>\n",
              "    .colab-df-container {\n",
              "      display:flex;\n",
              "      gap: 12px;\n",
              "    }\n",
              "\n",
              "    .colab-df-convert {\n",
              "      background-color: #E8F0FE;\n",
              "      border: none;\n",
              "      border-radius: 50%;\n",
              "      cursor: pointer;\n",
              "      display: none;\n",
              "      fill: #1967D2;\n",
              "      height: 32px;\n",
              "      padding: 0 0 0 0;\n",
              "      width: 32px;\n",
              "    }\n",
              "\n",
              "    .colab-df-convert:hover {\n",
              "      background-color: #E2EBFA;\n",
              "      box-shadow: 0px 1px 2px rgba(60, 64, 67, 0.3), 0px 1px 3px 1px rgba(60, 64, 67, 0.15);\n",
              "      fill: #174EA6;\n",
              "    }\n",
              "\n",
              "    .colab-df-buttons div {\n",
              "      margin-bottom: 4px;\n",
              "    }\n",
              "\n",
              "    [theme=dark] .colab-df-convert {\n",
              "      background-color: #3B4455;\n",
              "      fill: #D2E3FC;\n",
              "    }\n",
              "\n",
              "    [theme=dark] .colab-df-convert:hover {\n",
              "      background-color: #434B5C;\n",
              "      box-shadow: 0px 1px 3px 1px rgba(0, 0, 0, 0.15);\n",
              "      filter: drop-shadow(0px 1px 2px rgba(0, 0, 0, 0.3));\n",
              "      fill: #FFFFFF;\n",
              "    }\n",
              "  </style>\n",
              "\n",
              "    <script>\n",
              "      const buttonEl =\n",
              "        document.querySelector('#df-e9665659-b9b3-4289-8fe8-3858f9465cce button.colab-df-convert');\n",
              "      buttonEl.style.display =\n",
              "        google.colab.kernel.accessAllowed ? 'block' : 'none';\n",
              "\n",
              "      async function convertToInteractive(key) {\n",
              "        const element = document.querySelector('#df-e9665659-b9b3-4289-8fe8-3858f9465cce');\n",
              "        const dataTable =\n",
              "          await google.colab.kernel.invokeFunction('convertToInteractive',\n",
              "                                                    [key], {});\n",
              "        if (!dataTable) return;\n",
              "\n",
              "        const docLinkHtml = 'Like what you see? Visit the ' +\n",
              "          '<a target=\"_blank\" href=https://colab.research.google.com/notebooks/data_table.ipynb>data table notebook</a>'\n",
              "          + ' to learn more about interactive tables.';\n",
              "        element.innerHTML = '';\n",
              "        dataTable['output_type'] = 'display_data';\n",
              "        await google.colab.output.renderOutput(dataTable, element);\n",
              "        const docLink = document.createElement('div');\n",
              "        docLink.innerHTML = docLinkHtml;\n",
              "        element.appendChild(docLink);\n",
              "      }\n",
              "    </script>\n",
              "  </div>\n",
              "\n",
              "\n",
              "<div id=\"df-c7b1a575-ea05-468a-9c87-fe37999ce7e5\">\n",
              "  <button class=\"colab-df-quickchart\" onclick=\"quickchart('df-c7b1a575-ea05-468a-9c87-fe37999ce7e5')\"\n",
              "            title=\"Suggest charts\"\n",
              "            style=\"display:none;\">\n",
              "\n",
              "<svg xmlns=\"http://www.w3.org/2000/svg\" height=\"24px\"viewBox=\"0 0 24 24\"\n",
              "     width=\"24px\">\n",
              "    <g>\n",
              "        <path d=\"M19 3H5c-1.1 0-2 .9-2 2v14c0 1.1.9 2 2 2h14c1.1 0 2-.9 2-2V5c0-1.1-.9-2-2-2zM9 17H7v-7h2v7zm4 0h-2V7h2v10zm4 0h-2v-4h2v4z\"/>\n",
              "    </g>\n",
              "</svg>\n",
              "  </button>\n",
              "\n",
              "<style>\n",
              "  .colab-df-quickchart {\n",
              "      --bg-color: #E8F0FE;\n",
              "      --fill-color: #1967D2;\n",
              "      --hover-bg-color: #E2EBFA;\n",
              "      --hover-fill-color: #174EA6;\n",
              "      --disabled-fill-color: #AAA;\n",
              "      --disabled-bg-color: #DDD;\n",
              "  }\n",
              "\n",
              "  [theme=dark] .colab-df-quickchart {\n",
              "      --bg-color: #3B4455;\n",
              "      --fill-color: #D2E3FC;\n",
              "      --hover-bg-color: #434B5C;\n",
              "      --hover-fill-color: #FFFFFF;\n",
              "      --disabled-bg-color: #3B4455;\n",
              "      --disabled-fill-color: #666;\n",
              "  }\n",
              "\n",
              "  .colab-df-quickchart {\n",
              "    background-color: var(--bg-color);\n",
              "    border: none;\n",
              "    border-radius: 50%;\n",
              "    cursor: pointer;\n",
              "    display: none;\n",
              "    fill: var(--fill-color);\n",
              "    height: 32px;\n",
              "    padding: 0;\n",
              "    width: 32px;\n",
              "  }\n",
              "\n",
              "  .colab-df-quickchart:hover {\n",
              "    background-color: var(--hover-bg-color);\n",
              "    box-shadow: 0 1px 2px rgba(60, 64, 67, 0.3), 0 1px 3px 1px rgba(60, 64, 67, 0.15);\n",
              "    fill: var(--button-hover-fill-color);\n",
              "  }\n",
              "\n",
              "  .colab-df-quickchart-complete:disabled,\n",
              "  .colab-df-quickchart-complete:disabled:hover {\n",
              "    background-color: var(--disabled-bg-color);\n",
              "    fill: var(--disabled-fill-color);\n",
              "    box-shadow: none;\n",
              "  }\n",
              "\n",
              "  .colab-df-spinner {\n",
              "    border: 2px solid var(--fill-color);\n",
              "    border-color: transparent;\n",
              "    border-bottom-color: var(--fill-color);\n",
              "    animation:\n",
              "      spin 1s steps(1) infinite;\n",
              "  }\n",
              "\n",
              "  @keyframes spin {\n",
              "    0% {\n",
              "      border-color: transparent;\n",
              "      border-bottom-color: var(--fill-color);\n",
              "      border-left-color: var(--fill-color);\n",
              "    }\n",
              "    20% {\n",
              "      border-color: transparent;\n",
              "      border-left-color: var(--fill-color);\n",
              "      border-top-color: var(--fill-color);\n",
              "    }\n",
              "    30% {\n",
              "      border-color: transparent;\n",
              "      border-left-color: var(--fill-color);\n",
              "      border-top-color: var(--fill-color);\n",
              "      border-right-color: var(--fill-color);\n",
              "    }\n",
              "    40% {\n",
              "      border-color: transparent;\n",
              "      border-right-color: var(--fill-color);\n",
              "      border-top-color: var(--fill-color);\n",
              "    }\n",
              "    60% {\n",
              "      border-color: transparent;\n",
              "      border-right-color: var(--fill-color);\n",
              "    }\n",
              "    80% {\n",
              "      border-color: transparent;\n",
              "      border-right-color: var(--fill-color);\n",
              "      border-bottom-color: var(--fill-color);\n",
              "    }\n",
              "    90% {\n",
              "      border-color: transparent;\n",
              "      border-bottom-color: var(--fill-color);\n",
              "    }\n",
              "  }\n",
              "</style>\n",
              "\n",
              "  <script>\n",
              "    async function quickchart(key) {\n",
              "      const quickchartButtonEl =\n",
              "        document.querySelector('#' + key + ' button');\n",
              "      quickchartButtonEl.disabled = true;  // To prevent multiple clicks.\n",
              "      quickchartButtonEl.classList.add('colab-df-spinner');\n",
              "      try {\n",
              "        const charts = await google.colab.kernel.invokeFunction(\n",
              "            'suggestCharts', [key], {});\n",
              "      } catch (error) {\n",
              "        console.error('Error during call to suggestCharts:', error);\n",
              "      }\n",
              "      quickchartButtonEl.classList.remove('colab-df-spinner');\n",
              "      quickchartButtonEl.classList.add('colab-df-quickchart-complete');\n",
              "    }\n",
              "    (() => {\n",
              "      let quickchartButtonEl =\n",
              "        document.querySelector('#df-c7b1a575-ea05-468a-9c87-fe37999ce7e5 button');\n",
              "      quickchartButtonEl.style.display =\n",
              "        google.colab.kernel.accessAllowed ? 'block' : 'none';\n",
              "    })();\n",
              "  </script>\n",
              "</div>\n",
              "\n",
              "    </div>\n",
              "  </div>\n"
            ],
            "application/vnd.google.colaboratory.intrinsic+json": {
              "type": "dataframe",
              "variable_name": "df",
              "summary": "{\n  \"name\": \"df\",\n  \"rows\": 14438,\n  \"fields\": [\n    {\n      \"column\": \"label\",\n      \"properties\": {\n        \"dtype\": \"number\",\n        \"std\": 1,\n        \"min\": 1,\n        \"max\": 5,\n        \"num_unique_values\": 5,\n        \"samples\": [\n          5,\n          3,\n          1\n        ],\n        \"semantic_type\": \"\",\n        \"description\": \"\"\n      }\n    },\n    {\n      \"column\": \"text\",\n      \"properties\": {\n        \"dtype\": \"string\",\n        \"num_unique_values\": 11226,\n        \"samples\": [\n          \"improved molecular diagnostics ornithine transcarbamylase deficiency since cloning cdna x linked ornithine transcarbamylase otc diagnostic accuracy otc deficiency prenatal carrier detection greatly improved use linkage analysis however use rflp based diagnosis limited new mutation diseases here report use direct mutation detection new pcr based techniques experience linkage based diagnosis families previously reported use chemical mismatch cleavage detect mutations first amplified mrna genomic dna patients technique now utilized prenatal diagnosis primers specific amplification otc exons developed employed map deletions otc gene two families primers also used detect alterations taqi sites found exons four novel mutations otc gene leading abolition taqi site otc cdna discovered one mutations exon two lie exon one exon addition used pcr products probes identify exon specific bands seen southern blots map polymorphic bamhi mspi sites commonly used linkage analysis information facilitate interpretation altered band patterns seen deletion cases cases point mutations affecting restriction sites utilization appropriate combination molecular techniques permitted accurate diagnostic evaluations families\",\n          \"hemangioma temporalis muscle rare case intramuscular hemangioma temporalis muscle reported clinical examination carotid arteriogram computed tomographic scan aspiration cytology suggested vascular nature tumor exact diagnosis could made histopathologic examination temporary occlusion ipsilateral external carotid artery subperiosteal dissection permitted complete wide excision without much bleeding\",\n          \"localization peptide content endocrine pancreatic tumors endocrine pancreatic tumors contain frequently secret neurohormonal peptides phenomenon can used diagnostic classifying tool study analyzes patients operated endocrine pancreatic tumor including diagnostic procedures localization methods insulinoma cases patients positive arteriography selective pancreatic vein samplings positive immunoreactivity showed besides insulin tumors also contained peptides four gastrinoma cases arteriography positive three selective vein sampling localized tumor tumors content peptides showed mixed patterns four glucagonomas arteriography positive venous sampling performed three cases also positive five pancreatic polypeptide containing tumors pp omas arteriography positive four sampling performed two positive pp omas peptide pattern showed tumors frequently contain several peptides used selective pancreatic vein sampling cases positive result cases arteriography negative sampling results helped surgeon find tumor peptide pattern tumors varied greatly tumors multihormonal\"\n        ],\n        \"semantic_type\": \"\",\n        \"description\": \"\"\n      }\n    },\n    {\n      \"column\": \"label_str\",\n      \"properties\": {\n        \"dtype\": \"category\",\n        \"num_unique_values\": 5,\n        \"samples\": [\n          \"pathological\",\n          \"nervous\",\n          \"neoplasms\"\n        ],\n        \"semantic_type\": \"\",\n        \"description\": \"\"\n      }\n    },\n    {\n      \"column\": \"tokenized_text\",\n      \"properties\": {\n        \"dtype\": \"string\",\n        \"num_unique_values\": 11226,\n        \"samples\": [\n          \"['improved', 'molecular', 'diagnostics', 'ornithine', 'transcarbamylase', 'deficiency', 'since', 'cloning', 'cdna', 'x', 'linked', 'ornithine', 'transcarbamylase', 'otc', 'diagnostic', 'accuracy', 'otc', 'deficiency', 'prenatal', 'carrier', 'detection', 'greatly', 'improved', 'use', 'linkage', 'analysis', 'however', 'use', 'rflp', 'based', 'diagnosis', 'limited', 'new', 'mutation', 'diseases', 'here', 'report', 'use', 'direct', 'mutation', 'detection', 'new', 'pcr', 'based', 'techniques', 'experience', 'linkage', 'based', 'diagnosis', 'families', 'previously', 'reported', 'use', 'chemical', 'mismatch', 'cleavage', 'detect', 'mutations', 'first', 'amplified', 'mrna', 'genomic', 'dna', 'patients', 'technique', 'now', 'utilized', 'prenatal', 'diagnosis', 'primers', 'specific', 'amplification', 'otc', 'exons', 'developed', 'employed', 'map', 'deletions', 'otc', 'gene', 'two', 'families', 'primers', 'also', 'used', 'detect', 'alterations', 'taqi', 'sites', 'found', 'exons', 'four', 'novel', 'mutations', 'otc', 'gene', 'leading', 'abolition', 'taqi', 'site', 'otc', 'cdna', 'discovered', 'one', 'mutations', 'exon', 'two', 'lie', 'exon', 'one', 'exon', 'addition', 'used', 'pcr', 'products', 'probes', 'identify', 'exon', 'specific', 'bands', 'seen', 'southern', 'blots', 'map', 'polymorphic', 'bamhi', 'mspi', 'sites', 'commonly', 'used', 'linkage', 'analysis', 'information', 'facilitate', 'interpretation', 'altered', 'band', 'patterns', 'seen', 'deletion', 'cases', 'cases', 'point', 'mutations', 'affecting', 'restriction', 'sites', 'utilization', 'appropriate', 'combination', 'molecular', 'techniques', 'permitted', 'accurate', 'diagnostic', 'evaluations', 'families']\",\n          \"['hemangioma', 'temporalis', 'muscle', 'rare', 'case', 'intramuscular', 'hemangioma', 'temporalis', 'muscle', 'reported', 'clinical', 'examination', 'carotid', 'arteriogram', 'computed', 'tomographic', 'scan', 'aspiration', 'cytology', 'suggested', 'vascular', 'nature', 'tumor', 'exact', 'diagnosis', 'could', 'made', 'histopathologic', 'examination', 'temporary', 'occlusion', 'ipsilateral', 'external', 'carotid', 'artery', 'subperiosteal', 'dissection', 'permitted', 'complete', 'wide', 'excision', 'without', 'much', 'bleeding']\",\n          \"['localization', 'peptide', 'content', 'endocrine', 'pancreatic', 'tumors', 'endocrine', 'pancreatic', 'tumors', 'contain', 'frequently', 'secret', 'neurohormonal', 'peptides', 'phenomenon', 'can', 'used', 'diagnostic', 'classifying', 'tool', 'study', 'analyzes', 'patients', 'operated', 'endocrine', 'pancreatic', 'tumor', 'including', 'diagnostic', 'procedures', 'localization', 'methods', 'insulinoma', 'cases', 'patients', 'positive', 'arteriography', 'selective', 'pancreatic', 'vein', 'samplings', 'positive', 'immunoreactivity', 'showed', 'besides', 'insulin', 'tumors', 'also', 'contained', 'peptides', 'four', 'gastrinoma', 'cases', 'arteriography', 'positive', 'three', 'selective', 'vein', 'sampling', 'localized', 'tumor', 'tumors', 'content', 'peptides', 'showed', 'mixed', 'patterns', 'four', 'glucagonomas', 'arteriography', 'positive', 'venous', 'sampling', 'performed', 'three', 'cases', 'also', 'positive', 'five', 'pancreatic', 'polypeptide', 'containing', 'tumors', 'pp', 'omas', 'arteriography', 'positive', 'four', 'sampling', 'performed', 'two', 'positive', 'pp', 'omas', 'peptide', 'pattern', 'showed', 'tumors', 'frequently', 'contain', 'several', 'peptides', 'used', 'selective', 'pancreatic', 'vein', 'sampling', 'cases', 'positive', 'result', 'cases', 'arteriography', 'negative', 'sampling', 'results', 'helped', 'surgeon', 'find', 'tumor', 'peptide', 'pattern', 'tumors', 'varied', 'greatly', 'tumors', 'multihormonal']\"\n        ],\n        \"semantic_type\": \"\",\n        \"description\": \"\"\n      }\n    },\n    {\n      \"column\": \"word_vector\",\n      \"properties\": {\n        \"dtype\": \"string\",\n        \"num_unique_values\": 12214,\n        \"samples\": [\n          \"[-0.17878789  0.15276916 -0.08848774  0.3657277  -0.3723373  -0.49620393\\n -0.1849364   0.74597424 -0.25578967  0.1330412  -0.03905554 -0.39021495\\n -0.45222297  0.06677289 -0.28651544  0.3681299   0.24381807 -0.7274984\\n -0.35722357 -0.8919852   0.2591587  -0.2050943   0.43692338  0.0016002\\n  0.01341042  0.06530714 -0.19028442 -0.31768927 -0.42746013  0.22197708\\n  0.61455286 -0.0981405   0.40165263 -0.35230476 -0.32066026  0.69124156\\n  0.41266435 -0.54546213 -0.34313315 -0.83620477 -0.08525815 -0.02294632\\n -0.07464441 -0.62320614 -0.01735545  0.09082256 -0.16401117 -0.25189447\\n  0.28249615  0.30160555 -0.20232742 -0.3573697  -0.69115305 -0.03345794\\n  0.0846158  -0.25388044  0.14158699 -0.40488547 -0.6899476   0.31944355\\n  0.00128349 -0.10977861 -0.12674329 -0.09100956 -0.25834212  0.02961271\\n  0.45135126  0.13125056 -0.6500014  -0.13869862  0.127726    0.17944318\\n  0.21775663 -0.01338132  0.5082126   0.01925957 -0.2182799   0.2945417\\n -0.24029988  0.08149021 -0.24339288 -0.2782808   0.13861604  0.73114693\\n -0.17587252  0.07241675  0.10124677  0.29903296  0.22787929  0.17885923\\n -0.05987806  0.33922425  0.08547978 -0.04186644  0.49025145  0.11772118\\n -0.21105126 -0.3264352   0.01586356  0.14329088]\",\n          \"[ 0.2179238   0.38290852  0.36104304 -0.00511924 -0.13172342 -0.4878356\\n  0.31411406  1.2673155  -0.05103287  0.1421498  -0.24705394 -0.7213515\\n -0.17289457 -0.01337669 -0.13971822  0.03143869  0.51005185 -0.4341439\\n -0.22070636 -1.1178147   0.03853243 -0.07788091 -0.06473765 -0.5247204\\n -0.19842921 -0.01300153 -0.23166323 -0.628894   -0.37267137 -0.02045543\\n  0.13502401 -0.29270497  0.30960828 -0.6488886  -0.02751605  0.83626175\\n  0.75647604 -0.21720824 -0.07954365 -0.90417385 -0.18814023 -0.15403534\\n  0.43603864 -0.5026137   0.40302137 -0.28458813 -0.37101418 -0.45894715\\n -0.2972678   0.22765896 -0.13383147 -0.19159564 -0.90523076 -0.30332744\\n  0.08152185 -0.53336346  0.2792369  -0.02689524 -0.30558953  0.04426327\\n -0.23709875 -0.28993872 -0.35150808  0.13553394 -0.17482117  0.13635133\\n  0.6171554  -0.04042166 -0.66784275 -0.16896339 -0.20194179 -0.02377105\\n  0.13122445  0.01156395  0.59091866 -0.13755825  0.18128428 -0.23287107\\n -0.1791217   0.5076661  -0.3118204  -0.29681808  0.25380316  0.20953713\\n  0.00910389 -0.006729   -0.24794997  0.8704183   0.22908765  0.09203128\\n  0.22370711  0.15827826  0.32641146  0.04113767  0.9754455   0.37231296\\n  0.30275488  0.18202977 -0.16653126  0.08820277]\",\n          \"[-0.24642688  0.42243102  0.09363331  0.16039425 -0.75593036 -0.85496193\\n -0.24467126  1.5215724  -0.588239   -0.5581754  -0.873716   -0.78378665\\n  0.10904735  0.5364491  -0.29992747  0.26405683  0.410691    0.6020962\\n -0.70535815 -0.8265446  -0.3288484  -0.56997645  0.41622996 -0.4038624\\n -0.12986559  0.01686317 -0.47078234 -0.2851664  -0.4166738  -0.03119335\\n  1.0205032   0.1127272   0.5826197  -0.70898664 -0.24219665  0.7371807\\n  0.44588158 -0.5739741  -0.0427906   0.01181131  0.25422826  0.16915776\\n -0.713676   -0.3385633   0.9143994  -0.2857782   0.02392193 -0.49302852\\n  0.3611908  -0.07152559  0.07897743 -0.39831144 -0.56012756 -0.6681851\\n  0.26221696 -0.13988355  0.30209294 -0.3617323  -0.5227632   0.30420735\\n -0.00520458 -0.19161834  0.14215423  0.00549401 -0.10630185  0.7831384\\n  0.47631413 -0.37745804 -0.54675364  0.9109048  -0.5665484  -0.01743584\\n  0.62948495  0.468094    0.15431604  0.40450343  0.13338514 -0.34097105\\n -0.21663797  0.10820977 -0.20507029  0.27341828 -0.3948546   0.6717481\\n  0.03110875 -0.57327706 -0.01493318 -0.17708363  0.62836987 -0.11783232\\n  0.07433096  0.06461749  0.4693771  -0.08379613  0.6556099  -0.33624616\\n  0.27581155 -0.2536148  -0.71582603 -0.4678507 ]\"\n        ],\n        \"semantic_type\": \"\",\n        \"description\": \"\"\n      }\n    },\n    {\n      \"column\": \"doc_vector\",\n      \"properties\": {\n        \"dtype\": \"string\",\n        \"num_unique_values\": 14438,\n        \"samples\": [\n          \"[ 0.03795579 -0.05968066  0.12620506 -0.04370229 -0.02186825 -0.12211824\\n  0.10288565  0.07074723  0.00566016  0.00328858  0.0240009  -0.06627229\\n -0.04649585 -0.01565381  0.01663875 -0.05828884  0.0412766  -0.10079814\\n -0.0008738   0.0067147   0.0187428   0.00178389 -0.00097664 -0.0272635\\n -0.09727863 -0.01938006 -0.02593031 -0.1291101  -0.04287728 -0.03674811\\n -0.00403519  0.02742575 -0.01097927  0.03561047  0.03467995  0.11015981\\n -0.0146128  -0.02317399 -0.10137121 -0.03041638 -0.00760381 -0.02045559\\n  0.02763941 -0.0398131   0.02572536 -0.05817642 -0.10598702  0.01128866\\n -0.04169469  0.07567963 -0.01332829  0.03934119  0.01518267 -0.01869465\\n -0.04953363 -0.00537459 -0.00647928  0.00428156  0.04044003  0.01726034\\n -0.02034095 -0.04829495 -0.05267518  0.0153637  -0.03490596  0.0467283\\n  0.00195778  0.04412182 -0.03467183  0.01367622 -0.03296452  0.0395905\\n  0.07255638 -0.00707551  0.00686016  0.07864905 -0.01695558 -0.07106007\\n -0.05712469  0.05607216 -0.07234628 -0.05700403 -0.00883722  0.07506564\\n -0.01596619  0.0179574   0.12544397  0.09073327  0.03460107  0.02927303\\n  0.03813444  0.05801569 -0.06379092  0.07997919  0.13902429  0.10402275\\n -0.01303882  0.07214879 -0.01025144 -0.09661672]\",\n          \"[ 8.34977776e-02 -2.75365752e-03  2.10507568e-02  1.13655426e-01\\n  2.70811655e-02 -3.55479084e-02 -6.66387081e-02  2.63719112e-01\\n -1.81162253e-01  1.09030958e-02 -8.76783952e-02 -3.37136537e-01\\n  7.79723749e-03  2.23221281e-03 -2.17296258e-01 -2.06798866e-01\\n  3.30189317e-01 -3.33550304e-01  3.28067169e-02 -3.65184039e-01\\n  2.40131497e-01  1.96744889e-01  5.77576935e-01  1.27209559e-01\\n -2.13005722e-01  5.12314867e-03  8.40573609e-02  1.31365180e-01\\n -4.40355569e-01 -3.49873900e-02  2.36654267e-01  1.39472812e-01\\n -1.59137994e-01 -1.54930865e-03 -5.87140433e-02  2.99670935e-01\\n -6.17152601e-02 -2.22625628e-01 -1.06356829e-01  2.38134637e-01\\n  3.37399215e-01 -1.43307894e-01 -2.00184848e-04  1.73559338e-02\\n -1.27846107e-01  8.96472484e-02 -1.02102108e-01 -1.54680490e-01\\n  9.69381779e-02  3.69854718e-01 -2.08211660e-01 -9.49053168e-02\\n -2.22424254e-01  4.71096188e-02 -4.13389325e-01 -6.88631609e-02\\n  2.21285343e-01 -6.43599853e-02 -2.53182322e-01  2.91527301e-01\\n -1.58201396e-01 -7.99833462e-02 -7.90042728e-02 -1.07903101e-01\\n -2.00336277e-01  2.32184663e-01  3.19243342e-01 -2.12218538e-01\\n -2.85573125e-01 -1.34046003e-01 -2.66520958e-02 -6.20039590e-02\\n  3.22459370e-01 -2.87005812e-01  9.57024395e-02 -7.10938573e-02\\n  2.97285557e-01  4.57428880e-02 -2.30339333e-01 -3.26330103e-02\\n -4.95914698e-01 -1.52684405e-01  3.50956656e-02  4.26677406e-01\\n -8.17638040e-02  1.29225999e-02 -2.36623138e-01  2.10141748e-01\\n -2.28744783e-02  2.24339049e-02  1.04160961e-02  2.04179943e-01\\n -9.01080370e-02  1.49746388e-01  3.40929687e-01  2.95429081e-01\\n  1.46566927e-01  7.98490364e-03  9.06777829e-02  1.33660600e-01]\",\n          \"[-0.23594205 -0.17025523  0.24175887 -0.03879694  0.03617148 -0.24171445\\n -0.05869093  0.0923452  -0.02893876  0.06159811  0.03418464 -0.17960209\\n -0.15655886  0.04471085  0.1037509  -0.17012475 -0.07715534 -0.18783797\\n -0.05091878  0.02922786  0.0078678  -0.05441751 -0.04488314 -0.08691646\\n  0.07887191  0.01636839 -0.05085979 -0.2614677  -0.05163682 -0.06979198\\n  0.09725973  0.08673815 -0.15822463  0.26585963  0.00270882  0.13405162\\n  0.03479369 -0.17201465 -0.02264154 -0.23556444  0.09102743  0.00235059\\n  0.16202766 -0.03389667 -0.1856268  -0.05621484 -0.01684876 -0.07137111\\n  0.08512522 -0.00300978 -0.05510749 -0.06075789  0.08499352  0.08639378\\n -0.1037303  -0.01610841 -0.02045371  0.00732645  0.05501033  0.01504377\\n  0.04571147 -0.04033599 -0.0541074  -0.10348517 -0.08369752  0.11947867\\n  0.09571901 -0.07847808 -0.10890172  0.07897239 -0.08640888 -0.03979588\\n  0.02112016  0.08378425 -0.06114041  0.20813347 -0.23736228 -0.12889995\\n -0.13944302  0.11580405 -0.04459898  0.01869675 -0.04779069  0.02199939\\n  0.0154171   0.10456054  0.02499545  0.16515703 -0.09721015  0.11397065\\n  0.04158059  0.04519415 -0.2952448  -0.06151222  0.11086659  0.14050034\\n  0.06260673 -0.13300563  0.02490412 -0.04773774]\"\n        ],\n        \"semantic_type\": \"\",\n        \"description\": \"\"\n      }\n    }\n  ]\n}"
            }
          },
          "metadata": {},
          "execution_count": 14
        }
      ]
    },
    {
      "cell_type": "code",
      "source": [
        "df['word_vector'][0]"
      ],
      "metadata": {
        "colab": {
          "base_uri": "https://localhost:8080/",
          "height": 105
        },
        "id": "v5Wnq6_mmEjl",
        "outputId": "68b0d1ef-6244-4517-fca3-c22fa894bde1"
      },
      "execution_count": 28,
      "outputs": [
        {
          "output_type": "execute_result",
          "data": {
            "text/plain": [
              "'[-0.71421003 -0.43195808  0.15991907  0.38626274  0.04781558 -0.48157117\\n  0.17861766  0.33395472 -0.53779346 -0.1454402   0.10876191 -0.14460744\\n -0.87054515 -0.06958377  0.05641678 -0.05247179  0.18397798 -1.6283635\\n -0.3470311  -1.2217605   0.07419684  0.25058287  0.36215112  0.41909254\\n  0.02291591  0.02597334  0.13878934 -0.35179588 -0.24361397  0.27152073\\n  0.08842931 -0.13643901  0.36934707 -0.27618927 -0.12014078  0.9117457\\n  0.24535997 -0.47187874 -0.66877437 -0.931308   -0.33712864 -0.40584818\\n  0.28837156 -0.08660394  0.1047089  -0.17412001 -0.4747374  -0.10787129\\n  0.00564343  0.39726052  0.01543204 -0.36989698 -0.31879357  0.26676497\\n -0.5299637   0.02592342  0.78011805  0.27708447 -0.4254185   0.30106464\\n -0.17721532 -0.07419155 -0.36921838 -0.10730512 -0.5324708  -0.2543051\\n  0.26878995  0.25399098 -0.7810068  -0.27223763  0.14206327  0.33873582\\n -0.06327583  0.050341    0.7625775   0.03082247  0.10018466  0.10603174\\n -0.5392508   0.18368293 -0.27566543 -0.01437549  0.25901866  0.04661106\\n -0.1289065   0.13580577  0.10646987  0.5602476   0.08233251  0.29319558\\n  0.45066035  0.28530553 -0.02083959  0.13793916  0.75483865  0.48093426\\n -0.22246422 -0.5510774   0.17131066  0.26493445]'"
            ],
            "application/vnd.google.colaboratory.intrinsic+json": {
              "type": "string"
            }
          },
          "metadata": {},
          "execution_count": 28
        }
      ]
    },
    {
      "cell_type": "markdown",
      "source": [
        "## Word2Vec and Doc2Vec"
      ],
      "metadata": {
        "id": "PDGfZSVJmlCa"
      }
    },
    {
      "cell_type": "code",
      "source": [
        "from gensim.models import Word2Vec\n",
        "\n",
        "# Train Word2Vec model\n",
        "word2vec_model = Word2Vec(sentences=df['tokenized_text'].tolist(), vector_size=100, window=5, min_count=2, workers=4)\n",
        "\n",
        "# Create a function to average Word2Vec vectors for each document\n",
        "def average_word_vectors(words, model, vocabulary, num_features):\n",
        "    feature_vector = np.zeros((num_features,), dtype=\"float64\")\n",
        "    nwords = 0\n",
        "\n",
        "    for word in words:\n",
        "        if word in vocabulary:\n",
        "            nwords += 1\n",
        "            feature_vector = np.add(feature_vector, model.wv[word])\n",
        "\n",
        "    if nwords:\n",
        "        feature_vector = np.divide(feature_vector, nwords)\n",
        "    return feature_vector\n",
        "\n",
        "# Apply function to each row in the DataFrame\n",
        "vocabulary = set(word2vec_model.wv.index_to_key)\n",
        "df['word_vec'] = df['tokenized_text'].apply(lambda x: average_word_vectors(x, word2vec_model, vocabulary, 100))\n"
      ],
      "metadata": {
        "colab": {
          "base_uri": "https://localhost:8080/"
        },
        "id": "82Q-DEs7mkLi",
        "outputId": "d123093d-4c81-4e18-dc7b-c0d9fb4c11a4"
      },
      "execution_count": 51,
      "outputs": [
        {
          "output_type": "stream",
          "name": "stderr",
          "text": [
            "WARNING:gensim.models.word2vec:Each 'sentences' item should be a list of words (usually unicode strings). First item here is instead plain <class 'str'>.\n"
          ]
        }
      ]
    },
    {
      "cell_type": "code",
      "source": [
        "from gensim.models.doc2vec import Doc2Vec, TaggedDocument\n",
        "\n",
        "# Tagging documents\n",
        "tagged_data = [TaggedDocument(words=_d, tags=[str(i)]) for i, _d in enumerate(df['tokenized_text'])]\n",
        "\n",
        "# Train Doc2Vec model\n",
        "doc2vec_model = Doc2Vec(tagged_data, vector_size=100, window=5, min_count=2, workers=4)\n",
        "\n",
        "# Save the vectors to DataFrame\n",
        "df['doc_vec'] = [doc2vec_model.dv[str(i)] for i in range(len(df))]\n"
      ],
      "metadata": {
        "colab": {
          "base_uri": "https://localhost:8080/"
        },
        "id": "5Ja3jOpqmq6K",
        "outputId": "a166f6e4-b395-4f52-dd1a-e314bde6a015"
      },
      "execution_count": 52,
      "outputs": [
        {
          "output_type": "stream",
          "name": "stderr",
          "text": [
            "WARNING:gensim.models.doc2vec:Each 'words' should be a list of words (usually unicode strings). First 'words' here is instead plain <class 'str'>.\n"
          ]
        }
      ]
    },
    {
      "cell_type": "code",
      "source": [
        "target = df[\"label_str\"]\n",
        "\n",
        "# one hot encode target\n",
        "y = pd.get_dummies(target).values\n",
        "\n",
        "tokenizer = tf.keras.preprocessing.text.Tokenizer(num_words=20000)\n",
        "tokenizer.fit_on_texts(list(df['text']))\n",
        "tokenized_texts = tokenizer.texts_to_sequences(df['text'])\n",
        "X = tf.keras.preprocessing.sequence.pad_sequences(tokenized_texts)"
      ],
      "metadata": {
        "id": "BXZ-G8ocowYu"
      },
      "execution_count": 16,
      "outputs": []
    },
    {
      "cell_type": "code",
      "source": [
        "print(f\"Shape of X: {X.shape}\")\n",
        "print(f\"Shape of y: {y.shape}\")"
      ],
      "metadata": {
        "colab": {
          "base_uri": "https://localhost:8080/"
        },
        "id": "CphFb1yqph9B",
        "outputId": "0711d1d4-a54f-46e8-a88f-1884fc50c48f"
      },
      "execution_count": 49,
      "outputs": [
        {
          "output_type": "stream",
          "name": "stdout",
          "text": [
            "Shape of X: (14438, 1)\n",
            "Shape of y: (14438, 5)\n"
          ]
        }
      ]
    },
    {
      "cell_type": "code",
      "source": [
        "X_word_vec = np.array(list(df['word_vector']))\n",
        "X_doc_vec = np.array(list(df['doc_vector']))"
      ],
      "metadata": {
        "id": "jOESSXqaiiZ0"
      },
      "execution_count": 55,
      "outputs": []
    },
    {
      "cell_type": "code",
      "source": [
        "nltk.download('punkt')"
      ],
      "metadata": {
        "colab": {
          "base_uri": "https://localhost:8080/"
        },
        "id": "5ybeortYp81Y",
        "outputId": "37f905a5-cd7c-4fe5-dbc2-8a4fab4056f9"
      },
      "execution_count": null,
      "outputs": [
        {
          "output_type": "stream",
          "name": "stderr",
          "text": [
            "[nltk_data] Downloading package punkt to /root/nltk_data...\n",
            "[nltk_data]   Unzipping tokenizers/punkt.zip.\n"
          ]
        },
        {
          "output_type": "execute_result",
          "data": {
            "text/plain": [
              "True"
            ]
          },
          "metadata": {},
          "execution_count": 17
        }
      ]
    },
    {
      "cell_type": "code",
      "source": [
        "X_word_vec.shape"
      ],
      "metadata": {
        "colab": {
          "base_uri": "https://localhost:8080/"
        },
        "id": "m5cWnrkB05wU",
        "outputId": "349fe132-53b0-4237-b853-28973ccfbf8f"
      },
      "execution_count": 56,
      "outputs": [
        {
          "output_type": "execute_result",
          "data": {
            "text/plain": [
              "(14438,)"
            ]
          },
          "metadata": {},
          "execution_count": 56
        }
      ]
    },
    {
      "cell_type": "code",
      "source": [
        "X_doc_vec.shape"
      ],
      "metadata": {
        "colab": {
          "base_uri": "https://localhost:8080/"
        },
        "id": "Tl8wKXnD07dW",
        "outputId": "d8467045-4a37-4e39-e5e8-c50f9f12e815"
      },
      "execution_count": 57,
      "outputs": [
        {
          "output_type": "execute_result",
          "data": {
            "text/plain": [
              "(14438,)"
            ]
          },
          "metadata": {},
          "execution_count": 57
        }
      ]
    },
    {
      "cell_type": "code",
      "source": [
        "    # Stack arrays correctly\n",
        "    X = np.array(list(df['doc_vector']))\n",
        "    print(\"New shape of X:\", X.shape) ## Shouldn't be one dimensional??"
      ],
      "metadata": {
        "colab": {
          "base_uri": "https://localhost:8080/"
        },
        "id": "gQvT_tdP1JfY",
        "outputId": "006f7b15-ff7b-49fc-dcdb-ac8bdb8d4ee7"
      },
      "execution_count": 59,
      "outputs": [
        {
          "output_type": "stream",
          "name": "stdout",
          "text": [
            "New shape of X: (14438,)\n"
          ]
        }
      ]
    },
    {
      "cell_type": "markdown",
      "source": [
        "## RNN #1: Doc2Vec"
      ],
      "metadata": {
        "id": "eR9ogs2kulHy"
      }
    },
    {
      "cell_type": "code",
      "source": [
        "# Convert the list of vectors into a single numpy array\n",
        "X = np.stack(df['doc_vec'].values)\n",
        "\n",
        "# Add an explicit timestep dimension\n",
        "X = X.reshape((X.shape[0], 1, X.shape[1]))\n",
        "print(\"Shape of X after reshaping:\", X.shape)"
      ],
      "metadata": {
        "colab": {
          "base_uri": "https://localhost:8080/"
        },
        "id": "6nwn6CfJpa4q",
        "outputId": "06f85f1e-0b89-4335-8f8d-004eb0d0e0a1"
      },
      "execution_count": 36,
      "outputs": [
        {
          "output_type": "stream",
          "name": "stdout",
          "text": [
            "Shape of X after reshaping: (14438, 1, 100)\n"
          ]
        }
      ]
    },
    {
      "cell_type": "code",
      "source": [
        "from tensorflow.keras.utils import to_categorical\n",
        "from sklearn.preprocessing import LabelEncoder\n",
        "\n",
        "# Label encoding\n",
        "label_encoder = LabelEncoder()\n",
        "encoded_labels = label_encoder.fit_transform(df['label_str'])\n",
        "# Convert labels to categorical\n",
        "y = to_categorical(encoded_labels)\n",
        "\n",
        "# Split the data\n",
        "X_train, X_test, y_train, y_test = train_test_split(X, y, test_size=0.2, random_state=42)"
      ],
      "metadata": {
        "id": "t1KkRq9Eowyl"
      },
      "execution_count": 41,
      "outputs": []
    },
    {
      "cell_type": "code",
      "source": [
        "print(\"Shape of X_train:\", X_train.shape)\n",
        "print(\"Shape of y_train:\", y_train.shape)"
      ],
      "metadata": {
        "colab": {
          "base_uri": "https://localhost:8080/"
        },
        "id": "R3keqaESpZr2",
        "outputId": "9ac67d42-a5e1-4c0f-9b11-ff7c9859335c"
      },
      "execution_count": 42,
      "outputs": [
        {
          "output_type": "stream",
          "name": "stdout",
          "text": [
            "Shape of X_train: (11550, 1, 100)\n",
            "Shape of y_train: (11550, 5)\n"
          ]
        }
      ]
    },
    {
      "cell_type": "code",
      "source": [
        "from tensorflow.keras.models import Sequential\n",
        "from tensorflow.keras.layers import LSTM, Dropout, Dense\n",
        "\n",
        "# Initialize the model\n",
        "model = Sequential()\n",
        "\n",
        "# Adding LSTM layer\n",
        "model.add(LSTM(64, input_shape=(1, 100)))  # Shape [timesteps, features]\n",
        "\n",
        "# Adding dropout for regularization\n",
        "model.add(Dropout(0.5))\n",
        "\n",
        "# Adding a Dense layer for classification\n",
        "model.add(Dense(5, activation='softmax'))  # 5 classes\n",
        "\n",
        "# Compile the model\n",
        "model.compile(optimizer='adam', loss='categorical_crossentropy', metrics=['accuracy'])\n",
        "\n",
        "# Display model architecture\n",
        "model.summary()\n"
      ],
      "metadata": {
        "colab": {
          "base_uri": "https://localhost:8080/"
        },
        "id": "pnE5-gcrqKba",
        "outputId": "f27e04ef-2df4-4f23-cff5-608863e09e5d"
      },
      "execution_count": 44,
      "outputs": [
        {
          "output_type": "stream",
          "name": "stdout",
          "text": [
            "Model: \"sequential_5\"\n",
            "_________________________________________________________________\n",
            " Layer (type)                Output Shape              Param #   \n",
            "=================================================================\n",
            " lstm (LSTM)                 (None, 64)                42240     \n",
            "                                                                 \n",
            " dropout (Dropout)           (None, 64)                0         \n",
            "                                                                 \n",
            " dense (Dense)               (None, 5)                 325       \n",
            "                                                                 \n",
            "=================================================================\n",
            "Total params: 42565 (166.27 KB)\n",
            "Trainable params: 42565 (166.27 KB)\n",
            "Non-trainable params: 0 (0.00 Byte)\n",
            "_________________________________________________________________\n"
          ]
        }
      ]
    },
    {
      "cell_type": "code",
      "source": [
        "history = model.fit(X_train, y_train, epochs=20, batch_size=32, validation_split=0.2)\n"
      ],
      "metadata": {
        "colab": {
          "base_uri": "https://localhost:8080/",
          "height": 685
        },
        "id": "NjzNjov6qMq6",
        "outputId": "93c79119-9620-4634-b94c-f43745a2e276"
      },
      "execution_count": 45,
      "outputs": [
        {
          "output_type": "stream",
          "name": "stdout",
          "text": [
            "Epoch 1/20\n"
          ]
        },
        {
          "output_type": "error",
          "ename": "ValueError",
          "evalue": "in user code:\n\n    File \"/usr/local/lib/python3.10/dist-packages/keras/src/engine/training.py\", line 1401, in train_function  *\n        return step_function(self, iterator)\n    File \"/usr/local/lib/python3.10/dist-packages/keras/src/engine/training.py\", line 1384, in step_function  **\n        outputs = model.distribute_strategy.run(run_step, args=(data,))\n    File \"/usr/local/lib/python3.10/dist-packages/keras/src/engine/training.py\", line 1373, in run_step  **\n        outputs = model.train_step(data)\n    File \"/usr/local/lib/python3.10/dist-packages/keras/src/engine/training.py\", line 1150, in train_step\n        y_pred = self(x, training=True)\n    File \"/usr/local/lib/python3.10/dist-packages/keras/src/utils/traceback_utils.py\", line 70, in error_handler\n        raise e.with_traceback(filtered_tb) from None\n    File \"/usr/local/lib/python3.10/dist-packages/keras/src/engine/input_spec.py\", line 235, in assert_input_compatibility\n        raise ValueError(\n\n    ValueError: Exception encountered when calling layer 'sequential_5' (type Sequential).\n    \n    Input 0 of layer \"lstm\" is incompatible with the layer: expected ndim=3, found ndim=1. Full shape received: (None,)\n    \n    Call arguments received by layer 'sequential_5' (type Sequential):\n      • inputs=tf.Tensor(shape=(None,), dtype=string)\n      • training=True\n      • mask=None\n",
          "traceback": [
            "\u001b[0;31m---------------------------------------------------------------------------\u001b[0m",
            "\u001b[0;31mValueError\u001b[0m                                Traceback (most recent call last)",
            "\u001b[0;32m<ipython-input-45-aa37dbfba52e>\u001b[0m in \u001b[0;36m<cell line: 1>\u001b[0;34m()\u001b[0m\n\u001b[0;32m----> 1\u001b[0;31m \u001b[0mhistory\u001b[0m \u001b[0;34m=\u001b[0m \u001b[0mmodel\u001b[0m\u001b[0;34m.\u001b[0m\u001b[0mfit\u001b[0m\u001b[0;34m(\u001b[0m\u001b[0mX_train\u001b[0m\u001b[0;34m,\u001b[0m \u001b[0my_train\u001b[0m\u001b[0;34m,\u001b[0m \u001b[0mepochs\u001b[0m\u001b[0;34m=\u001b[0m\u001b[0;36m20\u001b[0m\u001b[0;34m,\u001b[0m \u001b[0mbatch_size\u001b[0m\u001b[0;34m=\u001b[0m\u001b[0;36m32\u001b[0m\u001b[0;34m,\u001b[0m \u001b[0mvalidation_split\u001b[0m\u001b[0;34m=\u001b[0m\u001b[0;36m0.2\u001b[0m\u001b[0;34m)\u001b[0m\u001b[0;34m\u001b[0m\u001b[0;34m\u001b[0m\u001b[0m\n\u001b[0m",
            "\u001b[0;32m/usr/local/lib/python3.10/dist-packages/keras/src/utils/traceback_utils.py\u001b[0m in \u001b[0;36merror_handler\u001b[0;34m(*args, **kwargs)\u001b[0m\n\u001b[1;32m     68\u001b[0m             \u001b[0;31m# To get the full stack trace, call:\u001b[0m\u001b[0;34m\u001b[0m\u001b[0;34m\u001b[0m\u001b[0m\n\u001b[1;32m     69\u001b[0m             \u001b[0;31m# `tf.debugging.disable_traceback_filtering()`\u001b[0m\u001b[0;34m\u001b[0m\u001b[0;34m\u001b[0m\u001b[0m\n\u001b[0;32m---> 70\u001b[0;31m             \u001b[0;32mraise\u001b[0m \u001b[0me\u001b[0m\u001b[0;34m.\u001b[0m\u001b[0mwith_traceback\u001b[0m\u001b[0;34m(\u001b[0m\u001b[0mfiltered_tb\u001b[0m\u001b[0;34m)\u001b[0m \u001b[0;32mfrom\u001b[0m \u001b[0;32mNone\u001b[0m\u001b[0;34m\u001b[0m\u001b[0;34m\u001b[0m\u001b[0m\n\u001b[0m\u001b[1;32m     71\u001b[0m         \u001b[0;32mfinally\u001b[0m\u001b[0;34m:\u001b[0m\u001b[0;34m\u001b[0m\u001b[0;34m\u001b[0m\u001b[0m\n\u001b[1;32m     72\u001b[0m             \u001b[0;32mdel\u001b[0m \u001b[0mfiltered_tb\u001b[0m\u001b[0;34m\u001b[0m\u001b[0;34m\u001b[0m\u001b[0m\n",
            "\u001b[0;32m/usr/local/lib/python3.10/dist-packages/keras/src/engine/training.py\u001b[0m in \u001b[0;36mtf__train_function\u001b[0;34m(iterator)\u001b[0m\n\u001b[1;32m     13\u001b[0m                 \u001b[0;32mtry\u001b[0m\u001b[0;34m:\u001b[0m\u001b[0;34m\u001b[0m\u001b[0;34m\u001b[0m\u001b[0m\n\u001b[1;32m     14\u001b[0m                     \u001b[0mdo_return\u001b[0m \u001b[0;34m=\u001b[0m \u001b[0;32mTrue\u001b[0m\u001b[0;34m\u001b[0m\u001b[0;34m\u001b[0m\u001b[0m\n\u001b[0;32m---> 15\u001b[0;31m                     \u001b[0mretval_\u001b[0m \u001b[0;34m=\u001b[0m \u001b[0mag__\u001b[0m\u001b[0;34m.\u001b[0m\u001b[0mconverted_call\u001b[0m\u001b[0;34m(\u001b[0m\u001b[0mag__\u001b[0m\u001b[0;34m.\u001b[0m\u001b[0mld\u001b[0m\u001b[0;34m(\u001b[0m\u001b[0mstep_function\u001b[0m\u001b[0;34m)\u001b[0m\u001b[0;34m,\u001b[0m \u001b[0;34m(\u001b[0m\u001b[0mag__\u001b[0m\u001b[0;34m.\u001b[0m\u001b[0mld\u001b[0m\u001b[0;34m(\u001b[0m\u001b[0mself\u001b[0m\u001b[0;34m)\u001b[0m\u001b[0;34m,\u001b[0m \u001b[0mag__\u001b[0m\u001b[0;34m.\u001b[0m\u001b[0mld\u001b[0m\u001b[0;34m(\u001b[0m\u001b[0miterator\u001b[0m\u001b[0;34m)\u001b[0m\u001b[0;34m)\u001b[0m\u001b[0;34m,\u001b[0m \u001b[0;32mNone\u001b[0m\u001b[0;34m,\u001b[0m \u001b[0mfscope\u001b[0m\u001b[0;34m)\u001b[0m\u001b[0;34m\u001b[0m\u001b[0;34m\u001b[0m\u001b[0m\n\u001b[0m\u001b[1;32m     16\u001b[0m                 \u001b[0;32mexcept\u001b[0m\u001b[0;34m:\u001b[0m\u001b[0;34m\u001b[0m\u001b[0;34m\u001b[0m\u001b[0m\n\u001b[1;32m     17\u001b[0m                     \u001b[0mdo_return\u001b[0m \u001b[0;34m=\u001b[0m \u001b[0;32mFalse\u001b[0m\u001b[0;34m\u001b[0m\u001b[0;34m\u001b[0m\u001b[0m\n",
            "\u001b[0;31mValueError\u001b[0m: in user code:\n\n    File \"/usr/local/lib/python3.10/dist-packages/keras/src/engine/training.py\", line 1401, in train_function  *\n        return step_function(self, iterator)\n    File \"/usr/local/lib/python3.10/dist-packages/keras/src/engine/training.py\", line 1384, in step_function  **\n        outputs = model.distribute_strategy.run(run_step, args=(data,))\n    File \"/usr/local/lib/python3.10/dist-packages/keras/src/engine/training.py\", line 1373, in run_step  **\n        outputs = model.train_step(data)\n    File \"/usr/local/lib/python3.10/dist-packages/keras/src/engine/training.py\", line 1150, in train_step\n        y_pred = self(x, training=True)\n    File \"/usr/local/lib/python3.10/dist-packages/keras/src/utils/traceback_utils.py\", line 70, in error_handler\n        raise e.with_traceback(filtered_tb) from None\n    File \"/usr/local/lib/python3.10/dist-packages/keras/src/engine/input_spec.py\", line 235, in assert_input_compatibility\n        raise ValueError(\n\n    ValueError: Exception encountered when calling layer 'sequential_5' (type Sequential).\n    \n    Input 0 of layer \"lstm\" is incompatible with the layer: expected ndim=3, found ndim=1. Full shape received: (None,)\n    \n    Call arguments received by layer 'sequential_5' (type Sequential):\n      • inputs=tf.Tensor(shape=(None,), dtype=string)\n      • training=True\n      • mask=None\n"
          ]
        }
      ]
    },
    {
      "cell_type": "code",
      "source": [
        "from tensorflow.keras.models import Sequential\n",
        "from tensorflow.keras.layers import LSTM, Dropout, Dense, GlobalMaxPool1D\n",
        "from sklearn.model_selection import train_test_split\n",
        "\n",
        "X_train, X_test, y_train, y_test = train_test_split(X_doc_vec, y, test_size=0.2)\n",
        "\n",
        "# Create the model\n",
        "model = Sequential()\n",
        "model.add(LSTM(64, input_shape=(X_train.shape[1], X_train.shape[2])))\n",
        "model.add(GlobalMaxPool1D())\n",
        "model.add(Dropout(0.25))\n",
        "model.add(LSTM(32, return_sequences=False))\n",
        "model.add(Dropout(0.25))\n",
        "model.add(Dense(50, activation='relu'))\n",
        "model.add(Dropout(0.25))\n",
        "model.add(Dense(5, activation='softmax'))  # 5 categories for the output layer\n",
        "\n",
        "model.compile(loss='categorical_crossentropy', optimizer='adam', metrics=['accuracy'])\n"
      ],
      "metadata": {
        "colab": {
          "base_uri": "https://localhost:8080/",
          "height": 210
        },
        "id": "F1zN8O_5jHie",
        "outputId": "8432d714-a863-431c-f513-ba2a3a0e3281"
      },
      "execution_count": 43,
      "outputs": [
        {
          "output_type": "error",
          "ename": "IndexError",
          "evalue": "tuple index out of range",
          "traceback": [
            "\u001b[0;31m---------------------------------------------------------------------------\u001b[0m",
            "\u001b[0;31mIndexError\u001b[0m                                Traceback (most recent call last)",
            "\u001b[0;32m<ipython-input-43-6de1be922b06>\u001b[0m in \u001b[0;36m<cell line: 10>\u001b[0;34m()\u001b[0m\n\u001b[1;32m      8\u001b[0m \u001b[0;31m# Create the model\u001b[0m\u001b[0;34m\u001b[0m\u001b[0;34m\u001b[0m\u001b[0m\n\u001b[1;32m      9\u001b[0m \u001b[0mmodel\u001b[0m \u001b[0;34m=\u001b[0m \u001b[0mSequential\u001b[0m\u001b[0;34m(\u001b[0m\u001b[0;34m)\u001b[0m\u001b[0;34m\u001b[0m\u001b[0;34m\u001b[0m\u001b[0m\n\u001b[0;32m---> 10\u001b[0;31m \u001b[0mmodel\u001b[0m\u001b[0;34m.\u001b[0m\u001b[0madd\u001b[0m\u001b[0;34m(\u001b[0m\u001b[0mLSTM\u001b[0m\u001b[0;34m(\u001b[0m\u001b[0;36m64\u001b[0m\u001b[0;34m,\u001b[0m \u001b[0minput_shape\u001b[0m\u001b[0;34m=\u001b[0m\u001b[0;34m(\u001b[0m\u001b[0mX_train\u001b[0m\u001b[0;34m.\u001b[0m\u001b[0mshape\u001b[0m\u001b[0;34m[\u001b[0m\u001b[0;36m1\u001b[0m\u001b[0;34m]\u001b[0m\u001b[0;34m,\u001b[0m \u001b[0mX_train\u001b[0m\u001b[0;34m.\u001b[0m\u001b[0mshape\u001b[0m\u001b[0;34m[\u001b[0m\u001b[0;36m2\u001b[0m\u001b[0;34m]\u001b[0m\u001b[0;34m)\u001b[0m\u001b[0;34m)\u001b[0m\u001b[0;34m)\u001b[0m\u001b[0;34m\u001b[0m\u001b[0;34m\u001b[0m\u001b[0m\n\u001b[0m\u001b[1;32m     11\u001b[0m \u001b[0mmodel\u001b[0m\u001b[0;34m.\u001b[0m\u001b[0madd\u001b[0m\u001b[0;34m(\u001b[0m\u001b[0mGlobalMaxPool1D\u001b[0m\u001b[0;34m(\u001b[0m\u001b[0;34m)\u001b[0m\u001b[0;34m)\u001b[0m\u001b[0;34m\u001b[0m\u001b[0;34m\u001b[0m\u001b[0m\n\u001b[1;32m     12\u001b[0m \u001b[0mmodel\u001b[0m\u001b[0;34m.\u001b[0m\u001b[0madd\u001b[0m\u001b[0;34m(\u001b[0m\u001b[0mDropout\u001b[0m\u001b[0;34m(\u001b[0m\u001b[0;36m0.25\u001b[0m\u001b[0;34m)\u001b[0m\u001b[0;34m)\u001b[0m\u001b[0;34m\u001b[0m\u001b[0;34m\u001b[0m\u001b[0m\n",
            "\u001b[0;31mIndexError\u001b[0m: tuple index out of range"
          ]
        }
      ]
    },
    {
      "cell_type": "code",
      "source": [
        "print(type(df['doc_vec'].iloc[0]))\n",
        "print(df['doc_vec'].iloc[0].shape)"
      ],
      "metadata": {
        "colab": {
          "base_uri": "https://localhost:8080/"
        },
        "id": "dvIDEw6EpEuY",
        "outputId": "ca1925fc-fad1-41ed-921e-943d34f43076"
      },
      "execution_count": 35,
      "outputs": [
        {
          "output_type": "stream",
          "name": "stdout",
          "text": [
            "<class 'numpy.ndarray'>\n",
            "(100,)\n"
          ]
        }
      ]
    },
    {
      "cell_type": "code",
      "source": [
        "print(\"Shape of Doc2Vec/Word2Vec vectors:\", df['doc_vector'][0].shape)\n"
      ],
      "metadata": {
        "colab": {
          "base_uri": "https://localhost:8080/",
          "height": 141
        },
        "id": "Xmx8BD6ijM9P",
        "outputId": "407a6cbf-dbb4-47d3-b916-38fcca217b0a"
      },
      "execution_count": 22,
      "outputs": [
        {
          "output_type": "error",
          "ename": "AttributeError",
          "evalue": "'str' object has no attribute 'shape'",
          "traceback": [
            "\u001b[0;31m---------------------------------------------------------------------------\u001b[0m",
            "\u001b[0;31mAttributeError\u001b[0m                            Traceback (most recent call last)",
            "\u001b[0;32m<ipython-input-22-7fcf105013db>\u001b[0m in \u001b[0;36m<cell line: 1>\u001b[0;34m()\u001b[0m\n\u001b[0;32m----> 1\u001b[0;31m \u001b[0mprint\u001b[0m\u001b[0;34m(\u001b[0m\u001b[0;34m\"Shape of Doc2Vec/Word2Vec vectors:\"\u001b[0m\u001b[0;34m,\u001b[0m \u001b[0mdf\u001b[0m\u001b[0;34m[\u001b[0m\u001b[0;34m'doc_vector'\u001b[0m\u001b[0;34m]\u001b[0m\u001b[0;34m[\u001b[0m\u001b[0;36m0\u001b[0m\u001b[0;34m]\u001b[0m\u001b[0;34m.\u001b[0m\u001b[0mshape\u001b[0m\u001b[0;34m)\u001b[0m\u001b[0;34m\u001b[0m\u001b[0;34m\u001b[0m\u001b[0m\n\u001b[0m",
            "\u001b[0;31mAttributeError\u001b[0m: 'str' object has no attribute 'shape'"
          ]
        }
      ]
    },
    {
      "cell_type": "code",
      "source": [
        "df['doc_vector'][0]"
      ],
      "metadata": {
        "colab": {
          "base_uri": "https://localhost:8080/",
          "height": 105
        },
        "id": "bKtBBFEpkzY5",
        "outputId": "ca5b476c-1a75-4197-a475-816e49797286"
      },
      "execution_count": 23,
      "outputs": [
        {
          "output_type": "execute_result",
          "data": {
            "text/plain": [
              "'[-4.60017860e-01  8.57100934e-02  2.68247008e-01 -5.71715571e-02\\n  1.35846525e-01 -3.58661532e-01 -2.75348267e-03  3.34813958e-03\\n -1.00350320e-01 -1.77536979e-01  2.37339046e-02 -1.91271324e-02\\n -1.97960496e-01 -1.08921185e-01 -2.68634576e-02 -9.91437957e-02\\n  2.78562456e-02 -4.31421816e-01 -3.19513530e-02 -2.60830998e-01\\n  2.93511134e-02  9.45286453e-02 -3.12892050e-02  2.18811423e-01\\n -6.65868223e-02  2.67233640e-01  8.53709951e-02 -1.02302238e-01\\n -1.20329395e-01 -8.96077901e-02  2.89456666e-01  4.79149148e-02\\n -3.57673950e-02  9.47562139e-03  2.11157233e-01  1.80187523e-01\\n -3.16780321e-02 -1.99381828e-01  7.70340487e-02 -2.44257390e-01\\n  1.07234091e-01 -1.97756261e-01  1.42752826e-01  5.79903251e-04\\n -9.24960524e-03 -1.28767803e-01 -2.13733032e-01  4.23730761e-02\\n -2.60556433e-02  7.91492239e-02 -5.34485318e-02 -5.68576977e-02\\n -3.60285081e-02  8.87881070e-02 -1.47176623e-01 -1.00596510e-01\\n  7.89248943e-02  1.64050400e-01 -1.19142547e-01  1.82021618e-01\\n  6.69809058e-02 -1.06300965e-01 -6.57024309e-02  5.60604148e-02\\n -3.42198461e-01  1.14938743e-01 -1.75737012e-02 -3.07381321e-02\\n -3.44457150e-01  6.18804013e-03 -6.89397827e-02 -6.89374655e-02\\n  7.02334568e-02 -6.73976121e-03  6.52853101e-02 -2.85689756e-02\\n -1.11530155e-01  2.91458983e-02 -3.58817160e-01 -9.66916233e-02\\n -9.66017395e-02 -1.92522496e-01  3.82579327e-01  1.43587530e-01\\n -4.00246270e-02  3.07690173e-01  1.36075824e-01  1.82153001e-01\\n  2.50380009e-01 -1.71140581e-02  1.31625473e-01  1.57614216e-01\\n -3.82990763e-02 -6.21479191e-02  2.33831406e-01  2.41510659e-01\\n -1.79052740e-01 -1.11649380e-04  1.05793737e-01 -1.13907076e-01]'"
            ],
            "application/vnd.google.colaboratory.intrinsic+json": {
              "type": "string"
            }
          },
          "metadata": {},
          "execution_count": 23
        }
      ]
    },
    {
      "cell_type": "code",
      "source": [
        "type(df['doc_vector'][0])"
      ],
      "metadata": {
        "colab": {
          "base_uri": "https://localhost:8080/"
        },
        "id": "5N7ZyR0_k1R5",
        "outputId": "3e81eacc-2869-43ab-d6e1-cb4b91843a86"
      },
      "execution_count": 26,
      "outputs": [
        {
          "output_type": "execute_result",
          "data": {
            "text/plain": [
              "str"
            ]
          },
          "metadata": {},
          "execution_count": 26
        }
      ]
    },
    {
      "cell_type": "code",
      "source": [
        "type(X_train)"
      ],
      "metadata": {
        "colab": {
          "base_uri": "https://localhost:8080/"
        },
        "id": "EGdrWYSVjeTi",
        "outputId": "7c01fa76-f7f1-4743-b32b-2a117145a003"
      },
      "execution_count": 20,
      "outputs": [
        {
          "output_type": "execute_result",
          "data": {
            "text/plain": [
              "numpy.ndarray"
            ]
          },
          "metadata": {},
          "execution_count": 20
        }
      ]
    },
    {
      "cell_type": "code",
      "source": [
        "from sklearn.model_selection import train_test_split\n",
        "from nltk import word_tokenize\n",
        "\n",
        "\n",
        "data = df['text'].map(nltk.word_tokenize).values\n",
        "total_vocabulary = set(word.lower() for text in data for word in text)  # set created from nested comprehension\n",
        "\n",
        "X_train, X_test, y_train, y_test = train_test_split(X, y, test_size=0.2)\n",
        "\n",
        "# create model\n",
        "model = Sequential()\n",
        "\n",
        "embedding_size = 128\n",
        "model.add(Embedding(len(total_vocabulary), embedding_size))\n",
        "model.add(LSTM(25, return_sequences=True))\n",
        "model.add(GlobalMaxPool1D())\n",
        "model.add(Dropout(0.25))\n",
        "model.add(Dense(50, activation='relu'))\n",
        "model.add(Dropout(0.25))\n",
        "model.add(Dense(50, activation='relu'))\n",
        "model.add(Dropout(0.25))\n",
        "model.add(Dense(5, activation='softmax'))  # use 5 because we have 5 categories"
      ],
      "metadata": {
        "id": "ydlJAFQoptzY"
      },
      "execution_count": null,
      "outputs": []
    },
    {
      "cell_type": "code",
      "source": [
        "model.compile(loss='categorical_crossentropy',\n",
        "              optimizer='adam',\n",
        "              metrics=['accuracy'])\n",
        "model.summary() # check the shape\n"
      ],
      "metadata": {
        "colab": {
          "base_uri": "https://localhost:8080/"
        },
        "id": "-WPVNE6hphpk",
        "outputId": "11e9b616-eef4-4e35-9046-672749a276c4"
      },
      "execution_count": null,
      "outputs": [
        {
          "output_type": "stream",
          "name": "stdout",
          "text": [
            "Model: \"sequential_1\"\n",
            "_________________________________________________________________\n",
            " Layer (type)                Output Shape              Param #   \n",
            "=================================================================\n",
            " embedding_1 (Embedding)     (None, None, 128)         4460416   \n",
            "                                                                 \n",
            " lstm_1 (LSTM)               (None, None, 25)          15400     \n",
            "                                                                 \n",
            " global_max_pooling1d_1 (Gl  (None, 25)                0         \n",
            " obalMaxPooling1D)                                               \n",
            "                                                                 \n",
            " dropout_3 (Dropout)         (None, 25)                0         \n",
            "                                                                 \n",
            " dense_3 (Dense)             (None, 50)                1300      \n",
            "                                                                 \n",
            " dropout_4 (Dropout)         (None, 50)                0         \n",
            "                                                                 \n",
            " dense_4 (Dense)             (None, 50)                2550      \n",
            "                                                                 \n",
            " dropout_5 (Dropout)         (None, 50)                0         \n",
            "                                                                 \n",
            " dense_5 (Dense)             (None, 5)                 255       \n",
            "                                                                 \n",
            "=================================================================\n",
            "Total params: 4479921 (17.09 MB)\n",
            "Trainable params: 4479921 (17.09 MB)\n",
            "Non-trainable params: 0 (0.00 Byte)\n",
            "_________________________________________________________________\n"
          ]
        }
      ]
    },
    {
      "cell_type": "code",
      "source": [
        "from tensorflow.keras.callbacks import EarlyStopping\n",
        "\n",
        "# configure early stopping\n",
        "early_stopping = EarlyStopping(monitor='val_loss', patience=10, verbose=1, mode='min', restore_best_weights=True)\n",
        "\n",
        "# train the model with early stopping\n",
        "history = model.fit(X_train, y_train,\n",
        "          epochs=10,\n",
        "          batch_size=32,\n",
        "          validation_split=0.1,\n",
        "          callbacks=[early_stopping])"
      ],
      "metadata": {
        "colab": {
          "base_uri": "https://localhost:8080/"
        },
        "id": "TWoCXiZtqItt",
        "outputId": "f5417d57-570d-4ca4-b576-c619c6e31f60"
      },
      "execution_count": null,
      "outputs": [
        {
          "output_type": "stream",
          "name": "stdout",
          "text": [
            "Epoch 1/10\n",
            "325/325 [==============================] - 28s 78ms/step - loss: 1.3665 - accuracy: 0.4321 - val_loss: 1.1358 - val_accuracy: 0.5723\n",
            "Epoch 2/10\n",
            "325/325 [==============================] - 13s 39ms/step - loss: 1.0921 - accuracy: 0.5608 - val_loss: 1.0610 - val_accuracy: 0.5645\n",
            "Epoch 3/10\n",
            "325/325 [==============================] - 9s 27ms/step - loss: 0.9283 - accuracy: 0.6203 - val_loss: 1.0143 - val_accuracy: 0.5758\n",
            "Epoch 4/10\n",
            "325/325 [==============================] - 7s 23ms/step - loss: 0.8094 - accuracy: 0.6735 - val_loss: 1.1227 - val_accuracy: 0.5593\n",
            "Epoch 5/10\n",
            "325/325 [==============================] - 7s 21ms/step - loss: 0.7213 - accuracy: 0.7142 - val_loss: 1.1650 - val_accuracy: 0.5619\n",
            "Epoch 6/10\n",
            "325/325 [==============================] - 6s 18ms/step - loss: 0.6359 - accuracy: 0.7512 - val_loss: 1.1985 - val_accuracy: 0.5593\n",
            "Epoch 7/10\n",
            "325/325 [==============================] - 5s 16ms/step - loss: 0.5949 - accuracy: 0.7605 - val_loss: 1.4177 - val_accuracy: 0.5463\n",
            "Epoch 8/10\n",
            "325/325 [==============================] - 6s 17ms/step - loss: 0.5479 - accuracy: 0.7741 - val_loss: 1.4713 - val_accuracy: 0.5455\n",
            "Epoch 9/10\n",
            "325/325 [==============================] - 5s 16ms/step - loss: 0.5133 - accuracy: 0.7823 - val_loss: 1.5754 - val_accuracy: 0.5212\n",
            "Epoch 10/10\n",
            "325/325 [==============================] - 5s 15ms/step - loss: 0.4959 - accuracy: 0.7847 - val_loss: 1.6221 - val_accuracy: 0.5126\n"
          ]
        }
      ]
    },
    {
      "cell_type": "code",
      "source": [
        "import matplotlib.pyplot as plt\n",
        "\n",
        "# Plotting training and validation accuracy\n",
        "plt.figure(figsize=(10, 5))\n",
        "plt.plot(history.history['accuracy'], label='Train Accuracy')\n",
        "plt.plot(history.history['val_accuracy'], label='Validation Accuracy')\n",
        "plt.title('Model Accuracy')\n",
        "plt.ylabel('Accuracy')\n",
        "plt.ylim([0.4,1])\n",
        "plt.xlabel('Epoch')\n",
        "plt.legend(loc='upper left')\n",
        "plt.show()"
      ],
      "metadata": {
        "colab": {
          "base_uri": "https://localhost:8080/",
          "height": 487
        },
        "id": "gFfRdW5LqP1k",
        "outputId": "9909f868-c044-4963-beab-b1b2d0782c99"
      },
      "execution_count": null,
      "outputs": [
        {
          "output_type": "display_data",
          "data": {
            "text/plain": [
              "<Figure size 1000x500 with 1 Axes>"
            ],
            "image/png": "[encoded data removed]"
          },
          "metadata": {}
        }
      ]
    },
    {
      "cell_type": "code",
      "source": [
        "# Evaluate the model on the test data\n",
        "test_loss, test_accuracy = model.evaluate(X_test, y_test)\n",
        "\n",
        "print(f\"Test Loss: {test_loss}\")\n",
        "print(f\"Test Accuracy: {test_accuracy}\")"
      ],
      "metadata": {
        "colab": {
          "base_uri": "https://localhost:8080/"
        },
        "id": "Tj7PVkFyrbXO",
        "outputId": "de574e4f-ff9f-48d6-a00c-aa0034b1df1d"
      },
      "execution_count": null,
      "outputs": [
        {
          "output_type": "stream",
          "name": "stdout",
          "text": [
            "91/91 [==============================] - 1s 7ms/step - loss: 1.7063 - accuracy: 0.4976\n",
            "Test Loss: 1.7062660455703735\n",
            "Test Accuracy: 0.49757617712020874\n"
          ]
        }
      ]
    },
    {
      "cell_type": "code",
      "source": [],
      "metadata": {
        "id": "b92rQnQ6snZT"
      },
      "execution_count": null,
      "outputs": []
    },
    {
      "cell_type": "markdown",
      "source": [
        "## XGBoost"
      ],
      "metadata": {
        "id": "_BWijim3uosC"
      }
    },
    {
      "cell_type": "code",
      "source": [
        "df.head()"
      ],
      "metadata": {
        "colab": {
          "base_uri": "https://localhost:8080/",
          "height": 206
        },
        "id": "G-dGUXTOv4ZF",
        "outputId": "7fa7f4c7-2fa1-4122-e4dc-cd116cc4f485"
      },
      "execution_count": null,
      "outputs": [
        {
          "output_type": "execute_result",
          "data": {
            "text/plain": [
              "   label                                               text     label_str  \\\n",
              "0      5  tissue changes around loose prostheses canine ...  pathological   \n",
              "1      1  neuropeptide neuron specific enolase levels be...     neoplasms   \n",
              "2      2  sexually transmitted diseases colon rectum anu...     digestive   \n",
              "3      1  lipolytic factors associated murine human canc...     neoplasms   \n",
              "4      3  carotid restenosis predict increased risk late...       nervous   \n",
              "\n",
              "                                      tokenized_text  \\\n",
              "0  ['tissue', 'changes', 'around', 'loose', 'pros...   \n",
              "1  ['neuropeptide', 'neuron', 'specific', 'enolas...   \n",
              "2  ['sexually', 'transmitted', 'diseases', 'colon...   \n",
              "3  ['lipolytic', 'factors', 'associated', 'murine...   \n",
              "4  ['carotid', 'restenosis', 'predict', 'increase...   \n",
              "\n",
              "                                         word_vector  \\\n",
              "0  [ 0.05476083 -0.03229698  0.17104799  0.033172...   \n",
              "1  [-0.56716686  0.14063118 -0.1405798   0.147050...   \n",
              "2  [-4.44717050e-01 -2.43615746e-01 -1.48011688e-...   \n",
              "3  [-0.4299487  -0.3027548   0.00997588  0.194334...   \n",
              "4  [-0.42303556 -0.1667321  -0.17955366  0.680879...   \n",
              "\n",
              "                                          doc_vector  \n",
              "0  [ 0.21682046 -0.15752031  0.20830779 -0.117360...  \n",
              "1  [-0.28650808  0.20193662 -0.30122852 -0.332502...  \n",
              "2  [-0.6044732  -0.31054446 -0.07080523  0.155947...  \n",
              "3  [-0.00296343  0.01876458 -0.06699752 -0.298283...  \n",
              "4  [ 0.05615142 -0.13514839  0.18133207  0.226112...  "
            ],
            "text/html": [
              "\n",
              "  <div id=\"df-27acd974-c87e-4e7f-a2dd-4c2efb3155fe\" class=\"colab-df-container\">\n",
              "    <div>\n",
              "<style scoped>\n",
              "    .dataframe tbody tr th:only-of-type {\n",
              "        vertical-align: middle;\n",
              "    }\n",
              "\n",
              "    .dataframe tbody tr th {\n",
              "        vertical-align: top;\n",
              "    }\n",
              "\n",
              "    .dataframe thead th {\n",
              "        text-align: right;\n",
              "    }\n",
              "</style>\n",
              "<table border=\"1\" class=\"dataframe\">\n",
              "  <thead>\n",
              "    <tr style=\"text-align: right;\">\n",
              "      <th></th>\n",
              "      <th>label</th>\n",
              "      <th>text</th>\n",
              "      <th>label_str</th>\n",
              "      <th>tokenized_text</th>\n",
              "      <th>word_vector</th>\n",
              "      <th>doc_vector</th>\n",
              "    </tr>\n",
              "  </thead>\n",
              "  <tbody>\n",
              "    <tr>\n",
              "      <th>0</th>\n",
              "      <td>5</td>\n",
              "      <td>tissue changes around loose prostheses canine ...</td>\n",
              "      <td>pathological</td>\n",
              "      <td>['tissue', 'changes', 'around', 'loose', 'pros...</td>\n",
              "      <td>[ 0.05476083 -0.03229698  0.17104799  0.033172...</td>\n",
              "      <td>[ 0.21682046 -0.15752031  0.20830779 -0.117360...</td>\n",
              "    </tr>\n",
              "    <tr>\n",
              "      <th>1</th>\n",
              "      <td>1</td>\n",
              "      <td>neuropeptide neuron specific enolase levels be...</td>\n",
              "      <td>neoplasms</td>\n",
              "      <td>['neuropeptide', 'neuron', 'specific', 'enolas...</td>\n",
              "      <td>[-0.56716686  0.14063118 -0.1405798   0.147050...</td>\n",
              "      <td>[-0.28650808  0.20193662 -0.30122852 -0.332502...</td>\n",
              "    </tr>\n",
              "    <tr>\n",
              "      <th>2</th>\n",
              "      <td>2</td>\n",
              "      <td>sexually transmitted diseases colon rectum anu...</td>\n",
              "      <td>digestive</td>\n",
              "      <td>['sexually', 'transmitted', 'diseases', 'colon...</td>\n",
              "      <td>[-4.44717050e-01 -2.43615746e-01 -1.48011688e-...</td>\n",
              "      <td>[-0.6044732  -0.31054446 -0.07080523  0.155947...</td>\n",
              "    </tr>\n",
              "    <tr>\n",
              "      <th>3</th>\n",
              "      <td>1</td>\n",
              "      <td>lipolytic factors associated murine human canc...</td>\n",
              "      <td>neoplasms</td>\n",
              "      <td>['lipolytic', 'factors', 'associated', 'murine...</td>\n",
              "      <td>[-0.4299487  -0.3027548   0.00997588  0.194334...</td>\n",
              "      <td>[-0.00296343  0.01876458 -0.06699752 -0.298283...</td>\n",
              "    </tr>\n",
              "    <tr>\n",
              "      <th>4</th>\n",
              "      <td>3</td>\n",
              "      <td>carotid restenosis predict increased risk late...</td>\n",
              "      <td>nervous</td>\n",
              "      <td>['carotid', 'restenosis', 'predict', 'increase...</td>\n",
              "      <td>[-0.42303556 -0.1667321  -0.17955366  0.680879...</td>\n",
              "      <td>[ 0.05615142 -0.13514839  0.18133207  0.226112...</td>\n",
              "    </tr>\n",
              "  </tbody>\n",
              "</table>\n",
              "</div>\n",
              "    <div class=\"colab-df-buttons\">\n",
              "\n",
              "  <div class=\"colab-df-container\">\n",
              "    <button class=\"colab-df-convert\" onclick=\"convertToInteractive('df-27acd974-c87e-4e7f-a2dd-4c2efb3155fe')\"\n",
              "            title=\"Convert this dataframe to an interactive table.\"\n",
              "            style=\"display:none;\">\n",
              "\n",
              "  <svg xmlns=\"http://www.w3.org/2000/svg\" height=\"24px\" viewBox=\"0 -960 960 960\">\n",
              "    <path d=\"M120-120v-720h720v720H120Zm60-500h600v-160H180v160Zm220 220h160v-160H400v160Zm0 220h160v-160H400v160ZM180-400h160v-160H180v160Zm440 0h160v-160H620v160ZM180-180h160v-160H180v160Zm440 0h160v-160H620v160Z\"/>\n",
              "  </svg>\n",
              "    </button>\n",
              "\n",
              "  <style>\n",
              "    .colab-df-container {\n",
              "      display:flex;\n",
              "      gap: 12px;\n",
              "    }\n",
              "\n",
              "    .colab-df-convert {\n",
              "      background-color: #E8F0FE;\n",
              "      border: none;\n",
              "      border-radius: 50%;\n",
              "      cursor: pointer;\n",
              "      display: none;\n",
              "      fill: #1967D2;\n",
              "      height: 32px;\n",
              "      padding: 0 0 0 0;\n",
              "      width: 32px;\n",
              "    }\n",
              "\n",
              "    .colab-df-convert:hover {\n",
              "      background-color: #E2EBFA;\n",
              "      box-shadow: 0px 1px 2px rgba(60, 64, 67, 0.3), 0px 1px 3px 1px rgba(60, 64, 67, 0.15);\n",
              "      fill: #174EA6;\n",
              "    }\n",
              "\n",
              "    .colab-df-buttons div {\n",
              "      margin-bottom: 4px;\n",
              "    }\n",
              "\n",
              "    [theme=dark] .colab-df-convert {\n",
              "      background-color: #3B4455;\n",
              "      fill: #D2E3FC;\n",
              "    }\n",
              "\n",
              "    [theme=dark] .colab-df-convert:hover {\n",
              "      background-color: #434B5C;\n",
              "      box-shadow: 0px 1px 3px 1px rgba(0, 0, 0, 0.15);\n",
              "      filter: drop-shadow(0px 1px 2px rgba(0, 0, 0, 0.3));\n",
              "      fill: #FFFFFF;\n",
              "    }\n",
              "  </style>\n",
              "\n",
              "    <script>\n",
              "      const buttonEl =\n",
              "        document.querySelector('#df-27acd974-c87e-4e7f-a2dd-4c2efb3155fe button.colab-df-convert');\n",
              "      buttonEl.style.display =\n",
              "        google.colab.kernel.accessAllowed ? 'block' : 'none';\n",
              "\n",
              "      async function convertToInteractive(key) {\n",
              "        const element = document.querySelector('#df-27acd974-c87e-4e7f-a2dd-4c2efb3155fe');\n",
              "        const dataTable =\n",
              "          await google.colab.kernel.invokeFunction('convertToInteractive',\n",
              "                                                    [key], {});\n",
              "        if (!dataTable) return;\n",
              "\n",
              "        const docLinkHtml = 'Like what you see? Visit the ' +\n",
              "          '<a target=\"_blank\" href=https://colab.research.google.com/notebooks/data_table.ipynb>data table notebook</a>'\n",
              "          + ' to learn more about interactive tables.';\n",
              "        element.innerHTML = '';\n",
              "        dataTable['output_type'] = 'display_data';\n",
              "        await google.colab.output.renderOutput(dataTable, element);\n",
              "        const docLink = document.createElement('div');\n",
              "        docLink.innerHTML = docLinkHtml;\n",
              "        element.appendChild(docLink);\n",
              "      }\n",
              "    </script>\n",
              "  </div>\n",
              "\n",
              "\n",
              "<div id=\"df-560b3d33-c187-43d7-aa48-3a41c4c2ef8b\">\n",
              "  <button class=\"colab-df-quickchart\" onclick=\"quickchart('df-560b3d33-c187-43d7-aa48-3a41c4c2ef8b')\"\n",
              "            title=\"Suggest charts\"\n",
              "            style=\"display:none;\">\n",
              "\n",
              "<svg xmlns=\"http://www.w3.org/2000/svg\" height=\"24px\"viewBox=\"0 0 24 24\"\n",
              "     width=\"24px\">\n",
              "    <g>\n",
              "        <path d=\"M19 3H5c-1.1 0-2 .9-2 2v14c0 1.1.9 2 2 2h14c1.1 0 2-.9 2-2V5c0-1.1-.9-2-2-2zM9 17H7v-7h2v7zm4 0h-2V7h2v10zm4 0h-2v-4h2v4z\"/>\n",
              "    </g>\n",
              "</svg>\n",
              "  </button>\n",
              "\n",
              "<style>\n",
              "  .colab-df-quickchart {\n",
              "      --bg-color: #E8F0FE;\n",
              "      --fill-color: #1967D2;\n",
              "      --hover-bg-color: #E2EBFA;\n",
              "      --hover-fill-color: #174EA6;\n",
              "      --disabled-fill-color: #AAA;\n",
              "      --disabled-bg-color: #DDD;\n",
              "  }\n",
              "\n",
              "  [theme=dark] .colab-df-quickchart {\n",
              "      --bg-color: #3B4455;\n",
              "      --fill-color: #D2E3FC;\n",
              "      --hover-bg-color: #434B5C;\n",
              "      --hover-fill-color: #FFFFFF;\n",
              "      --disabled-bg-color: #3B4455;\n",
              "      --disabled-fill-color: #666;\n",
              "  }\n",
              "\n",
              "  .colab-df-quickchart {\n",
              "    background-color: var(--bg-color);\n",
              "    border: none;\n",
              "    border-radius: 50%;\n",
              "    cursor: pointer;\n",
              "    display: none;\n",
              "    fill: var(--fill-color);\n",
              "    height: 32px;\n",
              "    padding: 0;\n",
              "    width: 32px;\n",
              "  }\n",
              "\n",
              "  .colab-df-quickchart:hover {\n",
              "    background-color: var(--hover-bg-color);\n",
              "    box-shadow: 0 1px 2px rgba(60, 64, 67, 0.3), 0 1px 3px 1px rgba(60, 64, 67, 0.15);\n",
              "    fill: var(--button-hover-fill-color);\n",
              "  }\n",
              "\n",
              "  .colab-df-quickchart-complete:disabled,\n",
              "  .colab-df-quickchart-complete:disabled:hover {\n",
              "    background-color: var(--disabled-bg-color);\n",
              "    fill: var(--disabled-fill-color);\n",
              "    box-shadow: none;\n",
              "  }\n",
              "\n",
              "  .colab-df-spinner {\n",
              "    border: 2px solid var(--fill-color);\n",
              "    border-color: transparent;\n",
              "    border-bottom-color: var(--fill-color);\n",
              "    animation:\n",
              "      spin 1s steps(1) infinite;\n",
              "  }\n",
              "\n",
              "  @keyframes spin {\n",
              "    0% {\n",
              "      border-color: transparent;\n",
              "      border-bottom-color: var(--fill-color);\n",
              "      border-left-color: var(--fill-color);\n",
              "    }\n",
              "    20% {\n",
              "      border-color: transparent;\n",
              "      border-left-color: var(--fill-color);\n",
              "      border-top-color: var(--fill-color);\n",
              "    }\n",
              "    30% {\n",
              "      border-color: transparent;\n",
              "      border-left-color: var(--fill-color);\n",
              "      border-top-color: var(--fill-color);\n",
              "      border-right-color: var(--fill-color);\n",
              "    }\n",
              "    40% {\n",
              "      border-color: transparent;\n",
              "      border-right-color: var(--fill-color);\n",
              "      border-top-color: var(--fill-color);\n",
              "    }\n",
              "    60% {\n",
              "      border-color: transparent;\n",
              "      border-right-color: var(--fill-color);\n",
              "    }\n",
              "    80% {\n",
              "      border-color: transparent;\n",
              "      border-right-color: var(--fill-color);\n",
              "      border-bottom-color: var(--fill-color);\n",
              "    }\n",
              "    90% {\n",
              "      border-color: transparent;\n",
              "      border-bottom-color: var(--fill-color);\n",
              "    }\n",
              "  }\n",
              "</style>\n",
              "\n",
              "  <script>\n",
              "    async function quickchart(key) {\n",
              "      const quickchartButtonEl =\n",
              "        document.querySelector('#' + key + ' button');\n",
              "      quickchartButtonEl.disabled = true;  // To prevent multiple clicks.\n",
              "      quickchartButtonEl.classList.add('colab-df-spinner');\n",
              "      try {\n",
              "        const charts = await google.colab.kernel.invokeFunction(\n",
              "            'suggestCharts', [key], {});\n",
              "      } catch (error) {\n",
              "        console.error('Error during call to suggestCharts:', error);\n",
              "      }\n",
              "      quickchartButtonEl.classList.remove('colab-df-spinner');\n",
              "      quickchartButtonEl.classList.add('colab-df-quickchart-complete');\n",
              "    }\n",
              "    (() => {\n",
              "      let quickchartButtonEl =\n",
              "        document.querySelector('#df-560b3d33-c187-43d7-aa48-3a41c4c2ef8b button');\n",
              "      quickchartButtonEl.style.display =\n",
              "        google.colab.kernel.accessAllowed ? 'block' : 'none';\n",
              "    })();\n",
              "  </script>\n",
              "</div>\n",
              "\n",
              "    </div>\n",
              "  </div>\n"
            ],
            "application/vnd.google.colaboratory.intrinsic+json": {
              "type": "dataframe",
              "variable_name": "df",
              "summary": "{\n  \"name\": \"df\",\n  \"rows\": 14438,\n  \"fields\": [\n    {\n      \"column\": \"label\",\n      \"properties\": {\n        \"dtype\": \"number\",\n        \"std\": 1,\n        \"min\": 1,\n        \"max\": 5,\n        \"num_unique_values\": 5,\n        \"samples\": [\n          1,\n          4,\n          2\n        ],\n        \"semantic_type\": \"\",\n        \"description\": \"\"\n      }\n    },\n    {\n      \"column\": \"text\",\n      \"properties\": {\n        \"dtype\": \"string\",\n        \"num_unique_values\": 11226,\n        \"samples\": [\n          \"observer reliability detecting surreptitious random occlusions monaural esophageal stethoscope esophageal stethoscope used often anesthesia monitor ventilation cardiac function deficiencies observer vigilance may limit effectiveness monitoring instrument aim study determine long took observer detect surreptitiously occluded monaural esophageal stethoscope setting clinical anesthesia routine anesthesia esophageal stethoscope use computer guided device would artificially silently random time intervals occlude stethoscope tubing personnel using stethoscope noted perceived absence stethoscope sounds studied stethoscope occlusions patients time stethoscope occlusion detection seconds mean sd eighty seven percent detections made less seconds however detections delayed seconds seconds anesthesia personnel using esophageal stethoscope could detect stethoscope occlusions failure appreciate episodes occurred small significant number cases suggests esophageal stethoscope definite limitations continuous monitor monitoring techniques oximetry capnography ventilator disconnect alarms well visual tactile inspection patient used well\",\n          \"leukemias indeterminant lineage two biologically clinically important forms acute leukemia described evidence suggests undifferentiated acute leukemia many types hybrid leukemia arise relatively fewer differentiated cells straightforward acute leukemias clinical correlations suggest patients leukemias may poorer prognosis although findings may associated improved prognosis data multiple techniques applied leukemic cells clearly needed patients certain types hybrid leukemias may suitable candidates aggressive forms chemotherapy possibly combinations therapy directed cells lineages\",\n          \"diffuse sclerosing variant papillary carcinoma thyroid clinical importance surgical treatment follow study diffuse sclerosing variant rare among papillary carcinomas thyroid patients female younger years age variant characterized diffuse involvement one thyroid lobes dense sclerosis patchy lymphocytic infiltration abundant psammoma bodies controversy still exists concerning prognosis reviewed experience patients treated patients young females age years mean hashimotos thyroiditis suspected nine patients came clinic nowadays diagnosis cancer possible entity mind detect abundant psammoma bodies either ultrasonography soft tissue roentgenography neck total thyroidectomy modified neck dissection carried eight patients subtotal thyroidectomy neck dissection five lobectomy neck dissection one alive well without distant metastasis mean follow years patients variant papillary carcinoma young women prognosis favorable complete resection without causing later recurrence also cosmetic complication free surgery considered\"\n        ],\n        \"semantic_type\": \"\",\n        \"description\": \"\"\n      }\n    },\n    {\n      \"column\": \"label_str\",\n      \"properties\": {\n        \"dtype\": \"category\",\n        \"num_unique_values\": 5,\n        \"samples\": [\n          \"neoplasms\",\n          \"cardiovascular\",\n          \"digestive\"\n        ],\n        \"semantic_type\": \"\",\n        \"description\": \"\"\n      }\n    },\n    {\n      \"column\": \"tokenized_text\",\n      \"properties\": {\n        \"dtype\": \"string\",\n        \"num_unique_values\": 11226,\n        \"samples\": [\n          \"['observer', 'reliability', 'detecting', 'surreptitious', 'random', 'occlusions', 'monaural', 'esophageal', 'stethoscope', 'esophageal', 'stethoscope', 'used', 'often', 'anesthesia', 'monitor', 'ventilation', 'cardiac', 'function', 'deficiencies', 'observer', 'vigilance', 'may', 'limit', 'effectiveness', 'monitoring', 'instrument', 'aim', 'study', 'determine', 'long', 'took', 'observer', 'detect', 'surreptitiously', 'occluded', 'monaural', 'esophageal', 'stethoscope', 'setting', 'clinical', 'anesthesia', 'routine', 'anesthesia', 'esophageal', 'stethoscope', 'use', 'computer', 'guided', 'device', 'would', 'artificially', 'silently', 'random', 'time', 'intervals', 'occlude', 'stethoscope', 'tubing', 'personnel', 'using', 'stethoscope', 'noted', 'perceived', 'absence', 'stethoscope', 'sounds', 'studied', 'stethoscope', 'occlusions', 'patients', 'time', 'stethoscope', 'occlusion', 'detection', 'seconds', 'mean', 'sd', 'eighty', 'seven', 'percent', 'detections', 'made', 'less', 'seconds', 'however', 'detections', 'delayed', 'seconds', 'seconds', 'anesthesia', 'personnel', 'using', 'esophageal', 'stethoscope', 'could', 'detect', 'stethoscope', 'occlusions', 'failure', 'appreciate', 'episodes', 'occurred', 'small', 'significant', 'number', 'cases', 'suggests', 'esophageal', 'stethoscope', 'definite', 'limitations', 'continuous', 'monitor', 'monitoring', 'techniques', 'oximetry', 'capnography', 'ventilator', 'disconnect', 'alarms', 'well', 'visual', 'tactile', 'inspection', 'patient', 'used', 'well']\",\n          \"['leukemias', 'indeterminant', 'lineage', 'two', 'biologically', 'clinically', 'important', 'forms', 'acute', 'leukemia', 'described', 'evidence', 'suggests', 'undifferentiated', 'acute', 'leukemia', 'many', 'types', 'hybrid', 'leukemia', 'arise', 'relatively', 'fewer', 'differentiated', 'cells', 'straightforward', 'acute', 'leukemias', 'clinical', 'correlations', 'suggest', 'patients', 'leukemias', 'may', 'poorer', 'prognosis', 'although', 'findings', 'may', 'associated', 'improved', 'prognosis', 'data', 'multiple', 'techniques', 'applied', 'leukemic', 'cells', 'clearly', 'needed', 'patients', 'certain', 'types', 'hybrid', 'leukemias', 'may', 'suitable', 'candidates', 'aggressive', 'forms', 'chemotherapy', 'possibly', 'combinations', 'therapy', 'directed', 'cells', 'lineages']\",\n          \"['diffuse', 'sclerosing', 'variant', 'papillary', 'carcinoma', 'thyroid', 'clinical', 'importance', 'surgical', 'treatment', 'follow', 'study', 'diffuse', 'sclerosing', 'variant', 'rare', 'among', 'papillary', 'carcinomas', 'thyroid', 'patients', 'female', 'younger', 'years', 'age', 'variant', 'characterized', 'diffuse', 'involvement', 'one', 'thyroid', 'lobes', 'dense', 'sclerosis', 'patchy', 'lymphocytic', 'infiltration', 'abundant', 'psammoma', 'bodies', 'controversy', 'still', 'exists', 'concerning', 'prognosis', 'reviewed', 'experience', 'patients', 'treated', 'patients', 'young', 'females', 'age', 'years', 'mean', 'hashimotos', 'thyroiditis', 'suspected', 'nine', 'patients', 'came', 'clinic', 'nowadays', 'diagnosis', 'cancer', 'possible', 'entity', 'mind', 'detect', 'abundant', 'psammoma', 'bodies', 'either', 'ultrasonography', 'soft', 'tissue', 'roentgenography', 'neck', 'total', 'thyroidectomy', 'modified', 'neck', 'dissection', 'carried', 'eight', 'patients', 'subtotal', 'thyroidectomy', 'neck', 'dissection', 'five', 'lobectomy', 'neck', 'dissection', 'one', 'alive', 'well', 'without', 'distant', 'metastasis', 'mean', 'follow', 'years', 'patients', 'variant', 'papillary', 'carcinoma', 'young', 'women', 'prognosis', 'favorable', 'complete', 'resection', 'without', 'causing', 'later', 'recurrence', 'also', 'cosmetic', 'complication', 'free', 'surgery', 'considered']\"\n        ],\n        \"semantic_type\": \"\",\n        \"description\": \"\"\n      }\n    },\n    {\n      \"column\": \"word_vector\",\n      \"properties\": {\n        \"dtype\": \"string\",\n        \"num_unique_values\": 12214,\n        \"samples\": [\n          \"[-0.64988583 -0.39864978  0.47359952  0.72813743 -0.00821098 -0.6700075\\n  0.48260975  0.14824693  0.07517006 -0.14887245  0.01868424  0.01263542\\n -0.6610817  -0.27445853  0.08645783  0.18102655  0.24890603 -1.6941887\\n -0.75044817 -1.0590388   0.50050026  0.28919673  0.5402125   0.29524732\\n  0.13654165  0.45921355 -0.06176507 -0.49463883 -0.2670581   0.6293459\\n  0.10164776 -0.07768618  0.23512678  0.01316208  0.01009888  1.0229635\\n  0.30036908 -0.38980275 -0.9822212  -0.69141024 -0.22569945 -0.15916006\\n  0.3540628  -0.25200033  0.24661762 -0.26434806 -0.4383832  -0.1960042\\n -0.3504101   0.33284703 -0.18727021 -0.35256445 -0.782375   -0.20242798\\n -0.46784738 -0.21986623  0.41093192  0.43111795 -0.11438656  0.08620681\\n -0.12627946 -0.29363626  0.09942852 -0.13836306 -0.58961856 -0.46436587\\n  0.70982605  0.78677857 -0.76453525 -0.06995367  0.43008775  0.4201296\\n  0.08981303 -0.08061471  0.55482745  0.17772993 -0.3385783   0.30677664\\n -0.7242129   0.42490396 -0.62202424 -0.24880706  0.25118572  0.70057756\\n  0.06200625  0.03333226  0.60115004  0.5447656   0.03915653  0.20377703\\n  0.6164998   0.10672293  0.19208881  0.13345422  0.708848    0.6626748\\n  0.04567767  0.12474465 -0.0866109  -0.2347656 ]\",\n          \"[-0.07234765 -0.20545416  0.33306554  0.20782569  0.11344836 -0.3293104\\n  0.43207544  0.84996843 -0.3332591  -0.30074865  0.28506434 -0.7430602\\n -0.38222274  0.35577187 -0.20903835  0.20116986  0.6718585  -1.0941566\\n  0.2133295  -1.3449997   0.38086203  0.35100743  0.8880978  -0.11411288\\n -0.29137328  0.10217024 -0.03964194  0.05487248 -0.10110396  0.1510298\\n  0.48157176  0.2407155  -0.08921032  0.15145452  0.00668205  0.09596384\\n  0.07021692 -0.24860284 -0.19041292 -0.38748413  0.24395235 -0.4733688\\n  0.1817478  -0.00885811 -0.29572344  0.08522972 -0.15699089 -0.4057358\\n -0.5213006   0.44330904 -0.0583589   0.04951316 -0.37859106  0.43419543\\n -0.39419883 -0.01072579  1.1964521   0.0540143  -0.16443112  0.07053176\\n -0.19666266 -0.45773387 -0.57071984 -0.16125709 -0.91537815  0.089516\\n  0.59780604 -0.26285288 -0.46854672 -0.35506937  0.18570004 -0.08598233\\n  0.45337412 -0.6734163   0.78248894 -0.39628938  0.52436215  0.22226854\\n -0.32460922  0.11436071 -0.7588845  -0.03235711  0.6001329   0.46834475\\n -0.06241339  0.2831592  -0.22599961  0.32755885  0.17464344  0.08919914\\n  0.7102069   0.30529934  0.06647179 -0.287135    0.2207356   0.70688444\\n  0.5204897  -0.40259692  0.2620497   0.22036019]\",\n          \"[-0.40913096 -0.5122789   0.05012226  0.58678216 -0.10655326 -0.71953\\n  0.03569403  0.28336757  0.01609465  0.11012214 -0.22900274 -0.41695735\\n -0.5722587   0.07537     0.08946448 -0.14673772 -0.12080281 -1.4205985\\n -0.35353905 -0.5551267   0.39875257  0.38751656  0.2263448   0.22159584\\n  0.21969263 -0.13729441  0.17935231 -0.26203415 -0.47306585  0.17836748\\n  0.20755494 -0.01118178  0.23609184  0.22489855 -0.10954916  0.84821045\\n  0.12639207 -0.508585   -0.673728   -0.6444754  -0.25318122  0.02169509\\n -0.17327233 -0.4311646   0.15079586 -0.1390949  -0.27145743 -0.01036642\\n  0.15095632  0.45419887 -0.36976898 -0.37985432 -0.27562076  0.08346146\\n -0.38650325  0.05860554 -0.23907095  0.02816256 -0.3764798   0.32476225\\n  0.07759972  0.3187484   0.24014603 -0.20992248 -0.28017312 -0.29788232\\n  0.13681306  0.5029692  -0.6686694   0.15130848  0.05638737  0.24212955\\n -0.05686216 -0.09984346  0.2949783   0.24873033 -0.346279   -0.18332206\\n -0.37966302  0.21941638  0.08725697 -0.14900056 -0.3120946   0.43933275\\n -0.24662308 -0.01536376  0.35645646  0.32579154  0.05376525  0.2242607\\n  0.21351248  0.13510977 -0.28538755  0.33801132  0.59876144  0.39700362\\n -0.19826207 -0.27717507  0.42483535 -0.00721432]\"\n        ],\n        \"semantic_type\": \"\",\n        \"description\": \"\"\n      }\n    },\n    {\n      \"column\": \"doc_vector\",\n      \"properties\": {\n        \"dtype\": \"string\",\n        \"num_unique_values\": 14438,\n        \"samples\": [\n          \"[ 0.29618248  0.54947406  0.13904463 -0.06637598 -0.13292128 -0.10427504\\n  0.27032143  0.07165145  0.1209941  -0.31884128 -0.22406414 -0.44920236\\n  0.12381132 -0.35895053 -0.18360095  0.03101868  0.40537408 -0.19474305\\n  0.3227976  -0.24075809  0.248625    0.43224108 -0.27891406  0.2157343\\n  0.0234723   0.17010687 -0.24002483 -0.00752744 -0.3590747  -0.16222708\\n  0.6424677  -0.04800128  0.01720226  0.156504    0.03957968 -0.4072095\\n  0.16881986 -0.02733153  0.18615976 -0.23362048  0.01607136  0.09341066\\n -0.05530951 -0.20040788 -0.27216613  0.11318847  0.05087317  0.22386202\\n -0.18393521  0.16303585 -0.24999186 -0.29753628  0.09107292 -0.12296196\\n -0.00225803 -0.21919933 -0.00846074 -0.38943288 -0.03439691  0.06635528\\n  0.194627    0.17941529 -0.07793787 -0.07487921 -0.19133087  0.27641994\\n -0.0163258  -0.03242408 -0.09737989 -0.1773181  -0.15223391  0.17301016\\n  0.2481461  -0.10789061  0.14865863 -0.11311075 -0.17187098  0.14123249\\n -0.19375414 -0.03632791 -0.22283252 -0.19822179  0.0072151   0.46478555\\n  0.21852076  0.22100616  0.16750646 -0.2078453   0.07997099 -0.3741142\\n -0.01808776  0.10851713  0.24862285  0.15914522  0.12582949  0.45205662\\n  0.00802748  0.11437132 -0.03150532  0.03461101]\",\n          \"[ 0.12711143  0.12033882  0.6279943  -0.3448108  -0.23226099 -0.28870466\\n -0.04560287  0.22395228 -0.54568714 -0.2187458  -0.01115236 -0.13720633\\n -0.1327313   0.08028342  0.05135376  0.11290879  0.2977471   0.16264378\\n  0.05092634 -0.6638342  -0.15924968  0.14378282  0.7290399   0.12414104\\n -0.12924358  0.27609217 -0.199206   -0.01515284 -0.27034384  0.18614283\\n  0.20311433  0.10886952  0.31844732  0.13692608  0.15199144  0.21166492\\n -0.11211918 -0.1809771  -0.08608955 -0.00074042  0.11780248 -0.02017751\\n -0.24738249  0.06163719 -0.0364579  -0.3404965  -0.06934749 -0.34664568\\n -0.0547065   0.3276501   0.01614356 -0.07412487 -0.05050793 -0.01130366\\n -0.00348551 -0.15930678  0.10093001 -0.22722621 -0.11601558  0.00085568\\n  0.2196982   0.14197408  0.01903424  0.10041884 -0.36894673  0.42507407\\n  0.19392611 -0.40547705 -0.15520048 -0.13754451 -0.04829647 -0.06339941\\n  0.2771312   0.2347413   0.43440673  0.00994166  0.057004   -0.31094816\\n -0.28488556  0.14945075  0.13909926  0.03702462  0.23075901  0.3543027\\n -0.0282438   0.11717283 -0.03496718  0.20615722  0.06623662 -0.07989547\\n  0.54870677 -0.05082481 -0.11680787  0.12247629  0.43111396 -0.11277428\\n  0.20669216 -0.11211208  0.13852711  0.19902721]\",\n          \"[-0.05312107  0.00414881 -0.36294144  0.22904663 -0.02500909 -0.12634611\\n -0.30535284  0.64265186 -0.4007948   0.14801894 -0.5244917  -0.1907353\\n -0.22866727  0.22470748 -0.19875081 -0.11013592 -0.01865971 -0.06281951\\n  0.06364534 -0.68841404 -0.25198856 -0.0801422  -0.04332244 -0.05009166\\n  0.04838882 -0.05491598  0.2526217  -0.18469727 -0.6182173   0.13859865\\n  0.7137376  -0.28088897  0.01509036 -0.01627607 -0.25272653  0.6709176\\n  0.5704207  -0.08762654  0.1767932  -0.20985928 -0.14516743 -0.26742944\\n -0.11439435 -0.28807515  0.00235093 -0.24742462  0.07058536 -0.21762714\\n  0.20754112  0.311008   -0.19057326 -0.394057   -0.25246823 -0.12686825\\n -0.05204146 -0.18011455  0.34893557 -0.28151482 -0.39822927 -0.06760122\\n -0.05406932  0.20624247  0.01551199  0.08192361  0.07918979  0.10708309\\n  0.07482021 -0.00401293  0.00499875 -0.1971543  -0.2110251  -0.07962962\\n -0.05078172  0.2314369   0.0587101   0.12788941  0.40476158 -0.12011202\\n -0.2057569   0.04080946  0.37601426 -0.22407296 -0.36049598 -0.05100733\\n -0.07594257  0.07352411 -0.11406858  0.07237832  0.29673642  0.00911043\\n -0.09778912 -0.14665006 -0.14283155  0.31326914  0.56940377  0.27897477\\n -0.10936335 -0.67446005 -0.03738692  0.19218998]\"\n        ],\n        \"semantic_type\": \"\",\n        \"description\": \"\"\n      }\n    }\n  ]\n}"
            }
          },
          "metadata": {},
          "execution_count": 6
        }
      ]
    },
    {
      "cell_type": "code",
      "source": [
        "import xgboost as xgb\n",
        "from sklearn.feature_extraction.text import TfidfVectorizer\n",
        "from sklearn.model_selection import train_test_split\n",
        "from sklearn.metrics import accuracy_score\n",
        "\n",
        "# text data and labels\n",
        "texts = df['text']\n",
        "labels = df['label']\n",
        "\n",
        "labels = labels - 1\n",
        "\n",
        "# split into train and test sets\n",
        "texts_train, texts_test, labels_train, labels_test = train_test_split(texts, labels, test_size=0.2, random_state=42)\n",
        "\n",
        "# convert text data into numerical features using TF-IDF\n",
        "vectorizer = TfidfVectorizer()\n",
        "X_train = vectorizer.fit_transform(texts_train)\n",
        "X_test = vectorizer.transform(texts_test)\n",
        "\n",
        "# train the XGBoost model\n",
        "model = xgb.XGBClassifier(n_jobs=-1)\n",
        "model.fit(X_train, labels_train)\n",
        "\n",
        "# make predictions on the test set\n",
        "predictions = model.predict(X_test)\n",
        "\n",
        "# evaluate the model performance\n",
        "accuracy = accuracy_score(labels_test, predictions)\n",
        "print(\"Accuracy: {:.2f}%\".format(accuracy * 100))"
      ],
      "metadata": {
        "colab": {
          "base_uri": "https://localhost:8080/"
        },
        "id": "Ib6HPCL1wUBF",
        "outputId": "1d64f8ab-8470-4e5f-ce20-11f0503cd1ac"
      },
      "execution_count": null,
      "outputs": [
        {
          "output_type": "stream",
          "name": "stdout",
          "text": [
            "Accuracy: 49.13%\n"
          ]
        }
      ]
    },
    {
      "cell_type": "code",
      "source": [
        "from sklearn.model_selection import GridSearchCV\n",
        "\n",
        "parameters = {\n",
        "    'max_depth': [3, 5, 7],\n",
        "    'learning_rate': [0.01, 0.1, 0.2]\n",
        "}\n",
        "\n",
        "grid_search = GridSearchCV(xgb.XGBClassifier(n_jobs=-1), parameters, cv=3, scoring='accuracy')\n",
        "grid_search.fit(X_train, labels_train)\n",
        "print(\"Best parameters:\", grid_search.best_params_)\n"
      ],
      "metadata": {
        "colab": {
          "base_uri": "https://localhost:8080/"
        },
        "id": "5Xyt4uZniAjR",
        "outputId": "00f084fa-36ea-4e4e-af23-ed06c2a52cef"
      },
      "execution_count": null,
      "outputs": [
        {
          "output_type": "stream",
          "name": "stdout",
          "text": [
            "Best parameters: {'learning_rate': 0.2, 'max_depth': 3}\n"
          ]
        }
      ]
    },
    {
      "cell_type": "markdown",
      "source": [
        "## NB"
      ],
      "metadata": {
        "id": "wm0nh1KiyLxN"
      }
    },
    {
      "cell_type": "code",
      "source": [
        "import numpy as np\n",
        "\n",
        "if isinstance(df['doc_vector'].iloc[0], np.ndarray):\n",
        "    X = np.stack(df['doc_vector'].values)\n",
        "else:\n",
        "    X = np.array([np.array(vec) for vec in df['doc_vector']])\n",
        "\n",
        "# Ensure X is two-dimensional\n",
        "if X.ndim == 1:\n",
        "    X = X.reshape(-1, 1)\n",
        "\n",
        "print(\"Shape of X:\", X.shape)  #  (n_samples, n_features)\n"
      ],
      "metadata": {
        "colab": {
          "base_uri": "https://localhost:8080/"
        },
        "id": "Kkhuy3JIzRhW",
        "outputId": "c7baa342-b647-4089-eebe-10e120961799"
      },
      "execution_count": 47,
      "outputs": [
        {
          "output_type": "stream",
          "name": "stdout",
          "text": [
            "Shape of X: (14438, 1)\n"
          ]
        }
      ]
    },
    {
      "cell_type": "code",
      "source": [
        "# Print the first document vector to see its contents\n",
        "print(df['doc_vector'].iloc[0])\n",
        "\n",
        "# Check the type and length of the first document vector\n",
        "print(type(df['doc_vector'].iloc[0]))\n",
        "print(len(df['doc_vector'].iloc[0]))\n"
      ],
      "metadata": {
        "colab": {
          "base_uri": "https://localhost:8080/"
        },
        "id": "V7LiUKFLzdAj",
        "outputId": "c51450b8-fc35-46ea-9006-946b34bdc1c5"
      },
      "execution_count": 48,
      "outputs": [
        {
          "output_type": "stream",
          "name": "stdout",
          "text": [
            "[-4.60017860e-01  8.57100934e-02  2.68247008e-01 -5.71715571e-02\n",
            "  1.35846525e-01 -3.58661532e-01 -2.75348267e-03  3.34813958e-03\n",
            " -1.00350320e-01 -1.77536979e-01  2.37339046e-02 -1.91271324e-02\n",
            " -1.97960496e-01 -1.08921185e-01 -2.68634576e-02 -9.91437957e-02\n",
            "  2.78562456e-02 -4.31421816e-01 -3.19513530e-02 -2.60830998e-01\n",
            "  2.93511134e-02  9.45286453e-02 -3.12892050e-02  2.18811423e-01\n",
            " -6.65868223e-02  2.67233640e-01  8.53709951e-02 -1.02302238e-01\n",
            " -1.20329395e-01 -8.96077901e-02  2.89456666e-01  4.79149148e-02\n",
            " -3.57673950e-02  9.47562139e-03  2.11157233e-01  1.80187523e-01\n",
            " -3.16780321e-02 -1.99381828e-01  7.70340487e-02 -2.44257390e-01\n",
            "  1.07234091e-01 -1.97756261e-01  1.42752826e-01  5.79903251e-04\n",
            " -9.24960524e-03 -1.28767803e-01 -2.13733032e-01  4.23730761e-02\n",
            " -2.60556433e-02  7.91492239e-02 -5.34485318e-02 -5.68576977e-02\n",
            " -3.60285081e-02  8.87881070e-02 -1.47176623e-01 -1.00596510e-01\n",
            "  7.89248943e-02  1.64050400e-01 -1.19142547e-01  1.82021618e-01\n",
            "  6.69809058e-02 -1.06300965e-01 -6.57024309e-02  5.60604148e-02\n",
            " -3.42198461e-01  1.14938743e-01 -1.75737012e-02 -3.07381321e-02\n",
            " -3.44457150e-01  6.18804013e-03 -6.89397827e-02 -6.89374655e-02\n",
            "  7.02334568e-02 -6.73976121e-03  6.52853101e-02 -2.85689756e-02\n",
            " -1.11530155e-01  2.91458983e-02 -3.58817160e-01 -9.66916233e-02\n",
            " -9.66017395e-02 -1.92522496e-01  3.82579327e-01  1.43587530e-01\n",
            " -4.00246270e-02  3.07690173e-01  1.36075824e-01  1.82153001e-01\n",
            "  2.50380009e-01 -1.71140581e-02  1.31625473e-01  1.57614216e-01\n",
            " -3.82990763e-02 -6.21479191e-02  2.33831406e-01  2.41510659e-01\n",
            " -1.79052740e-01 -1.11649380e-04  1.05793737e-01 -1.13907076e-01]\n",
            "<class 'str'>\n",
            "1625\n"
          ]
        }
      ]
    },
    {
      "cell_type": "code",
      "source": [
        "X_word_vec.shape"
      ],
      "metadata": {
        "colab": {
          "base_uri": "https://localhost:8080/"
        },
        "id": "SWOIs6q_0x5w",
        "outputId": "09a45d2c-6dc1-42fe-b044-cf6e0045ba42"
      },
      "execution_count": 54,
      "outputs": [
        {
          "output_type": "execute_result",
          "data": {
            "text/plain": [
              "(14438,)"
            ]
          },
          "metadata": {},
          "execution_count": 54
        }
      ]
    },
    {
      "cell_type": "code",
      "source": [
        "import numpy as np\n",
        "from sklearn.model_selection import train_test_split\n",
        "from sklearn.metrics import accuracy_score\n",
        "from sklearn.naive_bayes import GaussianNB  # Using GaussianNB because vectors are continuous\n",
        "\n",
        "# if isinstance(df['doc_vector'].iloc[0], list):\n",
        "#     df['doc_vector'] = df['doc_vector'].apply(np.array)\n",
        "\n",
        "# X = np.stack(df['doc_vector'])\n",
        "# labels = df['label'] - 1\n",
        "\n",
        "# Split into train and test sets\n",
        "X_train, X_test, labels_train, labels_test = train_test_split(X_doc_vec, labels, test_size=0.2, random_state=42)\n",
        "\n",
        "# Using Gaussian Naive Bayes for continuous features\n",
        "clf = GaussianNB()\n",
        "clf.fit(X_train, labels_train)\n",
        "labels_pred = clf.predict(X_test)\n",
        "accuracy = accuracy_score(labels_test, labels_pred)\n",
        "print(f\"Accuracy with Doc2Vec: {accuracy}\")\n"
      ],
      "metadata": {
        "colab": {
          "base_uri": "https://localhost:8080/",
          "height": 1000
        },
        "id": "pQcbfTPpy92-",
        "outputId": "e6f554f7-129b-446a-dc35-93fc92e3e0ba"
      },
      "execution_count": 53,
      "outputs": [
        {
          "output_type": "error",
          "ename": "ValueError",
          "evalue": "Expected 2D array, got 1D array instead:\narray=['[ 0.05074997 -0.14767276  0.26096857 -0.2264208  -0.10184981 -0.1586298\\n  0.25368267  0.2588118  -0.2674932  -0.23498446  0.00722656 -0.28241152\\n -0.47195038 -0.17192    -0.1534517  -0.05381459  0.24813157 -0.25696555\\n  0.02748435 -0.54109323 -0.14625205  0.18226342  0.29901633  0.28128284\\n -0.01727359  0.07601625  0.27040476  0.02174883 -0.19808088  0.05581201\\n -0.1259698   0.09740011 -0.14125979 -0.07643371  0.03825907 -0.11314251\\n -0.05602325 -0.2925168   0.11113138 -0.01365038  0.0622503  -0.04078443\\n  0.19910419  0.09214031  0.11393238 -0.15275022 -0.12526442 -0.00995722\\n -0.16314185  0.20563188 -0.10107744  0.22301179 -0.11139685 -0.10480183\\n  0.0613134  -0.02448421  0.04081099 -0.06561599  0.06399746  0.3012396\\n  0.02568728 -0.17122148 -0.11983866 -0.14602298 -0.32474974  0.09155659\\n  0.16596901 -0.03814676 -0.01307526 -0.19504592  0.05178401  0.07326217\\n  0.20578907 -0.18401769  0.23955569  0.18851034  0.34206787 -0.14978978\\n -0.17475045  0.04277829 -0.1396745   0.13867018  0.1462572   0.07714903\\n  0.07097194  0.14940296 -0.07022908  0.23035154  0.08135571  0.17846581\\n  0.32198617  0.0819445  -0.13294274  0.04904745  0.47524124  0.08207286\\n  0.22792862 -0.1295743  -0.03850533  0.00778205]'\n '[ 0.02905266  0.10419985  0.05420069 -0.09822991 -0.06039133 -0.25596425\\n  0.10041346  0.3588229  -0.12243696 -0.0544883  -0.16501172 -0.260161\\n  0.01287161  0.05090076 -0.16360383 -0.22864662  0.35892704 -0.26994282\\n  0.02064096 -0.12841639  0.09025083  0.12656957 -0.01342742 -0.00079931\\n -0.24013208 -0.00355176 -0.05356104 -0.06706296 -0.13451473 -0.01954658\\n  0.17520694  0.05501365 -0.20436801  0.14886019 -0.04101271  0.27751896\\n -0.03611879 -0.17104553 -0.0827995  -0.15917368  0.11775256  0.12048969\\n  0.03027567 -0.22526239  0.04527505  0.01573483 -0.23648784 -0.00590546\\n -0.0829755   0.07607973 -0.03604528 -0.03347798 -0.08944963  0.01259979\\n -0.16540566  0.0311269  -0.07590539  0.00929498 -0.11691349 -0.02302365\\n -0.01229574  0.0612215  -0.17604469 -0.08571003  0.07565343  0.16987452\\n  0.10827934  0.15167843 -0.14026414  0.04093381 -0.03950407  0.03924954\\n  0.12725091 -0.08577868  0.01713757  0.06925672  0.08510144 -0.05954417\\n -0.11955948  0.09078885 -0.2382691   0.05098469  0.04297071  0.38637462\\n -0.08080932 -0.00067459  0.0571936   0.13523571  0.10640737  0.04455409\\n  0.12270972  0.07918639  0.0658592   0.2129842   0.19947007  0.14533865\\n -0.02705489  0.05545777 -0.00516978  0.08328314]'\n '[-0.00184342  0.07682753 -0.04403769 -0.03299145  0.06642967 -0.03775458\\n -0.09172948  0.1316448  -0.1959923   0.08034753 -0.21431258 -0.21021715\\n -0.11913867  0.02307655 -0.13994578 -0.15883309  0.15722752 -0.09813318\\n  0.08956243 -0.04224576  0.11158669  0.02507987 -0.05384455 -0.07307472\\n  0.0016532   0.03003928  0.09065399 -0.1004805  -0.08608026  0.00224786\\n  0.15059125 -0.05727639  0.02275564  0.178438    0.06600848  0.10996731\\n  0.23015387 -0.17948702 -0.1236343  -0.07877681 -0.03533604 -0.08428578\\n  0.04990663 -0.17240916 -0.17774574 -0.06579979 -0.05734013  0.1365828\\n  0.05274823  0.03046697 -0.2070734  -0.24080157 -0.03885721 -0.09158559\\n  0.05577639 -0.10828982  0.05570805 -0.03438009  0.2281452   0.05298734\\n  0.0098244  -0.05336611 -0.02385661  0.01338687 -0.08565623 -0.13903391\\n -0.03313754  0.00876073 -0.14633644 -0.07890502  0.0654462  -0.12070417\\n -0.09603124 -0.09233177 -0.26606044  0.0537969  -0.08280735  0.00896144\\n  0.01068306  0.0077868  -0.14492807 -0.12213048 -0.15816133  0.22608334\\n -0.04053355  0.14793117  0.13822193  0.03051516  0.03216575  0.1423805\\n  0.00385968  0.04813598 -0.10976435  0.25838047  0.2883241   0.0855516\\n -0.010806    0.03778811 -0.02839387  0.03671562]'\n ...\n '[-0.04635765 -0.01974887  0.1132995   0.35003695 -0.27744773 -0.470371\\n -0.0747568  -0.10189505  0.01313904 -0.20903891 -0.22534522  0.03832562\\n -0.04283056 -0.04735664  0.14393789 -0.18857136  0.25774956  0.03316977\\n  0.32956016 -0.3490203   0.05752704  0.01687339  0.26854336 -0.00830767\\n  0.17678697  0.22571686 -0.45134476 -0.20668186 -0.2308156  -0.05449278\\n  0.20202935  0.1315477   0.05524918 -0.09601566 -0.20598736  0.17092954\\n -0.29959744  0.11385596 -0.11770359 -0.3769751   0.2569423   0.22324291\\n -0.07422032 -0.20313273  0.07067428  0.07934821 -0.05941958  0.10749795\\n  0.13127296  0.06461081  0.29793057  0.24262984 -0.16593821 -0.02191223\\n -0.18109955  0.1866534   0.13816114  0.32825688 -0.1670799  -0.05317961\\n -0.08266378  0.32305595  0.02480941 -0.13376889 -0.10754573 -0.08134131\\n  0.1021114  -0.11169568 -0.1929243   0.01169572 -0.14472109  0.06123595\\n -0.13866249  0.00536928  0.17701016 -0.06978099 -0.08607858 -0.04663779\\n -0.30633056 -0.02128915 -0.04248565 -0.2672123  -0.29052174  0.31996372\\n -0.03841503 -0.07909018  0.12556858 -0.01680851  0.23418595 -0.05091319\\n  0.04866812  0.2717478  -0.14564124  0.2693883   0.30851874 -0.05719088\\n  0.07631299 -0.177528   -0.1316505  -0.02904737]'\n '[-0.0859826  -0.11897627 -0.02020216 -0.12405029 -0.04035911 -0.4128925\\n -0.2905227   0.65379953 -0.5227749   0.08164147 -0.20733857 -0.3081782\\n -0.01041678  0.30403045  0.19282514 -0.5703923   0.08595621  0.1618531\\n  0.0902702  -0.03352203  0.19934772  0.20172699  0.1928134   0.14523345\\n -0.16877054 -0.55853283  0.34413442 -0.11887368 -0.17174369  0.00934622\\n -0.24773028 -0.3331016  -0.28456527 -0.04424671  0.10184886  0.5259371\\n  0.24757317 -0.10171935 -0.15862331  0.07449885 -0.19595134 -0.3767688\\n -0.13677172  0.11572473  0.12504439  0.08375881  0.22788441 -0.27670342\\n -0.29956326 -0.08160674  0.3721271  -0.15546341  0.07606206 -0.35583064\\n  0.12846637  0.13659762  0.05113187  0.1395031  -0.24971308 -0.10681963\\n -0.08146735  0.04839949  0.38852888  0.2720043   0.110049    0.7215912\\n -0.25413743 -0.00932361 -0.40302616  0.15696962 -0.17058289 -0.1121515\\n -0.23183584  0.1927266   0.10784925  0.31424683  0.03095745 -0.35727152\\n -0.06075656  0.34250584  0.3815078   0.48687884 -0.47139898  0.04515869\\n  0.07276262  0.14605694 -0.273931    0.22313556  0.48164326  0.10342523\\n  0.19734484 -0.45967743  0.00517806  0.43641993  0.03243786 -0.06635033\\n -0.02830148 -0.17442307 -0.13512233 -0.22107911]'\n '[ 0.18560201 -0.07038099  0.14184052 -0.09689533 -0.33158448 -0.36602882\\n -0.17443159  0.30971372 -0.4193845  -0.24161285 -0.24099265 -0.39296886\\n -0.3019678   0.19546902  0.04573846  0.40806356  0.14574783 -0.3765931\\n  0.21857843 -0.3381901  -0.05439031  0.07850347  0.6093147   0.03384845\\n  0.08602697  0.33383423 -0.16378427 -0.18326274 -0.11304313 -0.16024792\\n  0.31223735  0.34555158  0.11345211  0.12307917 -0.0850381   0.02327216\\n -0.407252   -0.54294455  0.06274461 -0.1817614  -0.00303042 -0.12751652\\n -0.36850968 -0.3072111  -0.17507571 -0.06887086 -0.18139143 -0.03388661\\n  0.06891908  0.25556818 -0.23072606 -0.35281643 -0.05096501  0.3185775\\n -0.18443261  0.13646838  0.12406291 -0.12916698 -0.3704887   0.12386447\\n -0.0587949   0.21924365  0.05091967  0.12918293  0.09294477  0.14645128\\n  0.14334422  0.1344721  -0.0960048   0.09344538  0.365213    0.18947183\\n  0.10350228  0.05623949  0.2167492  -0.02462362 -0.06577934 -0.29465982\\n  0.04758209 -0.21722934 -0.01713965 -0.39300132 -0.01652469  0.21887156\\n  0.07164889  0.1664251  -0.21511225  0.13219142  0.0918025   0.23731308\\n -0.03508141  0.22771671 -0.28974906  0.03655268  0.00453024  0.14928822\\n  0.21342953 -0.2966712   0.30857843  0.34256768]'].\nReshape your data either using array.reshape(-1, 1) if your data has a single feature or array.reshape(1, -1) if it contains a single sample.",
          "traceback": [
            "\u001b[0;31m---------------------------------------------------------------------------\u001b[0m",
            "\u001b[0;31mValueError\u001b[0m                                Traceback (most recent call last)",
            "\u001b[0;32m<ipython-input-53-358e74a20483>\u001b[0m in \u001b[0;36m<cell line: 19>\u001b[0;34m()\u001b[0m\n\u001b[1;32m     17\u001b[0m \u001b[0;31m# Using Gaussian Naive Bayes for continuous features\u001b[0m\u001b[0;34m\u001b[0m\u001b[0;34m\u001b[0m\u001b[0m\n\u001b[1;32m     18\u001b[0m \u001b[0mclf\u001b[0m \u001b[0;34m=\u001b[0m \u001b[0mGaussianNB\u001b[0m\u001b[0;34m(\u001b[0m\u001b[0;34m)\u001b[0m\u001b[0;34m\u001b[0m\u001b[0;34m\u001b[0m\u001b[0m\n\u001b[0;32m---> 19\u001b[0;31m \u001b[0mclf\u001b[0m\u001b[0;34m.\u001b[0m\u001b[0mfit\u001b[0m\u001b[0;34m(\u001b[0m\u001b[0mX_train\u001b[0m\u001b[0;34m,\u001b[0m \u001b[0mlabels_train\u001b[0m\u001b[0;34m)\u001b[0m\u001b[0;34m\u001b[0m\u001b[0;34m\u001b[0m\u001b[0m\n\u001b[0m\u001b[1;32m     20\u001b[0m \u001b[0mlabels_pred\u001b[0m \u001b[0;34m=\u001b[0m \u001b[0mclf\u001b[0m\u001b[0;34m.\u001b[0m\u001b[0mpredict\u001b[0m\u001b[0;34m(\u001b[0m\u001b[0mX_test\u001b[0m\u001b[0;34m)\u001b[0m\u001b[0;34m\u001b[0m\u001b[0;34m\u001b[0m\u001b[0m\n\u001b[1;32m     21\u001b[0m \u001b[0maccuracy\u001b[0m \u001b[0;34m=\u001b[0m \u001b[0maccuracy_score\u001b[0m\u001b[0;34m(\u001b[0m\u001b[0mlabels_test\u001b[0m\u001b[0;34m,\u001b[0m \u001b[0mlabels_pred\u001b[0m\u001b[0;34m)\u001b[0m\u001b[0;34m\u001b[0m\u001b[0;34m\u001b[0m\u001b[0m\n",
            "\u001b[0;32m/usr/local/lib/python3.10/dist-packages/sklearn/naive_bayes.py\u001b[0m in \u001b[0;36mfit\u001b[0;34m(self, X, y, sample_weight)\u001b[0m\n\u001b[1;32m    265\u001b[0m         \u001b[0mself\u001b[0m\u001b[0;34m.\u001b[0m\u001b[0m_validate_params\u001b[0m\u001b[0;34m(\u001b[0m\u001b[0;34m)\u001b[0m\u001b[0;34m\u001b[0m\u001b[0;34m\u001b[0m\u001b[0m\n\u001b[1;32m    266\u001b[0m         \u001b[0my\u001b[0m \u001b[0;34m=\u001b[0m \u001b[0mself\u001b[0m\u001b[0;34m.\u001b[0m\u001b[0m_validate_data\u001b[0m\u001b[0;34m(\u001b[0m\u001b[0my\u001b[0m\u001b[0;34m=\u001b[0m\u001b[0my\u001b[0m\u001b[0;34m)\u001b[0m\u001b[0;34m\u001b[0m\u001b[0;34m\u001b[0m\u001b[0m\n\u001b[0;32m--> 267\u001b[0;31m         return self._partial_fit(\n\u001b[0m\u001b[1;32m    268\u001b[0m             \u001b[0mX\u001b[0m\u001b[0;34m,\u001b[0m \u001b[0my\u001b[0m\u001b[0;34m,\u001b[0m \u001b[0mnp\u001b[0m\u001b[0;34m.\u001b[0m\u001b[0munique\u001b[0m\u001b[0;34m(\u001b[0m\u001b[0my\u001b[0m\u001b[0;34m)\u001b[0m\u001b[0;34m,\u001b[0m \u001b[0m_refit\u001b[0m\u001b[0;34m=\u001b[0m\u001b[0;32mTrue\u001b[0m\u001b[0;34m,\u001b[0m \u001b[0msample_weight\u001b[0m\u001b[0;34m=\u001b[0m\u001b[0msample_weight\u001b[0m\u001b[0;34m\u001b[0m\u001b[0;34m\u001b[0m\u001b[0m\n\u001b[1;32m    269\u001b[0m         )\n",
            "\u001b[0;32m/usr/local/lib/python3.10/dist-packages/sklearn/naive_bayes.py\u001b[0m in \u001b[0;36m_partial_fit\u001b[0;34m(self, X, y, classes, _refit, sample_weight)\u001b[0m\n\u001b[1;32m    426\u001b[0m \u001b[0;34m\u001b[0m\u001b[0m\n\u001b[1;32m    427\u001b[0m         \u001b[0mfirst_call\u001b[0m \u001b[0;34m=\u001b[0m \u001b[0m_check_partial_fit_first_call\u001b[0m\u001b[0;34m(\u001b[0m\u001b[0mself\u001b[0m\u001b[0;34m,\u001b[0m \u001b[0mclasses\u001b[0m\u001b[0;34m)\u001b[0m\u001b[0;34m\u001b[0m\u001b[0;34m\u001b[0m\u001b[0m\n\u001b[0;32m--> 428\u001b[0;31m         \u001b[0mX\u001b[0m\u001b[0;34m,\u001b[0m \u001b[0my\u001b[0m \u001b[0;34m=\u001b[0m \u001b[0mself\u001b[0m\u001b[0;34m.\u001b[0m\u001b[0m_validate_data\u001b[0m\u001b[0;34m(\u001b[0m\u001b[0mX\u001b[0m\u001b[0;34m,\u001b[0m \u001b[0my\u001b[0m\u001b[0;34m,\u001b[0m \u001b[0mreset\u001b[0m\u001b[0;34m=\u001b[0m\u001b[0mfirst_call\u001b[0m\u001b[0;34m)\u001b[0m\u001b[0;34m\u001b[0m\u001b[0;34m\u001b[0m\u001b[0m\n\u001b[0m\u001b[1;32m    429\u001b[0m         \u001b[0;32mif\u001b[0m \u001b[0msample_weight\u001b[0m \u001b[0;32mis\u001b[0m \u001b[0;32mnot\u001b[0m \u001b[0;32mNone\u001b[0m\u001b[0;34m:\u001b[0m\u001b[0;34m\u001b[0m\u001b[0;34m\u001b[0m\u001b[0m\n\u001b[1;32m    430\u001b[0m             \u001b[0msample_weight\u001b[0m \u001b[0;34m=\u001b[0m \u001b[0m_check_sample_weight\u001b[0m\u001b[0;34m(\u001b[0m\u001b[0msample_weight\u001b[0m\u001b[0;34m,\u001b[0m \u001b[0mX\u001b[0m\u001b[0;34m)\u001b[0m\u001b[0;34m\u001b[0m\u001b[0;34m\u001b[0m\u001b[0m\n",
            "\u001b[0;32m/usr/local/lib/python3.10/dist-packages/sklearn/base.py\u001b[0m in \u001b[0;36m_validate_data\u001b[0;34m(self, X, y, reset, validate_separately, **check_params)\u001b[0m\n\u001b[1;32m    582\u001b[0m                 \u001b[0my\u001b[0m \u001b[0;34m=\u001b[0m \u001b[0mcheck_array\u001b[0m\u001b[0;34m(\u001b[0m\u001b[0my\u001b[0m\u001b[0;34m,\u001b[0m \u001b[0minput_name\u001b[0m\u001b[0;34m=\u001b[0m\u001b[0;34m\"y\"\u001b[0m\u001b[0;34m,\u001b[0m \u001b[0;34m**\u001b[0m\u001b[0mcheck_y_params\u001b[0m\u001b[0;34m)\u001b[0m\u001b[0;34m\u001b[0m\u001b[0;34m\u001b[0m\u001b[0m\n\u001b[1;32m    583\u001b[0m             \u001b[0;32melse\u001b[0m\u001b[0;34m:\u001b[0m\u001b[0;34m\u001b[0m\u001b[0;34m\u001b[0m\u001b[0m\n\u001b[0;32m--> 584\u001b[0;31m                 \u001b[0mX\u001b[0m\u001b[0;34m,\u001b[0m \u001b[0my\u001b[0m \u001b[0;34m=\u001b[0m \u001b[0mcheck_X_y\u001b[0m\u001b[0;34m(\u001b[0m\u001b[0mX\u001b[0m\u001b[0;34m,\u001b[0m \u001b[0my\u001b[0m\u001b[0;34m,\u001b[0m \u001b[0;34m**\u001b[0m\u001b[0mcheck_params\u001b[0m\u001b[0;34m)\u001b[0m\u001b[0;34m\u001b[0m\u001b[0;34m\u001b[0m\u001b[0m\n\u001b[0m\u001b[1;32m    585\u001b[0m             \u001b[0mout\u001b[0m \u001b[0;34m=\u001b[0m \u001b[0mX\u001b[0m\u001b[0;34m,\u001b[0m \u001b[0my\u001b[0m\u001b[0;34m\u001b[0m\u001b[0;34m\u001b[0m\u001b[0m\n\u001b[1;32m    586\u001b[0m \u001b[0;34m\u001b[0m\u001b[0m\n",
            "\u001b[0;32m/usr/local/lib/python3.10/dist-packages/sklearn/utils/validation.py\u001b[0m in \u001b[0;36mcheck_X_y\u001b[0;34m(X, y, accept_sparse, accept_large_sparse, dtype, order, copy, force_all_finite, ensure_2d, allow_nd, multi_output, ensure_min_samples, ensure_min_features, y_numeric, estimator)\u001b[0m\n\u001b[1;32m   1104\u001b[0m         )\n\u001b[1;32m   1105\u001b[0m \u001b[0;34m\u001b[0m\u001b[0m\n\u001b[0;32m-> 1106\u001b[0;31m     X = check_array(\n\u001b[0m\u001b[1;32m   1107\u001b[0m         \u001b[0mX\u001b[0m\u001b[0;34m,\u001b[0m\u001b[0;34m\u001b[0m\u001b[0;34m\u001b[0m\u001b[0m\n\u001b[1;32m   1108\u001b[0m         \u001b[0maccept_sparse\u001b[0m\u001b[0;34m=\u001b[0m\u001b[0maccept_sparse\u001b[0m\u001b[0;34m,\u001b[0m\u001b[0;34m\u001b[0m\u001b[0;34m\u001b[0m\u001b[0m\n",
            "\u001b[0;32m/usr/local/lib/python3.10/dist-packages/sklearn/utils/validation.py\u001b[0m in \u001b[0;36mcheck_array\u001b[0;34m(array, accept_sparse, accept_large_sparse, dtype, order, copy, force_all_finite, ensure_2d, allow_nd, ensure_min_samples, ensure_min_features, estimator, input_name)\u001b[0m\n\u001b[1;32m    900\u001b[0m             \u001b[0;31m# If input is 1D raise error\u001b[0m\u001b[0;34m\u001b[0m\u001b[0;34m\u001b[0m\u001b[0m\n\u001b[1;32m    901\u001b[0m             \u001b[0;32mif\u001b[0m \u001b[0marray\u001b[0m\u001b[0;34m.\u001b[0m\u001b[0mndim\u001b[0m \u001b[0;34m==\u001b[0m \u001b[0;36m1\u001b[0m\u001b[0;34m:\u001b[0m\u001b[0;34m\u001b[0m\u001b[0;34m\u001b[0m\u001b[0m\n\u001b[0;32m--> 902\u001b[0;31m                 raise ValueError(\n\u001b[0m\u001b[1;32m    903\u001b[0m                     \u001b[0;34m\"Expected 2D array, got 1D array instead:\\narray={}.\\n\"\u001b[0m\u001b[0;34m\u001b[0m\u001b[0;34m\u001b[0m\u001b[0m\n\u001b[1;32m    904\u001b[0m                     \u001b[0;34m\"Reshape your data either using array.reshape(-1, 1) if \"\u001b[0m\u001b[0;34m\u001b[0m\u001b[0;34m\u001b[0m\u001b[0m\n",
            "\u001b[0;31mValueError\u001b[0m: Expected 2D array, got 1D array instead:\narray=['[ 0.05074997 -0.14767276  0.26096857 -0.2264208  -0.10184981 -0.1586298\\n  0.25368267  0.2588118  -0.2674932  -0.23498446  0.00722656 -0.28241152\\n -0.47195038 -0.17192    -0.1534517  -0.05381459  0.24813157 -0.25696555\\n  0.02748435 -0.54109323 -0.14625205  0.18226342  0.29901633  0.28128284\\n -0.01727359  0.07601625  0.27040476  0.02174883 -0.19808088  0.05581201\\n -0.1259698   0.09740011 -0.14125979 -0.07643371  0.03825907 -0.11314251\\n -0.05602325 -0.2925168   0.11113138 -0.01365038  0.0622503  -0.04078443\\n  0.19910419  0.09214031  0.11393238 -0.15275022 -0.12526442 -0.00995722\\n -0.16314185  0.20563188 -0.10107744  0.22301179 -0.11139685 -0.10480183\\n  0.0613134  -0.02448421  0.04081099 -0.06561599  0.06399746  0.3012396\\n  0.02568728 -0.17122148 -0.11983866 -0.14602298 -0.32474974  0.09155659\\n  0.16596901 -0.03814676 -0.01307526 -0.19504592  0.05178401  0.07326217\\n  0.20578907 -0.18401769  0.23955569  0.18851034  0.34206787 -0.14978978\\n -0.17475045  0.04277829 -0.1396745   0.13867018  0.1462572   0.07714903\\n  0.07097194  0.14940296 -0.07022908  0.23035154  0.08135571  0.17846581\\n  0.32198617  0.0819445  -0.13294274  0.04904745  0.47524124  0.08207286\\n  0.22792862 -0.1295743  -0.03850533  0.00778205]'\n '[ 0.02905266  0.10419985  0.05420069 -0.09822991 -0.06039133 -0.25596425\\n  0.10041346  0.3588229  -0.12243696 -0.0544883  -0.16501172 -0.260161\\n  0.01287161  0.05090076 -0.16360383 -0.22864662  0.35892704 -0.26994282\\n  0.02064096 -0.12841639  0.09025083  0.12656957 -0.01342742 -0.00079931\\n -0.24013208 -0.00355176 -0.05356104 -0.06706296 -0.13451473 -0.01954658\\n  0.17520694  0.05501365 -0.20436801  0.14886019 -0.04101271  0.27751896\\n -0.03611879 -0.17104553 -0.0827995  -0.15917368  0.11775256  0.12048969\\n  0.03027567 -0.22526239  0.04527505  0.01573483 -0.23648784 -0.00590546\\n -0.0829755   0.07607973 -0.03604528 -0.03347798 -0.08944963  0.01259979\\n -0.16540566  0.0311269  -0.07590539  0.00929498 -0.11691349 -0.02302365\\n -0.01229574  0.0612215  -0.17604469 -0.08571003  0.07565343  0.16987452\\n  0.10827934  0.15167843 -0.14026414  0.04093381 -0.03950407  0.03924954\\n  0.12725091 -0.08577868  0.01713757  0.06925672  0.08510144 -0.05954417\\n -0.11955948  0.09078885 -0.2382691   0.05098469  0.04297071  0.38637462\\n -0.08080932 -0.00067459  0.0571936   0.13523571  0.10640737  0.04455409\\n  0.12270972  0.07918639  0.0658592   0.2129842   0.19947007  0.14533865\\n -0.02705489  0.05545777 -0.00516978  0.08328314]'\n '[-0.00184342  0.07682753 -0.04403769 -0.03299145  0.06642967 -0.03775458\\n -0.09172948  0.1316448  -0.1959923   0.08034753 -0.21431258 -0.21021715\\n -0.11913867  0.02307655 -0.13994578 -0.15883309  0.15722752 -0.09813318\\n  0.08956243 -0.04224576  0.11158669  0.02507987 -0.05384455 -0.07307472\\n  0.0016532   0.03003928  0.09065399 -0.1004805  -0.08608026  0.00224786\\n  0.15059125 -0.05727639  0.02275564  0.178438    0.06600848  0.10996731\\n  0.23015387 -0.17948702 -0.1236343  -0.07877681 -0.03533604 -0.08428578\\n  0.04990663 -0.17240916 -0.17774574 -0.06579979 -0.05734013  0.1365828\\n  0.05274823  0.03046697 -0.2070734  -0.24080157 -0.03885721 -0.09158559\\n  0.05577639 -0.10828982  0.05570805 -0.03438009  0.2281452   0.05298734\\n  0.0098244  -0.05336611 -0.02385661  0.01338687 -0.08565623 -0.13903391\\n -0.03313754  0.00876073 -0.14633644 -0.07890502  0.0654462  -0.12070417\\n -0.09603124 -0.09233177 -0.26606044  0.0537969  -0.08280735  0.00896144\\n  0.01068306  0.0077868  -0.14492807 -0.12213048 -0.15816133  0.22608334\\n -0.04053355  0.14793117  0.13822193  0.03051516  0.03216575  0.1423805\\n  0.00385968  0.04813598 -0.10976435  0.25838047  0.2883241   0.0855516\\n -0.010806    0.03778811 -0.02839387  0.03671562]'\n ...\n '[-0.04635765 -0.01974887  0.1132995   0.35003695 -0.27744773 -0.470371\\n -0.0747568  -0.10189505  0.01313904 -0.20903891 -0.22534522  0.03832562\\n -0.04283056 -0.04735664  0.14393789 -0.18857136  0.25774956  0.03316977\\n  0.32956016 -0.3490203   0.05752704  0.01687339  0.26854336 -0.00830767\\n  0.17678697  0.22571686 -0.45134476 -0.20668186 -0.2308156  -0.05449278\\n  0.20202935  0.1315477   0.05524918 -0.09601566 -0.20598736  0.17092954\\n -0.29959744  0.11385596 -0.11770359 -0.3769751   0.2569423   0.22324291\\n -0.07422032 -0.20313273  0.07067428  0.07934821 -0.05941958  0.10749795\\n  0.13127296  0.06461081  0.29793057  0.24262984 -0.16593821 -0.02191223\\n -0.18109955  0.1866534   0.13816114  0.32825688 -0.1670799  -0.05317961\\n -0.08266378  0.32305595  0.02480941 -0.13376889 -0.10754573 -0.08134131\\n  0.1021114  -0.11169568 -0.1929243   0.01169572 -0.14472109  0.06123595\\n -0.13866249  0.00536928  0.17701016 -0.06978099 -0.08607858 -0.04663779\\n -0.30633056 -0.02128915 -0.04248565 -0.2672123  -0.29052174  0.31996372\\n -0.03841503 -0.07909018  0.12556858 -0.01680851  0.23418595 -0.05091319\\n  0.04866812  0.2717478  -0.14564124  0.2693883   0.30851874 -0.05719088\\n  0.07631299 -0.177528   -0.1316505  -0.02904737]'\n '[-0.0859826  -0.11897627 -0.02020216 -0.12405029 -0.04035911 -0.4128925\\n -0.2905227   0.65379953 -0.5227749   0.08164147 -0.20733857 -0.3081782\\n -0.01041678  0.30403045  0.19282514 -0.5703923   0.08595621  0.1618531\\n  0.0902702  -0.03352203  0.19934772  0.20172699  0.1928134   0.14523345\\n -0.16877054 -0.55853283  0.34413442 -0.11887368 -0.17174369  0.00934622\\n -0.24773028 -0.3331016  -0.28456527 -0.04424671  0.10184886  0.5259371\\n  0.24757317 -0.10171935 -0.15862331  0.07449885 -0.19595134 -0.3767688\\n -0.13677172  0.11572473  0.12504439  0.08375881  0.22788441 -0.27670342\\n -0.29956326 -0.08160674  0.3721271  -0.15546341  0.07606206 -0.35583064\\n  0.12846637  0.13659762  0.05113187  0.1395031  -0.24971308 -0.10681963\\n -0.08146735  0.04839949  0.38852888  0.2720043   0.110049    0.7215912\\n -0.25413743 -0.00932361 -0.40302616  0.15696962 -0.17058289 -0.1121515\\n -0.23183584  0.1927266   0.10784925  0.31424683  0.03095745 -0.35727152\\n -0.06075656  0.34250584  0.3815078   0.48687884 -0.47139898  0.04515869\\n  0.07276262  0.14605694 -0.273931    0.22313556  0.48164326  0.10342523\\n  0.19734484 -0.45967743  0.00517806  0.43641993  0.03243786 -0.06635033\\n -0.02830148 -0.17442307 -0.13512233 -0.22107911]'\n '[ 0.18560201 -0.07038099  0.14184052 -0.09689533 -0.33158448 -0.36602882\\n -0.17443159  0.30971372 -0.4193845  -0.24161285 -0.24099265 -0.39296886\\n -0.3019678   0.19546902  0.04573846  0.40806356  0.14574783 -0.3765931\\n  0.21857843 -0.3381901  -0.05439031  0.07850347  0.6093147   0.03384845\\n  0.08602697  0.33383423 -0.16378427 -0.18326274 -0.11304313 -0.16024792\\n  0.31223735  0.34555158  0.11345211  0.12307917 -0.0850381   0.02327216\\n -0.407252   -0.54294455  0.06274461 -0.1817614  -0.00303042 -0.12751652\\n -0.36850968 -0.3072111  -0.17507571 -0.06887086 -0.18139143 -0.03388661\\n  0.06891908  0.25556818 -0.23072606 -0.35281643 -0.05096501  0.3185775\\n -0.18443261  0.13646838  0.12406291 -0.12916698 -0.3704887   0.12386447\\n -0.0587949   0.21924365  0.05091967  0.12918293  0.09294477  0.14645128\\n  0.14334422  0.1344721  -0.0960048   0.09344538  0.365213    0.18947183\\n  0.10350228  0.05623949  0.2167492  -0.02462362 -0.06577934 -0.29465982\\n  0.04758209 -0.21722934 -0.01713965 -0.39300132 -0.01652469  0.21887156\\n  0.07164889  0.1664251  -0.21511225  0.13219142  0.0918025   0.23731308\\n -0.03508141  0.22771671 -0.28974906  0.03655268  0.00453024  0.14928822\\n  0.21342953 -0.2966712   0.30857843  0.34256768]'].\nReshape your data either using array.reshape(-1, 1) if your data has a single feature or array.reshape(1, -1) if it contains a single sample."
          ]
        }
      ]
    },
    {
      "cell_type": "code",
      "source": [
        "import xgboost as xgb\n",
        "from sklearn.feature_extraction.text import TfidfVectorizer\n",
        "from sklearn.model_selection import train_test_split\n",
        "from sklearn.metrics import accuracy_score\n",
        "\n",
        "from sklearn.naive_bayes import MultinomialNB\n",
        "clf = MultinomialNB()\n",
        "\n",
        "# text data and labels\n",
        "texts = df['text']\n",
        "labels = df['label']\n",
        "\n",
        "labels = labels - 1\n",
        "\n",
        "# split into train and test sets\n",
        "texts_train, texts_test, labels_train, labels_test = train_test_split(texts, labels, test_size=0.2, random_state=42)\n",
        "\n",
        "# convert text data\n",
        "vectorizer = TfidfVectorizer()\n",
        "X_train = vectorizer.fit_transform(texts_train)\n",
        "X_test = vectorizer.transform(texts_test)\n",
        "\n",
        "clf.fit(X_train, labels_train)"
      ],
      "metadata": {
        "id": "dylmjeJPjYyu",
        "colab": {
          "base_uri": "https://localhost:8080/",
          "height": 75
        },
        "outputId": "f39dec95-67b6-4a6c-823a-030fad28f921"
      },
      "execution_count": null,
      "outputs": [
        {
          "output_type": "execute_result",
          "data": {
            "text/plain": [
              "MultinomialNB()"
            ],
            "text/html": [
              "<style>#sk-container-id-1 {color: black;background-color: white;}#sk-container-id-1 pre{padding: 0;}#sk-container-id-1 div.sk-toggleable {background-color: white;}#sk-container-id-1 label.sk-toggleable__label {cursor: pointer;display: block;width: 100%;margin-bottom: 0;padding: 0.3em;box-sizing: border-box;text-align: center;}#sk-container-id-1 label.sk-toggleable__label-arrow:before {content: \"▸\";float: left;margin-right: 0.25em;color: #696969;}#sk-container-id-1 label.sk-toggleable__label-arrow:hover:before {color: black;}#sk-container-id-1 div.sk-estimator:hover label.sk-toggleable__label-arrow:before {color: black;}#sk-container-id-1 div.sk-toggleable__content {max-height: 0;max-width: 0;overflow: hidden;text-align: left;background-color: #f0f8ff;}#sk-container-id-1 div.sk-toggleable__content pre {margin: 0.2em;color: black;border-radius: 0.25em;background-color: #f0f8ff;}#sk-container-id-1 input.sk-toggleable__control:checked~div.sk-toggleable__content {max-height: 200px;max-width: 100%;overflow: auto;}#sk-container-id-1 input.sk-toggleable__control:checked~label.sk-toggleable__label-arrow:before {content: \"▾\";}#sk-container-id-1 div.sk-estimator input.sk-toggleable__control:checked~label.sk-toggleable__label {background-color: #d4ebff;}#sk-container-id-1 div.sk-label input.sk-toggleable__control:checked~label.sk-toggleable__label {background-color: #d4ebff;}#sk-container-id-1 input.sk-hidden--visually {border: 0;clip: rect(1px 1px 1px 1px);clip: rect(1px, 1px, 1px, 1px);height: 1px;margin: -1px;overflow: hidden;padding: 0;position: absolute;width: 1px;}#sk-container-id-1 div.sk-estimator {font-family: monospace;background-color: #f0f8ff;border: 1px dotted black;border-radius: 0.25em;box-sizing: border-box;margin-bottom: 0.5em;}#sk-container-id-1 div.sk-estimator:hover {background-color: #d4ebff;}#sk-container-id-1 div.sk-parallel-item::after {content: \"\";width: 100%;border-bottom: 1px solid gray;flex-grow: 1;}#sk-container-id-1 div.sk-label:hover label.sk-toggleable__label {background-color: #d4ebff;}#sk-container-id-1 div.sk-serial::before {content: \"\";position: absolute;border-left: 1px solid gray;box-sizing: border-box;top: 0;bottom: 0;left: 50%;z-index: 0;}#sk-container-id-1 div.sk-serial {display: flex;flex-direction: column;align-items: center;background-color: white;padding-right: 0.2em;padding-left: 0.2em;position: relative;}#sk-container-id-1 div.sk-item {position: relative;z-index: 1;}#sk-container-id-1 div.sk-parallel {display: flex;align-items: stretch;justify-content: center;background-color: white;position: relative;}#sk-container-id-1 div.sk-item::before, #sk-container-id-1 div.sk-parallel-item::before {content: \"\";position: absolute;border-left: 1px solid gray;box-sizing: border-box;top: 0;bottom: 0;left: 50%;z-index: -1;}#sk-container-id-1 div.sk-parallel-item {display: flex;flex-direction: column;z-index: 1;position: relative;background-color: white;}#sk-container-id-1 div.sk-parallel-item:first-child::after {align-self: flex-end;width: 50%;}#sk-container-id-1 div.sk-parallel-item:last-child::after {align-self: flex-start;width: 50%;}#sk-container-id-1 div.sk-parallel-item:only-child::after {width: 0;}#sk-container-id-1 div.sk-dashed-wrapped {border: 1px dashed gray;margin: 0 0.4em 0.5em 0.4em;box-sizing: border-box;padding-bottom: 0.4em;background-color: white;}#sk-container-id-1 div.sk-label label {font-family: monospace;font-weight: bold;display: inline-block;line-height: 1.2em;}#sk-container-id-1 div.sk-label-container {text-align: center;}#sk-container-id-1 div.sk-container {/* jupyter's `normalize.less` sets `[hidden] { display: none; }` but bootstrap.min.css set `[hidden] { display: none !important; }` so we also need the `!important` here to be able to override the default hidden behavior on the sphinx rendered scikit-learn.org. See: https://github.com/scikit-learn/scikit-learn/issues/21755 */display: inline-block !important;position: relative;}#sk-container-id-1 div.sk-text-repr-fallback {display: none;}</style><div id=\"sk-container-id-1\" class=\"sk-top-container\"><div class=\"sk-text-repr-fallback\"><pre>MultinomialNB()</pre><b>In a Jupyter environment, please rerun this cell to show the HTML representation or trust the notebook. <br />On GitHub, the HTML representation is unable to render, please try loading this page with nbviewer.org.</b></div><div class=\"sk-container\" hidden><div class=\"sk-item\"><div class=\"sk-estimator sk-toggleable\"><input class=\"sk-toggleable__control sk-hidden--visually\" id=\"sk-estimator-id-1\" type=\"checkbox\" checked><label for=\"sk-estimator-id-1\" class=\"sk-toggleable__label sk-toggleable__label-arrow\">MultinomialNB</label><div class=\"sk-toggleable__content\"><pre>MultinomialNB()</pre></div></div></div></div></div>"
            ]
          },
          "metadata": {},
          "execution_count": 8
        }
      ]
    },
    {
      "cell_type": "code",
      "source": [
        "clf.score(X_test, labels_test)"
      ],
      "metadata": {
        "colab": {
          "base_uri": "https://localhost:8080/"
        },
        "id": "w1sN3Gve6rhy",
        "outputId": "6a029b4b-6768-42d0-d877-9b682a85e2e1"
      },
      "execution_count": null,
      "outputs": [
        {
          "output_type": "execute_result",
          "data": {
            "text/plain": [
              "0.532202216066482"
            ]
          },
          "metadata": {},
          "execution_count": 10
        }
      ]
    },
    {
      "cell_type": "code",
      "source": [
        "from sklearn.metrics import classification_report\n",
        "\n",
        "# Predicting the test set results\n",
        "labels_pred = clf.predict(X_test)\n",
        "\n",
        "# Generating the classification report\n",
        "report = classification_report(labels_test, labels_pred)\n",
        "print(report)"
      ],
      "metadata": {
        "colab": {
          "base_uri": "https://localhost:8080/"
        },
        "id": "iehm80-P7cDz",
        "outputId": "f9e488ff-913d-49b4-fac0-a4ec9d392cd9"
      },
      "execution_count": null,
      "outputs": [
        {
          "output_type": "stream",
          "name": "stdout",
          "text": [
            "              precision    recall  f1-score   support\n",
            "\n",
            "           0       0.75      0.66      0.70       607\n",
            "           1       0.00      0.00      0.00       289\n",
            "           2       0.48      0.03      0.05       355\n",
            "           3       0.69      0.57      0.62       659\n",
            "           4       0.42      0.77      0.54       978\n",
            "\n",
            "    accuracy                           0.53      2888\n",
            "   macro avg       0.47      0.40      0.38      2888\n",
            "weighted avg       0.52      0.53      0.48      2888\n",
            "\n"
          ]
        },
        {
          "output_type": "stream",
          "name": "stderr",
          "text": [
            "/usr/local/lib/python3.10/dist-packages/sklearn/metrics/_classification.py:1344: UndefinedMetricWarning: Precision and F-score are ill-defined and being set to 0.0 in labels with no predicted samples. Use `zero_division` parameter to control this behavior.\n",
            "  _warn_prf(average, modifier, msg_start, len(result))\n",
            "/usr/local/lib/python3.10/dist-packages/sklearn/metrics/_classification.py:1344: UndefinedMetricWarning: Precision and F-score are ill-defined and being set to 0.0 in labels with no predicted samples. Use `zero_division` parameter to control this behavior.\n",
            "  _warn_prf(average, modifier, msg_start, len(result))\n",
            "/usr/local/lib/python3.10/dist-packages/sklearn/metrics/_classification.py:1344: UndefinedMetricWarning: Precision and F-score are ill-defined and being set to 0.0 in labels with no predicted samples. Use `zero_division` parameter to control this behavior.\n",
            "  _warn_prf(average, modifier, msg_start, len(result))\n"
          ]
        }
      ]
    },
    {
      "cell_type": "code",
      "source": [
        "%%shell\n",
        "jupyter nbconvert --to html /content/drive/MyDrive/5400_models.ipynb"
      ],
      "metadata": {
        "colab": {
          "base_uri": "https://localhost:8080/"
        },
        "id": "LyjZH-ij2hSF",
        "outputId": "389ae0df-60cd-4501-dbd6-967d8dccba2e"
      },
      "execution_count": 60,
      "outputs": [
        {
          "output_type": "stream",
          "name": "stdout",
          "text": [
            "[NbConvertApp] Converting notebook /content/drive/MyDrive/5400_models.ipynb to html\n",
            "[NbConvertApp] Writing 760347 bytes to /content/drive/MyDrive/5400_models.html\n"
          ]
        },
        {
          "output_type": "execute_result",
          "data": {
            "text/plain": []
          },
          "metadata": {},
          "execution_count": 60
        }
      ]
    },
    {
      "cell_type": "code",
      "source": [],
      "metadata": {
        "id": "jUMV6sli2hvP"
      },
      "execution_count": null,
      "outputs": []
    }
  ]
}